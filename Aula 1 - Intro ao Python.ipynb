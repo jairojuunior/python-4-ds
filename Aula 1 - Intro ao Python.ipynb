{
 "cells": [
  {
   "cell_type": "markdown",
   "metadata": {},
   "source": [
    "# Introdução ao Python para Data Science\n",
    "**Bem-vind@ ao mundo da programação**\n",
    "\n",
    "Conecte-se a mim!\n",
    "<table align=\"left\">\n",
    "    <tr>\n",
    "        <td><a href=\"https://github.com/jairojuunior\"><img src=\"github.svg\" height=50 width=30></a></td>\n",
    "        <td><a href=\"https://www.linkedin.com/in/jairofreitas/\"><img src=\"linkedin-icon.png\" height=30 width=30></a></td>\n",
    "        <td><a href=\"\" alt=\"Jairo da Silva Freitas Júnior\"><img src=\"iu-conecta.jpg\" height=30 width=30></a></td>\n",
    "    </tr>\n",
    "</table>"
   ]
  },
  {
   "cell_type": "markdown",
   "metadata": {},
   "source": [
    "## Índice\n",
    "* [Introdução](#Introdução)\n",
    "* [Por que escolhemos Python?](#Por-que-escolhemos-Python?)\n",
    "* [Olá mundo em Python](#Olá-mundo-em-Python)\n",
    "* [Comentários](#Comentários)\n",
    "* [Tipos de dados e variáveis](#Tipos-de-dados-e-variáveis)\n",
    "* * [Ints e Floats](#Ints-e-Floats)\n",
    "* * [Strings](#Strings)\n",
    "* * [Vetores e Matrizes](#Vetores-e-Matrizes)\n",
    "* * [Tuplas](#Tuplas)\n",
    "* * [Dicionários](#Dicionários)\n",
    "* [Controle de fluxo if... elif... else](#Controle-de-fluxo-if...-elif...-else)\n",
    "* [Laços de repetição](#Laços-de-repetição)\n",
    "* * [For](#For)\n",
    "* * [While](#While)\n",
    "\n",
    "## Introdução\n",
    "Nenhum tópico desta série de bootcamps será exaustivo quanto a abordagem do assunto. Queremos de forma estruturada guiar o caminho para o aprendizado de Data Science.<br>\n",
    "Existe uma enxurrada de conteúdo bom no mercado, mas sabemos que quanto mais opções alguém tem, maior a ansiedade e insegurança quanto a qualidade das suas próprias decisões. <br>\n",
    "Ao fim desta série, você será capaz de resolver problemas básicos de Machine Learning usando Python. \n",
    "<br>\n",
    "\n",
    "\n",
    "## Por que escolhemos Python?\n",
    "\n",
    "*Python is part of the winning formula for **productivity**, **software quality**, and **maintainability** at many companies and institutions around the world*\n",
    "\n",
    "* Códigos Python são de **fácil leitura e compreensão**\n",
    "* **Multiplataforma**\n",
    "* Você pode tanto compilar (transformar em um executável, por exemplo) e distribuir seu programa Python, como pode **interpretá-lo**\n",
    "* Python é **fácil de aprender** (você não precisa conhecer de computação para aprender Python, por isso a linguagem se popularizou tanto entre não-computeiros\n",
    "<img src=\"https://www.embeditelectronics.com/blog/wp-content/uploads/2015/07/learningcurve1-e1437015858837.png\">\n",
    "* Python está cada dia mais popular\n",
    "<img src=\"https://www.kdnuggets.com/images/python-r-other-2016-2017.jpg\">\n",
    "<br>\n"
   ]
  },
  {
   "cell_type": "markdown",
   "metadata": {},
   "source": [
    "## Olá mundo em Python\n",
    "<table align=\"left\">\n",
    "    <tr>\n",
    "        <td><img src=\"info-xxl.png\" height=30 width=30></td>\n",
    "        <td>\"Olá mundo\" é um programa clássico em toda linguagem de programação. Ele consiste em imprimir Olá mundo na saída padrão (neste caso o Jupyter Notebook)</td>\n",
    "    </tr>\n",
    "</table>\n"
   ]
  },
  {
   "cell_type": "code",
   "execution_count": 132,
   "metadata": {},
   "outputs": [
    {
     "name": "stdout",
     "output_type": "stream",
     "text": [
      "Ola mundo\n"
     ]
    }
   ],
   "source": [
    "print(\"Ola mundo\")"
   ]
  },
  {
   "cell_type": "code",
   "execution_count": 133,
   "metadata": {},
   "outputs": [
    {
     "data": {
      "text/plain": [
       "'Olá mundo'"
      ]
     },
     "execution_count": 133,
     "metadata": {},
     "output_type": "execute_result"
    }
   ],
   "source": [
    "\"Olá mundo\""
   ]
  },
  {
   "cell_type": "markdown",
   "metadata": {},
   "source": [
    "<table align=\"left\">\n",
    "    <tr>\n",
    "        <td><img src=\"google-web-search-256.png\" height=30 width=30></td>\n",
    "        <td>Note que das duas formas imprimimos as mensagem, mas na segunda ela apareceu entre aspas. Por que isso?</td>\n",
    "    </tr>\n",
    "</table>"
   ]
  },
  {
   "cell_type": "markdown",
   "metadata": {},
   "source": [
    "## Comentários"
   ]
  },
  {
   "cell_type": "code",
   "execution_count": 134,
   "metadata": {},
   "outputs": [],
   "source": [
    "#Comentário de uma linha\n",
    "\n",
    "#Comentário em bloco em python deve ser feito\n",
    "#comentando-se todas as linhas do bloco (para adesão ao PEP8)"
   ]
  },
  {
   "cell_type": "markdown",
   "metadata": {},
   "source": [
    "## Tipos de dados e variáveis\n",
    "<table align=\"left\">\n",
    "    <tr>\n",
    "        <td><img src=\"info-xxl.png\" height=30 width=30></td>\n",
    "        <td>Uma variável é um pedaço de espaço na memória do computador que armazena algum dado. Estes dados podem ser de vários tipos. Os principais são:</td>\n",
    "    </tr>\n",
    "</table>\n",
    "<br>\n",
    "<br>\n",
    "* **Ints e Floats**: São, respectivamente, números inteiros e decimais\n",
    "* **Strings**: São textos, e sempre são representados entre aspas. Caso contrário o interpretador entenderá como algum nome de variável. Strings são imutáveis\n",
    "* **Lists**: São vetores e matrizes. São mutáveis e seus elementos podem ser acessados por índices inteiros\n",
    "* **Tuples**: São como vertores, porém imutáveis. Isso é interessante quando precisamos garantir que o dado não se altere durante a execução do código \n",
    "* **Dict**: São listas não ordenadas cujo índice não precisa ser um inteiro."
   ]
  },
  {
   "cell_type": "markdown",
   "metadata": {},
   "source": [
    "### Ints e Floats"
   ]
  },
  {
   "cell_type": "code",
   "execution_count": 135,
   "metadata": {},
   "outputs": [
    {
     "name": "stdout",
     "output_type": "stream",
     "text": [
      "10\n",
      "2.5\n",
      "12.5\n",
      "7.5\n",
      "25.0\n",
      "4.0\n",
      "316.22776601683796\n"
     ]
    }
   ],
   "source": [
    "var1 = 10\n",
    "var2 = 2.5\n",
    "\n",
    "print(var1)\n",
    "print(var2)\n",
    "#Você pode fazer operações com variáveis numéricas, ex:\n",
    "print(var1+var2) #Soma\n",
    "print(var1-var2) #Subtração\n",
    "print(var1*var2) #Multiplicação\n",
    "print(var1/var2) #Divisão\n",
    "print(var1**var2) #Exponenciação"
   ]
  },
  {
   "cell_type": "code",
   "execution_count": 136,
   "metadata": {},
   "outputs": [
    {
     "name": "stdout",
     "output_type": "stream",
     "text": [
      "<class 'int'>\n",
      "<class 'float'>\n"
     ]
    }
   ],
   "source": [
    "#Você pode descobrir o tipo de uma variável usando a função type()\n",
    "print(type(var1))\n",
    "print(type(var2))"
   ]
  },
  {
   "cell_type": "code",
   "execution_count": 137,
   "metadata": {},
   "outputs": [
    {
     "name": "stdout",
     "output_type": "stream",
     "text": [
      "10\n",
      "5\n",
      "15\n",
      "5\n",
      "50\n",
      "2.0\n",
      "100000\n"
     ]
    }
   ],
   "source": [
    "#Você também pode mudar o valor das variáveis\n",
    "var2 = 5\n",
    "\n",
    "print(var1)\n",
    "print(var2)\n",
    "#Você pode fazer operações com variáveis numéricas, ex:\n",
    "print(var1+var2) #Soma\n",
    "print(var1-var2) #Subtração\n",
    "print(var1*var2) #Multiplicação\n",
    "print(var1/var2) #Divisão, veja que interessante este resultado\n",
    "print(var1**var2) #Exponenciação"
   ]
  },
  {
   "cell_type": "markdown",
   "metadata": {},
   "source": [
    "### Strings"
   ]
  },
  {
   "cell_type": "code",
   "execution_count": 138,
   "metadata": {},
   "outputs": [
    {
     "name": "stdout",
     "output_type": "stream",
     "text": [
      "Meu nome é Jairo\n",
      "Meus principais interesses são:\n",
      "1-Data Science\n",
      "2-Web Design\n",
      "3-Startup\n"
     ]
    }
   ],
   "source": [
    "nome = \"Jairo\"\n",
    "interesse1 = \"Data Science\"\n",
    "interesse2 = \"Web Design\"\n",
    "interesse3 = \"Startup\"\n",
    "#Se você tentar somar duas strings, você irá concatená-las\n",
    "print(\"Meu nome é \"+nome)\n",
    "#Você pode concatenar quantas strings quiser e pode usar caracteres de escape\n",
    "#\\n é um caractere de escape que quebra a linha\n",
    "#\\t é uma tabulação\n",
    "#\\\\ é uma barra invertida\n",
    "#\\' é uma aspas simples\n",
    "#\\\" é uma aspas duplas\n",
    "#Veja mais em: https://www.pythonbay.com/blog/2017/12/24/caracteres-de-escape-no-python/\n",
    "print(\"Meus principais interesses são:\\n1-\"+interesse1\n",
    "      +\"\\n2-\"+interesse2+\"\\n3-\"+interesse3)"
   ]
  },
  {
   "cell_type": "code",
   "execution_count": 139,
   "metadata": {},
   "outputs": [
    {
     "name": "stdout",
     "output_type": "stream",
     "text": [
      "A primeira letra do meu nome é J\n"
     ]
    }
   ],
   "source": [
    "#Você pode acessar um caractere de uma string através de seu índice\n",
    "print(\"A primeira letra do meu nome é \"+nome[0]) #Em Python a contagem começa em 0"
   ]
  },
  {
   "cell_type": "code",
   "execution_count": 140,
   "metadata": {},
   "outputs": [
    {
     "ename": "TypeError",
     "evalue": "'str' object does not support item assignment",
     "output_type": "error",
     "traceback": [
      "\u001b[0;31m---------------------------------------------------------------------------\u001b[0m",
      "\u001b[0;31mTypeError\u001b[0m                                 Traceback (most recent call last)",
      "\u001b[0;32m<ipython-input-140-99b82eaa87bc>\u001b[0m in \u001b[0;36m<module>\u001b[0;34m()\u001b[0m\n\u001b[1;32m      1\u001b[0m \u001b[0;31m#Mas você não pode alterar um caractere de uma string\u001b[0m\u001b[0;34m\u001b[0m\u001b[0;34m\u001b[0m\u001b[0m\n\u001b[1;32m      2\u001b[0m \u001b[0;31m#Isso que é o que queremos dizer quando falamos que strings são imutáveis\u001b[0m\u001b[0;34m\u001b[0m\u001b[0;34m\u001b[0m\u001b[0m\n\u001b[0;32m----> 3\u001b[0;31m \u001b[0mnome\u001b[0m\u001b[0;34m[\u001b[0m\u001b[0;36m0\u001b[0m\u001b[0;34m]\u001b[0m\u001b[0;34m=\u001b[0m\u001b[0;34m\"X\"\u001b[0m \u001b[0;31m#Retorna um erro\u001b[0m\u001b[0;34m\u001b[0m\u001b[0m\n\u001b[0m",
      "\u001b[0;31mTypeError\u001b[0m: 'str' object does not support item assignment"
     ]
    }
   ],
   "source": [
    "#Mas você não pode alterar um caractere de uma string\n",
    "#Isso que é o que queremos dizer quando falamos que strings são imutáveis\n",
    "nome[0]=\"X\" #Retorna um erro"
   ]
  },
  {
   "cell_type": "code",
   "execution_count": 141,
   "metadata": {},
   "outputs": [
    {
     "name": "stdout",
     "output_type": "stream",
     "text": [
      "JAIRO\n",
      "jairo\n",
      "Jairo\n",
      "Jairo;20;Data Science;Web Design;Startup\n",
      "['Jairo', '20', 'Data Science', 'Web Design', 'Startup']\n"
     ]
    }
   ],
   "source": [
    "#Também podemos usar alguns métodos de strings, veja:\n",
    "maiusculo = nome.upper() #Coloca tudo em maiúsculo\n",
    "minusculo = nome.lower() #Coloca tudo em minúsculo\n",
    "capitalizado = minusculo.capitalize() #Coloca a primeira letra em maiúsculo\n",
    "print(maiusculo)\n",
    "print(minusculo)\n",
    "print(capitalizado)\n",
    "\n",
    "#Agora imagine que você possui um arquivo delimitado, digamos, por ponto e vírgula\n",
    "#Você pode separar cada elemento usando o método split\n",
    "linha_csv = \"Jairo;20;Data Science;Web Design;Startup\"\n",
    "print(linha_csv)\n",
    "linha_separada = linha_csv.split(sep=';') #Quebra a string dado um separador\n",
    "print(linha_separada) #Agora cada item é uma string separada"
   ]
  },
  {
   "cell_type": "markdown",
   "metadata": {},
   "source": [
    "<table align=\"left\">\n",
    "    <tr>\n",
    "        <td><img src=\"google-web-search-256.png\" height=30 width=30></td>\n",
    "        <td>A última linha do output é uma string?</td>\n",
    "    </tr>\n",
    "</table>"
   ]
  },
  {
   "cell_type": "markdown",
   "metadata": {},
   "source": [
    "### Vetores e Matrizes\n",
    "Vetores e matrizes são tipos de dados extremamente comuns em computação e ciência de dados.\n",
    "<br>\n",
    "Relembrando a cara de um vetor:\n",
    "$\\begin{bmatrix}\n",
    "           {0} \\\\\n",
    "           {1} \\\\\n",
    "           \\vdots \\\\\n",
    "           {n}\n",
    "         \\end{bmatrix}$\n",
    "<br>\n",
    "E a cara de uma matriz nxn:\n",
    "$\\begin{bmatrix}\n",
    "           {(0,0)} & {(0,1)} & \\cdots & {(0,n)} \\\\\n",
    "           {(1,0)} & {(1,1)} & \\cdots & {(1,n)} \\\\\n",
    "           \\vdots & \\vdots & \\vdots & \\vdots \\\\\n",
    "           {(n,0)} & {(n,1)} & \\cdots & {(n,n)}\n",
    "         \\end{bmatrix}$\n",
    "<br>\n",
    "Algumas características:\n",
    "* São facilmente iteraveis\n",
    "* São mutáveis\n",
    "* Seus elementos podem ser de qualquer tipo e de tipos distintos entre si\n",
    "* É possível realizar operações de álgebra linear (para vetores e matrizes numéricos)"
   ]
  },
  {
   "cell_type": "code",
   "execution_count": 142,
   "metadata": {},
   "outputs": [
    {
     "name": "stdout",
     "output_type": "stream",
     "text": [
      "[9, 1, 4, 5, 4, 2]\n",
      "Meu primeiro vetor [9, 1, 4, 5, 4, 2]\n"
     ]
    }
   ],
   "source": [
    "meu_vetor = [9,1,4,5,4,2]\n",
    "print(meu_vetor)\n",
    "print(\"Meu primeiro vetor \"+str(meu_vetor)) "
   ]
  },
  {
   "cell_type": "markdown",
   "metadata": {},
   "source": [
    "<table align=\"left\">\n",
    "    <tr>\n",
    "        <td><img src=\"google-web-search-256.png\" height=30 width=30></td>\n",
    "        <td>Por que não podemos concatenar um vetor a uma string sem realizar uma conversão? Isso vale para outros tipos de dados?</td>\n",
    "    </tr>\n",
    "</table>"
   ]
  },
  {
   "cell_type": "code",
   "execution_count": 143,
   "metadata": {},
   "outputs": [
    {
     "name": "stdout",
     "output_type": "stream",
     "text": [
      "Primeiro elemento:9\n",
      "Segundo elemento:1\n",
      "Último elemento:2\n",
      "Último elemento:2\n",
      "Penúltimo elemento:4\n",
      "Primeiro elemento:9\n",
      "[9, 1, 4]\n",
      "[1, 4, 5]\n"
     ]
    }
   ],
   "source": [
    "#Para acessar um elemento do vetor, basta indicar seu índice\n",
    "#Os índices sempre começam em 0 e vão até (tamanho do vetor - 1)\n",
    "print(\"Primeiro elemento:\"+str(meu_vetor[0]))\n",
    "print(\"Segundo elemento:\"+str(meu_vetor[1]))\n",
    "print(\"Último elemento:\"+str(meu_vetor[5]))\n",
    "#Você pode indexar de trás pra frente iniciando em -1 até (-tamanho do vetor)\n",
    "print(\"Último elemento:\"+str(meu_vetor[-1]))\n",
    "print(\"Penúltimo elemento:\"+str(meu_vetor[-2]))\n",
    "print(\"Primeiro elemento:\"+str(meu_vetor[-6]))\n",
    "\n",
    "#Você pode realizar recortes nos vetores\n",
    "primeiro_ao_terceiro = meu_vetor[0:3]\n",
    "print(primeiro_ao_terceiro)\n",
    "segundo_ao_quarto = meu_vetor[1:4]\n",
    "print(segundo_ao_quarto)"
   ]
  },
  {
   "cell_type": "code",
   "execution_count": 144,
   "metadata": {},
   "outputs": [
    {
     "name": "stdout",
     "output_type": "stream",
     "text": [
      "[[0, 1, 2], [3, 4, 5], [6, 7, 8]]\n",
      "Primeira linha da matriz: [0, 1, 2]\n",
      "Segunda linha da matriz: [3, 4, 5]\n",
      "Terceira linha da matriz: [6, 7, 8]\n",
      "--------------------------------------------------------------------------------\n",
      "Segundo elemento da primeira linha da matriz: 1\n",
      "Último elemento da última linha da matriz: 8\n",
      "--------------------------------------------------------------------------------\n",
      "Primeira coluna da matriz: [0, 1, 2]\n",
      "Segunda coluna da matriz: [3, 4, 5]\n",
      "Terceira coluna da matriz: [6, 7, 8]\n"
     ]
    }
   ],
   "source": [
    "minha_matriz = [[0,1,2],[3,4,5],[6,7,8]]\n",
    "print(minha_matriz)\n",
    "#Para acessar uma linha da matriz, basta usar a sintaxe minha_matriz[numero_da_linha]\n",
    "print(\"Primeira linha da matriz: \"+str(minha_matriz[0]))\n",
    "print(\"Segunda linha da matriz: \"+str(minha_matriz[1]))\n",
    "print(\"Terceira linha da matriz: \"+str(minha_matriz[2]))\n",
    "print(\"-\"*80)\n",
    "#Para acessar um item da matriz, basta usar a sintaxe minha_matriz[numero_da_linha][numero_da_coluna]\n",
    "print(\"Segundo elemento da primeira linha da matriz: \"+str(minha_matriz[0][1]))\n",
    "print(\"Último elemento da última linha da matriz: \"+str(minha_matriz[-1][-1]))\n",
    "print(\"-\"*80)\n",
    "#Para acessar uma linha da matriz, basta usar a sintaxe minha_matriz[numero_da_linha]\n",
    "print(\"Primeira coluna da matriz: \"+str(minha_matriz[:][0]))\n",
    "print(\"Segunda coluna da matriz: \"+str(minha_matriz[:][1]))\n",
    "print(\"Terceira coluna da matriz: \"+str(minha_matriz[:][2]))"
   ]
  },
  {
   "cell_type": "code",
   "execution_count": 145,
   "metadata": {},
   "outputs": [
    {
     "name": "stdout",
     "output_type": "stream",
     "text": [
      "Primeiro elemento:9\n",
      "Primeiro elemento:99\n",
      "Primeira linha da matriz: [0, 1, 2]\n",
      "Primeira linha da matriz: [100, 101, 102]\n"
     ]
    }
   ],
   "source": [
    "#Podemos alterar os elementos de um vetor ou matriz\n",
    "print(\"Primeiro elemento:\"+str(meu_vetor[0]))\n",
    "meu_vetor[0] = 99\n",
    "print(\"Primeiro elemento:\"+str(meu_vetor[0]))\n",
    "\n",
    "#Mesma história com matrizes\n",
    "print(\"Primeira linha da matriz: \"+str(minha_matriz[0]))\n",
    "minha_matriz[0] = [100,101,102]\n",
    "print(\"Primeira linha da matriz: \"+str(minha_matriz[0]))"
   ]
  },
  {
   "cell_type": "code",
   "execution_count": 146,
   "metadata": {},
   "outputs": [
    {
     "name": "stdout",
     "output_type": "stream",
     "text": [
      "Meu vetor[99, 1, 4, 5, 4, 2]\n",
      "Minha cópia[99, 1, 4, 5, 4, 2]\n",
      "Meu vetor[0, 1, 4, 5, 4, 2]\n",
      "Minha cópia[99, 1, 4, 5, 4, 2]\n",
      "--------------------------------------------------------------------------------\n",
      "Meu vetor[0, 1, 4, 5, 4, 2]\n",
      "Minha cópia[0, 1, 4, 5, 4, 2]\n",
      "Meu vetor[9, 1, 4, 5, 4, 2]\n",
      "Minha cópia[9, 1, 4, 5, 4, 2]\n"
     ]
    }
   ],
   "source": [
    "#Para copiar vetores e matrizes, basta usar copy.\n",
    "meu_vetor_copia = meu_vetor.copy()\n",
    "print(\"Meu vetor\"+str(meu_vetor))\n",
    "print(\"Minha cópia\"+str(meu_vetor_copia))\n",
    "meu_vetor[0] = 0\n",
    "print(\"Meu vetor\"+str(meu_vetor))\n",
    "print(\"Minha cópia\"+str(meu_vetor_copia))\n",
    "print(\"-\"*80)\n",
    "\n",
    "#Veja o que aconteceria se não usássemos o copy\n",
    "meu_vetor_copia = meu_vetor\n",
    "print(\"Meu vetor\"+str(meu_vetor))\n",
    "print(\"Minha cópia\"+str(meu_vetor_copia))\n",
    "meu_vetor[0]=9\n",
    "print(\"Meu vetor\"+str(meu_vetor))\n",
    "print(\"Minha cópia\"+str(meu_vetor_copia))"
   ]
  },
  {
   "cell_type": "markdown",
   "metadata": {},
   "source": [
    "<table align=\"left\">\n",
    "    <tr>\n",
    "        <td><img src=\"warning-3-xxl.png\" height=30 width=30></td>\n",
    "        <td><b>Ao copiar uma lista, sempre use o método <i>copy()</i></b></td>\n",
    "    </tr>\n",
    "</table>\n"
   ]
  },
  {
   "cell_type": "code",
   "execution_count": 147,
   "metadata": {},
   "outputs": [
    {
     "name": "stdout",
     "output_type": "stream",
     "text": [
      "Linha separada: ['Jairo', '20', 'Data Science', 'Web Design', 'Startup']\n",
      "O tipo da linha separada é: <class 'list'>\n",
      "Linha separada: ['Jairo', 20, 'Data Science', 'Web Design', 'Startup']\n",
      "Jairo - <class 'str'>\n",
      "20 - <class 'int'>\n",
      "Data Science - <class 'str'>\n",
      "Web Design - <class 'str'>\n",
      "Startup - <class 'str'>\n"
     ]
    }
   ],
   "source": [
    "#Lembram da nossa linha_separada? \n",
    "print(\"Linha separada: \"+str(linha_separada))\n",
    "print(\"O tipo da linha separada é: \"+str(type(linha_separada))) #Isso mesmo, list\n",
    "#Mas veja que o número 20 está como string. Vamos mudar isso!\n",
    "linha_separada[1]=int(linha_separada[1])\n",
    "print(\"Linha separada: \"+str(linha_separada))\n",
    "\n",
    "#Veja o tipo de dado de cada item do vetor:\n",
    "#(CALMA, vamos aprender a deixar isso mais automático)\n",
    "print(str(linha_separada[0])+\" - \"+str(type(linha_separada[0])))\n",
    "print(str(linha_separada[1])+\" - \"+str(type(linha_separada[1])))\n",
    "print(str(linha_separada[2])+\" - \"+str(type(linha_separada[2])))\n",
    "print(str(linha_separada[3])+\" - \"+str(type(linha_separada[3])))\n",
    "print(str(linha_separada[4])+\" - \"+str(type(linha_separada[4])))\n",
    "\n",
    "#Como pudemos ver, vetores e matrizes podem ter elementos de diversos tipos de dados"
   ]
  },
  {
   "cell_type": "markdown",
   "metadata": {},
   "source": [
    "### Tuplas"
   ]
  },
  {
   "cell_type": "code",
   "execution_count": 148,
   "metadata": {},
   "outputs": [
    {
     "name": "stdout",
     "output_type": "stream",
     "text": [
      "(1, 2, 3, 4)\n",
      "[1, 2, 3, 4]\n",
      "2\n"
     ]
    }
   ],
   "source": [
    "#A única diferena prática e uma lista pra uma tupla é que esta é imutável\n",
    "minha_tupla = (1, 2, 3, 4)\n",
    "meu_vetor = [1, 2, 3, 4]\n",
    "print(minha_tupla)\n",
    "print(meu_vetor)\n",
    "print(minha_tupla[1])"
   ]
  },
  {
   "cell_type": "code",
   "execution_count": 149,
   "metadata": {},
   "outputs": [
    {
     "ename": "TypeError",
     "evalue": "'tuple' object does not support item assignment",
     "output_type": "error",
     "traceback": [
      "\u001b[0;31m---------------------------------------------------------------------------\u001b[0m",
      "\u001b[0;31mTypeError\u001b[0m                                 Traceback (most recent call last)",
      "\u001b[0;32m<ipython-input-149-95df144f6e60>\u001b[0m in \u001b[0;36m<module>\u001b[0;34m()\u001b[0m\n\u001b[0;32m----> 1\u001b[0;31m \u001b[0mminha_tupla\u001b[0m\u001b[0;34m[\u001b[0m\u001b[0;36m1\u001b[0m\u001b[0;34m]\u001b[0m\u001b[0;34m=\u001b[0m\u001b[0;36m9\u001b[0m\u001b[0;34m\u001b[0m\u001b[0m\n\u001b[0m",
      "\u001b[0;31mTypeError\u001b[0m: 'tuple' object does not support item assignment"
     ]
    }
   ],
   "source": [
    "minha_tupla[1]=9"
   ]
  },
  {
   "cell_type": "code",
   "execution_count": 150,
   "metadata": {},
   "outputs": [
    {
     "name": "stdout",
     "output_type": "stream",
     "text": [
      "1\n",
      "2\n",
      "10\n",
      "20\n"
     ]
    }
   ],
   "source": [
    "#Se uma função retornar uma tupla e você quiser alterar estes valores,\n",
    "#convém recebê-los como variáveis\n",
    "\n",
    "var1, var2 = (1,2)\n",
    "print(var1)\n",
    "print(var2)\n",
    "var1=10\n",
    "var2=20\n",
    "print(var1)\n",
    "print(var2)"
   ]
  },
  {
   "cell_type": "markdown",
   "metadata": {},
   "source": [
    "### Dicionários\n",
    "Dicionários são listas **não ordenadas**, **mutáveis** e que possuem **chaves no lugar de índices** <br>\n",
    "A sintaxe de um dicionário é {'campo1': item1, 'campo2': item2, ...}"
   ]
  },
  {
   "cell_type": "code",
   "execution_count": 151,
   "metadata": {},
   "outputs": [
    {
     "name": "stdout",
     "output_type": "stream",
     "text": [
      "{'nome': 'Jairo', 'idade': 20, 'interesse1': 'Data Science', 'interesse2': 'Web Design', 'interesse3': 'startup'}\n",
      "Nome: Jairo\n"
     ]
    }
   ],
   "source": [
    "meu_dicionario = {'nome': 'Jairo', 'idade': 20, 'interesse1': 'Data Science', \n",
    "                  'interesse2': 'Web Design', 'interesse3': 'startup'}\n",
    "print(meu_dicionario)\n",
    "#Para buscar um elemento, digamos o nome, num dicionário é simples:\n",
    "print(\"Nome: \"+meu_dicionario['nome'])"
   ]
  },
  {
   "cell_type": "markdown",
   "metadata": {},
   "source": [
    "<table align=\"left\">\n",
    "    <tr>\n",
    "        <td><img src=\"google-web-search-256.png\" height=30 width=30></td>\n",
    "        <td>Por que não usamos str() no último print?</td>\n",
    "    </tr>\n",
    "</table>"
   ]
  },
  {
   "cell_type": "code",
   "execution_count": 171,
   "metadata": {},
   "outputs": [
    {
     "name": "stdout",
     "output_type": "stream",
     "text": [
      "A idade do jairon é: 22\n"
     ]
    }
   ],
   "source": [
    "#Vamos fazer um exemplo mais prático\n",
    "#Talvez este exemplo lembre os arquivos JSON\n",
    "usuarios = {\n",
    "        'jairon': {'idade': 22, 'sexo': 'M', 'nivel_acesso': 'administrador'},\n",
    "        'rodrigon': {'sexo': 'M', 'nivel_acesso': 'publicador'},\n",
    "        'beatrizz': {'sexo': 'F', 'nivel_acesso': 'moderador'},   \n",
    "           }\n",
    "#Suponha que eu quero descobrir a idade do usuário jairon\n",
    "print(\"A idade do jairon é: \"+str(usuarios['jairon']['idade']))\n",
    "#Isto é o que chamamos de aninhamento de dicionários, pois cada \n",
    "#usuário é um dicionário dentro de outro dicionário (usuarios).\n",
    "#Repare que não preciso ter os mesmos campos nos dicionários aninhados"
   ]
  },
  {
   "cell_type": "markdown",
   "metadata": {},
   "source": [
    "## Controle de fluxo if... elif... else\n",
    "Frequentemente queremos que nosso código se comporte de formas diferentes conforme o valor verdade de uma condição. Vamos aprender a implementar isto em Python!<br>"
   ]
  },
  {
   "cell_type": "code",
   "execution_count": 172,
   "metadata": {},
   "outputs": [
    {
     "name": "stdout",
     "output_type": "stream",
     "text": [
      "Estudando pouco hein? A ProGRAD te chutou?\n"
     ]
    }
   ],
   "source": [
    "#Suponha que temos um algoritmo que dá feedback de estudo pros alunos \n",
    "#de uma universidade com base em sua dedicação semanal\n",
    "horas_estudo_semanais = 10\n",
    "\n",
    "if horas_estudo_semanais >= 50 : #se for verdade\n",
    "    print(\"Você ganha pra fazer isso?\") #faça isso\n",
    "elif horas_estudo_semanais >= 30: #senão, teste isso\n",
    "    print(\"Você se esforça bastante\")\n",
    "elif horas_estudo_semanais >= 20: \n",
    "    print(\"Você está num nível basal\")\n",
    "else: #se nenhuma condição for verdadeira: execute isso\n",
    "    print(\"Estudando pouco hein? A ProGRAD te chutou?\")"
   ]
  },
  {
   "cell_type": "markdown",
   "metadata": {},
   "source": [
    "Para brincar um pouquinho com condicionais, vamos simular um dispensador de dinheiro de caixa eletrônico.<br>\n",
    "<br>\n",
    "A função input() recebe uma entrada do usuário<br>\n",
    "<br>\n",
    "Nosso caixa eletrônico funciona assim:<br> \n",
    "* Se o valor do saque for maior que o total disponível no dispensador, o saque é negado\n",
    "* O cliente tem saldo infinito\n",
    "* Sempre entregamos o menor número de cédulas pro cliente"
   ]
  },
  {
   "cell_type": "code",
   "execution_count": 170,
   "metadata": {},
   "outputs": [
    {
     "name": "stdout",
     "output_type": "stream",
     "text": [
      "100\n",
      "Saque realizado com sucesso!\n",
      "1 notas de R$50\n",
      "2 notas de R$20\n",
      "1 notas de R$10\n"
     ]
    }
   ],
   "source": [
    "notas10=5\n",
    "notas20=5\n",
    "notas50=1\n",
    "total_disponivel_atm = notas10*10 + notas20*20 + notas50*50\n",
    "\n",
    "saque = int(input()) #Input é string por padrão\n",
    "\n",
    "if saque <= total_disponivel_atm:\n",
    "    resto = saque\n",
    "    qtd50 = int(resto/50)\n",
    "    if qtd50 > notas50:\n",
    "        qtd50 = notas50\n",
    "    resto = resto - 50*qtd50\n",
    "    \n",
    "    qtd20 = int(resto/20)\n",
    "    if qtd20 > notas20:\n",
    "        qtd20 = notas20\n",
    "    resto = resto - 20*qtd20\n",
    "    \n",
    "    qtd10 = int(resto/10)\n",
    "    if qtd10 > notas10:\n",
    "        qtd10 = notas10\n",
    "    resto = resto - 10*qtd10    \n",
    "    \n",
    "    print(\"Saque realizado com sucesso!\")\n",
    "    print(str(qtd50)+\" notas de R$50\"\n",
    "         +\"\\n\"+str(qtd20)+\" notas de R$20\"\n",
    "         +\"\\n\"+str(qtd10)+\" notas de R$10\")\n",
    "else:\n",
    "    print(\"Este terminal possui apenas R$\"+str(total_disponivel_atm)+\",00. Dirija-se a outro caixa.\")"
   ]
  },
  {
   "cell_type": "markdown",
   "metadata": {},
   "source": [
    "## Laços de repetição\n",
    "É comum querermos repetir uma ação um certo número de vezes. Felizmente, não precisamos copiar e colar o código todas as vezes. Para isso usamos os laços de repetição."
   ]
  },
  {
   "cell_type": "markdown",
   "metadata": {},
   "source": [
    "### For"
   ]
  },
  {
   "cell_type": "code",
   "execution_count": 181,
   "metadata": {},
   "outputs": [
    {
     "name": "stdout",
     "output_type": "stream",
     "text": [
      "0\n",
      "1\n",
      "2\n",
      "3\n",
      "4\n",
      "5\n",
      "6\n",
      "7\n",
      "8\n",
      "9\n",
      "10\n"
     ]
    }
   ],
   "source": [
    "#O for mais simples é um contador básico. Veja\n",
    "contar_ate = 10\n",
    "\n",
    "for i in range(contar_ate+1):\n",
    "    print(i)"
   ]
  },
  {
   "cell_type": "code",
   "execution_count": 188,
   "metadata": {},
   "outputs": [
    {
     "name": "stdout",
     "output_type": "stream",
     "text": [
      "+jairon:\n",
      "|__idade: 22\n",
      "|__sexo: M\n",
      "|__nivel_acesso: administrador\n",
      "+rodrigon:\n",
      "|__sexo: M\n",
      "|__nivel_acesso: publicador\n",
      "+beatrizz:\n",
      "|__sexo: F\n",
      "|__nivel_acesso: moderador\n"
     ]
    }
   ],
   "source": [
    "#Mas o laço for é mais utilizado para iterar em estruturas de dados\n",
    "#Vamos imprimir os dados de cada usuário da variável usuarios\n",
    "#Vamos formatar a saída com identação, para isso usaremos laços aninhados\n",
    "\n",
    "for usuario in usuarios:\n",
    "    print(\"+\"+usuario+\":\")\n",
    "    for campo in usuarios[usuario]:\n",
    "        print(\"|__\"+campo+\": \"+str(usuarios[usuario][campo]))\n",
    "        \n",
    "#Viu como é fácil?"
   ]
  },
  {
   "cell_type": "markdown",
   "metadata": {},
   "source": [
    "### While\n",
    "Quando não conseguimos iterar sobre elementos, o mais indicado é utilizar o while.<br>\n",
    "O while persiste na execução enquanto uma condição for verdadeira.<br><br>\n",
    "Suponha que temos uma calculadora que pega a entrada do usuário e soma este número ao valor que está na memória.<br>\n",
    "Ela só para se o usuário digitar \"sair\""
   ]
  },
  {
   "cell_type": "code",
   "execution_count": 191,
   "metadata": {},
   "outputs": [
    {
     "name": "stdout",
     "output_type": "stream",
     "text": [
      "Insira um valor para somar ou digite sair10\n",
      "Total até agora:10\n",
      "Insira um valor para somar ou digite sair20\n",
      "Total até agora:30\n",
      "Insira um valor para somar ou digite sair30\n",
      "Total até agora:60\n",
      "Insira um valor para somar ou digite sair40\n",
      "Total até agora:100\n",
      "Insira um valor para somar ou digite sairsair\n"
     ]
    }
   ],
   "source": [
    "valor = 0\n",
    "entrada = input(\"Insira um valor para somar ou digite sair\")\n",
    "while entrada.lower() != \"sair\": #enquanto o usuário não digitar sair, ele ficará preso no laço\n",
    "    valor+=int(entrada)\n",
    "    print(\"Total até agora:\"+str(valor))\n",
    "    entrada = input(\"Insira um valor para somar ou digite sair\")\n"
   ]
  },
  {
   "cell_type": "markdown",
   "metadata": {},
   "source": [
    "<table align=\"left\">\n",
    "    <tr>\n",
    "        <td><img src=\"warning-3-xxl.png\" height=30 width=30></td>\n",
    "        <td><b>Certifique-se de que é possível sair do while.</b> Se a confição avaliada for sempre verdadeira o programa travará.</td>\n",
    "    </tr>\n",
    "</table>\n"
   ]
  },
  {
   "cell_type": "markdown",
   "metadata": {},
   "source": [
    "<p style=\"text-align:center\"> <b>Jairo Freitas</b><br>Conecte-se a mim!</p>\n",
    "<table align=\"center\">\n",
    "    <tr>\n",
    "        <td><a href=\"https://github.com/jairojuunior\"><img src=\"github.svg\" height=50 width=30></a></td>\n",
    "        <td><a href=\"https://www.linkedin.com/in/jairofreitas/\"><img src=\"linkedin-icon.png\" height=30 width=30></a></td>\n",
    "        <td><a href=\"\" alt=\"Jairo da Silva Freitas Júnior\"><img src=\"iu-conecta.jpg\" height=30 width=30></a></td>\n",
    "    </tr>\n",
    "</table>"
   ]
  }
 ],
 "metadata": {
  "kernelspec": {
   "display_name": "Python 3",
   "language": "python",
   "name": "python3"
  },
  "language_info": {
   "codemirror_mode": {
    "name": "ipython",
    "version": 3
   },
   "file_extension": ".py",
   "mimetype": "text/x-python",
   "name": "python",
   "nbconvert_exporter": "python",
   "pygments_lexer": "ipython3",
   "version": "3.6.4"
  }
 },
 "nbformat": 4,
 "nbformat_minor": 2
}
