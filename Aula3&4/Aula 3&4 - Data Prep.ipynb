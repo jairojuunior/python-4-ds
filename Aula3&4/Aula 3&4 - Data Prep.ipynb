{
 "cells": [
  {
   "cell_type": "markdown",
   "metadata": {},
   "source": [
    "# Data Preparation com Numpy e Pandas\n",
    "**Bem-vind@ ao mundo da ciência de dados**\n",
    "\n",
    "Conecte-se a mim!\n",
    "<table align=\"left\">\n",
    "    <tr>\n",
    "        <td><a href=\"https://github.com/jairojuunior\"><img src=\"github.svg\" height=50 width=30></a></td>\n",
    "        <td><a href=\"https://www.linkedin.com/in/jairofreitas/\"><img src=\"linkedin-icon.png\" height=30 width=30></a></td>\n",
    "        <td><a href=\"\" alt=\"Jairo da Silva Freitas Júnior\"><img src=\"iu-conecta.jpg\" height=30 width=30></a></td>\n",
    "    </tr>\n",
    "</table>"
   ]
  },
  {
   "cell_type": "markdown",
   "metadata": {},
   "source": [
    "## Índice\n",
    "* [Introdução](#Introdução)\n",
    "* [Pandas e Numpy](#Pandas-e-NumPy)\n",
    "* [Case 1: Faltas em Consultas Médicas](#Case-1:-Faltas-em-Consultas-Médicas)\n",
    "* * [Data Ingestion com Pandas](#Data-Ingestion-com-Pandas)\n",
    "* * [Data Cleansing](#Data-Cleansing)\n",
    "* * * [.astype() e .to_datetime()](#.astype-.to_datetime)\n",
    "* * * [.apply()](#.apply)\n",
    "* * * [.dt.date](#.dt.date)\n",
    "* * * [.dt.dayofweek](#.dt.dayofweek)\n",
    "* * [Data Exploration](#Data-Exploration)\n",
    "* * * [.loc](#.loc[])\n",
    "* * * [.drop_duplicates()](#.drop_duplicates)\n",
    "* * * [.index](#.index)\n",
    "* [Case 2: Análise de dados da bolsa de valores](#Case-2:-Análise-de-dados-da-bolsa-de-valores)\n",
    "* * [Calculando correlações com Pandas](#Calculando-correlações-com-Pandas)\n",
    "* * [.where()](#.where)\n",
    "* * [.dropna()](#.dropna)\n",
    "* * [.tolist()](#.tolist)\n",
    "* * [Construindo uma função que calcula uma matriz de correlações](#Construindo-uma-função-que-calcula-uma-matriz-de-correlações)\n",
    "* * [Plotando os papéis com pandas.plot](#Plotando-os-papéis-com-pandas.plot)\n",
    "* * [Bônus: Plotando um Candlestick](#Bônus:-Plotando-um-Candlestick)\n",
    "\n",
    "\n",
    "## Introdução\n",
    "<img src=\"aula3-images/data-factory.png\" align=\"center\">\n",
    "Data preparation é uma das etapas mais críticas no pipeline do cientista ou analista de dados. Consiste em preparar dados brutos e separados para análises e modelagens futuras. Esta etapa precisa produzir **dados válidos** (tipos e formatos), **completos**, **consistentes** (sem contradições) e **confiáveis**.<br>\n",
    "As principais e mais genéricas etapas deste processamento são:\n",
    "* **Data ingestion**: Geralmente é a etapa de importação do dado\n",
    "* **Data fusion**: Integração de fontes diversas de dados\n",
    "* **Data cleansing**: Detecção e correção de registros inválidos, inconsistentes ou não confiáveis\n",
    "* **Data augmentation**: Criação de novos registros a partir de variações dos registros disponíveis (ex: imagens rotacionadas)\n",
    "<br>\n",
    "<br>\n",
    "<img src=\"aula3-images/dataprep-pipeline.jpg\" align=\"center\">"
   ]
  },
  {
   "cell_type": "markdown",
   "metadata": {},
   "source": [
    "## Pandas e NumPy\n",
    "<img src=\"aula3-images/pandas.png\">\n",
    "**Pandas** é uma biblioteca que provê de forma fácil de usar e com alta performance estruturas de dados para processamento e análise de dados. Embora não seja uma comparação justa, é conhecida popularmente como o Excel do Python, por sua facilidade de uso e versatilidade.\n",
    "<br><br>\n",
    "<img src=\"aula3-images/numpy.png\" width=340 height=165>\n",
    "**NumPy** é uma das principais bibliotecas para computação científica em Python. Oferece ferramentas para facilmente realizar cálculos vetoriais e operações de álgebra linear.\n",
    "<br><br>\n",
    "Via de regra, utilizamos estas **duas bibliotecas em conjunto**. Pandas nos oferecem uma forma fácil de processar os dados e o NumPy permite que realizemos operações matemáticas interessantes sobre os dados armazenados nos DataFrames. "
   ]
  },
  {
   "cell_type": "markdown",
   "metadata": {},
   "source": [
    "## Case 1: Faltas em Consultas Médicas\n",
    "### Data Ingestion com Pandas"
   ]
  },
  {
   "cell_type": "markdown",
   "metadata": {},
   "source": [
    "### Faltas (no shows) em Consultas Médicas \n",
    "#### Por que em 30% das consultas o paciente falta?\n",
    "**Dataset**: Medical Appointment No Shows (https://www.kaggle.com/joniarroba/noshowappointments/version/5#_=_) <br>\n",
    "**Data de Extração**: 19/05/2018 <br>\n",
    "**Formato**: CSV\n",
    "#### Dicionário dos dados\n",
    "<table>\n",
    "    <tr>\n",
    "        <th style=\"text-align:left\">Atributo</th>\n",
    "        <th style=\"text-align:left\">Descrição</th>\n",
    "    </tr>\n",
    "    <tr>\n",
    "        <td style=\"text-align:left style=\"text-align:left\"\">PatientId</td>\n",
    "        <td style=\"text-align:left\" style=\"text-align:left style=\"text-align:left\"\">Identification of a patient</td>\n",
    "    </tr>\n",
    "    <tr>\n",
    "        <td style=\"text-align:left\">AppointmentID</td>\n",
    "        <td style=\"text-align:left\">Identification of each appointment</td>\n",
    "    </tr>\n",
    "    <tr>\n",
    "        <td style=\"text-align:left\">Gender</td>\n",
    "        <td style=\"text-align:left\">Male or Female</td>\n",
    "    </tr>\n",
    "    <tr>\n",
    "        <td style=\"text-align:left\">DataMarcacaoConsulta</td>\n",
    "        <td style=\"text-align:left\">The day of the actuall appointment, when they have to visit the doctor</td>\n",
    "    </tr>\n",
    "    <tr>\n",
    "        <td style=\"text-align:left\">DataAgendamento</td>\n",
    "        <td style=\"text-align:left\">The day someone called or registered the appointment, this is before appointment of course</td>\n",
    "    </tr>\n",
    "    <tr>\n",
    "        <td style=\"text-align:left\">Age</td>\n",
    "        <td style=\"text-align:left\" style=\"text-align:left\">How old is the patient.</td>\n",
    "    </tr>\n",
    "    <tr>\n",
    "        <td style=\"text-align:left\">Neighbourhood</td>\n",
    "        <td style=\"text-align:left\">Where the appointment takes place</td>\n",
    "    </tr>\n",
    "    <tr>\n",
    "        <td style=\"text-align:left\">Scholarship</td>\n",
    "        <td style=\"text-align:left\">Ture of False. Observation, this is a broad topic, consider reading this article https://en.wikipedia.org/wiki/Bolsa_Fam%C3%ADlia</td>\n",
    "    </tr>\n",
    "    <tr>\n",
    "        <td style=\"text-align:left\">Hipertension</td>\n",
    "        <td style=\"text-align:left\" style=\"text-align:left\">True or False</td>\n",
    "    </tr>\n",
    "    <tr>\n",
    "        <td style=\"text-align:left\">Diabetes</td>\n",
    "        <td style=\"text-align:left\">True or False</td>\n",
    "    </tr>\n",
    "    <tr>\n",
    "        <td style=\"text-align:left\">Alcoholism</td>\n",
    "        <td style=\"text-align:left\">True or False</td>\n",
    "    </tr>\n",
    "    <tr>\n",
    "        <td style=\"text-align:left\">Handcap</td>\n",
    "        <td style=\"text-align:left\">True or False</td>\n",
    "    </tr>\n",
    "    <tr>\n",
    "        <td style=\"text-align:left\">SMS_received</td>\n",
    "        <td style=\"text-align:left\">1 or more messages sent to the patient</td>\n",
    "    </tr>\n",
    "    <tr>\n",
    "        <td style=\"text-align:left\">No-show</td>\n",
    "        <td style=\"text-align:left\">True or False</td>\n",
    "    </tr>\n",
    "</table>"
   ]
  },
  {
   "cell_type": "code",
   "execution_count": 1,
   "metadata": {},
   "outputs": [],
   "source": [
    "import numpy as np\n",
    "import pandas as pd"
   ]
  },
  {
   "cell_type": "code",
   "execution_count": 16,
   "metadata": {},
   "outputs": [],
   "source": [
    "data = pd.read_csv('datasets/KaggleV2-May-2016.csv')"
   ]
  },
  {
   "cell_type": "code",
   "execution_count": 17,
   "metadata": {},
   "outputs": [
    {
     "data": {
      "text/html": [
       "<div>\n",
       "<style scoped>\n",
       "    .dataframe tbody tr th:only-of-type {\n",
       "        vertical-align: middle;\n",
       "    }\n",
       "\n",
       "    .dataframe tbody tr th {\n",
       "        vertical-align: top;\n",
       "    }\n",
       "\n",
       "    .dataframe thead th {\n",
       "        text-align: right;\n",
       "    }\n",
       "</style>\n",
       "<table border=\"1\" class=\"dataframe\">\n",
       "  <thead>\n",
       "    <tr style=\"text-align: right;\">\n",
       "      <th></th>\n",
       "      <th>PatientId</th>\n",
       "      <th>AppointmentID</th>\n",
       "      <th>Gender</th>\n",
       "      <th>ScheduledDay</th>\n",
       "      <th>AppointmentDay</th>\n",
       "      <th>Age</th>\n",
       "      <th>Neighbourhood</th>\n",
       "      <th>Scholarship</th>\n",
       "      <th>Hipertension</th>\n",
       "      <th>Diabetes</th>\n",
       "      <th>Alcoholism</th>\n",
       "      <th>Handcap</th>\n",
       "      <th>SMS_received</th>\n",
       "      <th>No-show</th>\n",
       "    </tr>\n",
       "  </thead>\n",
       "  <tbody>\n",
       "    <tr>\n",
       "      <th>0</th>\n",
       "      <td>2.987250e+13</td>\n",
       "      <td>5642903</td>\n",
       "      <td>F</td>\n",
       "      <td>2016-04-29T18:38:08Z</td>\n",
       "      <td>2016-04-29T00:00:00Z</td>\n",
       "      <td>62</td>\n",
       "      <td>JARDIM DA PENHA</td>\n",
       "      <td>0</td>\n",
       "      <td>1</td>\n",
       "      <td>0</td>\n",
       "      <td>0</td>\n",
       "      <td>0</td>\n",
       "      <td>0</td>\n",
       "      <td>No</td>\n",
       "    </tr>\n",
       "    <tr>\n",
       "      <th>1</th>\n",
       "      <td>5.589978e+14</td>\n",
       "      <td>5642503</td>\n",
       "      <td>M</td>\n",
       "      <td>2016-04-29T16:08:27Z</td>\n",
       "      <td>2016-04-29T00:00:00Z</td>\n",
       "      <td>56</td>\n",
       "      <td>JARDIM DA PENHA</td>\n",
       "      <td>0</td>\n",
       "      <td>0</td>\n",
       "      <td>0</td>\n",
       "      <td>0</td>\n",
       "      <td>0</td>\n",
       "      <td>0</td>\n",
       "      <td>No</td>\n",
       "    </tr>\n",
       "    <tr>\n",
       "      <th>2</th>\n",
       "      <td>4.262962e+12</td>\n",
       "      <td>5642549</td>\n",
       "      <td>F</td>\n",
       "      <td>2016-04-29T16:19:04Z</td>\n",
       "      <td>2016-04-29T00:00:00Z</td>\n",
       "      <td>62</td>\n",
       "      <td>MATA DA PRAIA</td>\n",
       "      <td>0</td>\n",
       "      <td>0</td>\n",
       "      <td>0</td>\n",
       "      <td>0</td>\n",
       "      <td>0</td>\n",
       "      <td>0</td>\n",
       "      <td>No</td>\n",
       "    </tr>\n",
       "    <tr>\n",
       "      <th>3</th>\n",
       "      <td>8.679512e+11</td>\n",
       "      <td>5642828</td>\n",
       "      <td>F</td>\n",
       "      <td>2016-04-29T17:29:31Z</td>\n",
       "      <td>2016-04-29T00:00:00Z</td>\n",
       "      <td>8</td>\n",
       "      <td>PONTAL DE CAMBURI</td>\n",
       "      <td>0</td>\n",
       "      <td>0</td>\n",
       "      <td>0</td>\n",
       "      <td>0</td>\n",
       "      <td>0</td>\n",
       "      <td>0</td>\n",
       "      <td>No</td>\n",
       "    </tr>\n",
       "    <tr>\n",
       "      <th>4</th>\n",
       "      <td>8.841186e+12</td>\n",
       "      <td>5642494</td>\n",
       "      <td>F</td>\n",
       "      <td>2016-04-29T16:07:23Z</td>\n",
       "      <td>2016-04-29T00:00:00Z</td>\n",
       "      <td>56</td>\n",
       "      <td>JARDIM DA PENHA</td>\n",
       "      <td>0</td>\n",
       "      <td>1</td>\n",
       "      <td>1</td>\n",
       "      <td>0</td>\n",
       "      <td>0</td>\n",
       "      <td>0</td>\n",
       "      <td>No</td>\n",
       "    </tr>\n",
       "  </tbody>\n",
       "</table>\n",
       "</div>"
      ],
      "text/plain": [
       "      PatientId  AppointmentID Gender          ScheduledDay  \\\n",
       "0  2.987250e+13        5642903      F  2016-04-29T18:38:08Z   \n",
       "1  5.589978e+14        5642503      M  2016-04-29T16:08:27Z   \n",
       "2  4.262962e+12        5642549      F  2016-04-29T16:19:04Z   \n",
       "3  8.679512e+11        5642828      F  2016-04-29T17:29:31Z   \n",
       "4  8.841186e+12        5642494      F  2016-04-29T16:07:23Z   \n",
       "\n",
       "         AppointmentDay  Age      Neighbourhood  Scholarship  Hipertension  \\\n",
       "0  2016-04-29T00:00:00Z   62    JARDIM DA PENHA            0             1   \n",
       "1  2016-04-29T00:00:00Z   56    JARDIM DA PENHA            0             0   \n",
       "2  2016-04-29T00:00:00Z   62      MATA DA PRAIA            0             0   \n",
       "3  2016-04-29T00:00:00Z    8  PONTAL DE CAMBURI            0             0   \n",
       "4  2016-04-29T00:00:00Z   56    JARDIM DA PENHA            0             1   \n",
       "\n",
       "   Diabetes  Alcoholism  Handcap  SMS_received No-show  \n",
       "0         0           0        0             0      No  \n",
       "1         0           0        0             0      No  \n",
       "2         0           0        0             0      No  \n",
       "3         0           0        0             0      No  \n",
       "4         1           0        0             0      No  "
      ]
     },
     "execution_count": 17,
     "metadata": {},
     "output_type": "execute_result"
    }
   ],
   "source": [
    "data.head(5)"
   ]
  },
  {
   "cell_type": "code",
   "execution_count": 18,
   "metadata": {},
   "outputs": [
    {
     "name": "stdout",
     "output_type": "stream",
     "text": [
      "<class 'pandas.core.frame.DataFrame'>\n",
      "RangeIndex: 110527 entries, 0 to 110526\n",
      "Data columns (total 14 columns):\n",
      "PatientId         110527 non-null float64\n",
      "AppointmentID     110527 non-null int64\n",
      "Gender            110527 non-null object\n",
      "ScheduledDay      110527 non-null object\n",
      "AppointmentDay    110527 non-null object\n",
      "Age               110527 non-null int64\n",
      "Neighbourhood     110527 non-null object\n",
      "Scholarship       110527 non-null int64\n",
      "Hipertension      110527 non-null int64\n",
      "Diabetes          110527 non-null int64\n",
      "Alcoholism        110527 non-null int64\n",
      "Handcap           110527 non-null int64\n",
      "SMS_received      110527 non-null int64\n",
      "No-show           110527 non-null object\n",
      "dtypes: float64(1), int64(8), object(5)\n",
      "memory usage: 11.8+ MB\n"
     ]
    }
   ],
   "source": [
    "data.info()"
   ]
  },
  {
   "cell_type": "markdown",
   "metadata": {},
   "source": [
    "### Data Cleansing"
   ]
  },
  {
   "cell_type": "markdown",
   "metadata": {},
   "source": [
    "* Como sabemos, as colunas Scholarship, Hipertension, Diabetes, Alcoholism, Handcap e SMS_received são **booleanas**. \n",
    "* Além disso, ScheduledDay e AppointmentDay é **DateTime**. \n",
    "* Por fim, que tal trocar os valores de Yes/No da coluna No-show para **booleano**? \n",
    "<br>Vamos converter para usarmos os dados apropriadamente.\n",
    "<a id=\".astype-.to_datetime\"></a>\n",
    "### .astype() e to_datetime()\n",
    ".astype() permite realizar conversões de tipos de variável (ex: para bool, int, etc.) No caso de conversão para datetime, use pd.to_datetime()."
   ]
  },
  {
   "cell_type": "code",
   "execution_count": 19,
   "metadata": {},
   "outputs": [
    {
     "name": "stdout",
     "output_type": "stream",
     "text": [
      "<class 'pandas.core.frame.DataFrame'>\n",
      "RangeIndex: 110527 entries, 0 to 110526\n",
      "Data columns (total 14 columns):\n",
      "PatientId         110527 non-null float64\n",
      "AppointmentID     110527 non-null int64\n",
      "Gender            110527 non-null object\n",
      "ScheduledDay      110527 non-null datetime64[ns]\n",
      "AppointmentDay    110527 non-null datetime64[ns]\n",
      "Age               110527 non-null int64\n",
      "Neighbourhood     110527 non-null object\n",
      "Scholarship       110527 non-null bool\n",
      "Hipertension      110527 non-null bool\n",
      "Diabetes          110527 non-null bool\n",
      "Alcoholism        110527 non-null bool\n",
      "Handcap           110527 non-null bool\n",
      "SMS_received      110527 non-null bool\n",
      "No-show           110527 non-null object\n",
      "dtypes: bool(6), datetime64[ns](2), float64(1), int64(2), object(3)\n",
      "memory usage: 7.4+ MB\n"
     ]
    }
   ],
   "source": [
    "data['Scholarship'] = data['Scholarship'].astype('bool')\n",
    "data['Hipertension'] = data['Hipertension'].astype('bool')\n",
    "data['Diabetes'] = data['Diabetes'].astype('bool')\n",
    "data['Alcoholism'] = data['Alcoholism'].astype('bool')\n",
    "data['Handcap'] = data['SMS_received'].astype('bool')\n",
    "data['SMS_received'] = data['SMS_received'].astype('bool')\n",
    "data['ScheduledDay'] = pd.to_datetime(data['ScheduledDay'])\n",
    "data['AppointmentDay'] = pd.to_datetime(data['AppointmentDay'])\n",
    "data.info()"
   ]
  },
  {
   "cell_type": "markdown",
   "metadata": {},
   "source": [
    "<a id=\".apply\"></a>\n",
    "### .apply()\n",
    ".apply() aplica uma função ao longo de um eixo do dataframe. Se axis=0, aplica nas linhas, se axis=1, aplica nas colunas selecionadas. Sem querer forçar muito, dá pra fazer um paralelo com o map()."
   ]
  },
  {
   "cell_type": "code",
   "execution_count": 20,
   "metadata": {},
   "outputs": [
    {
     "name": "stdout",
     "output_type": "stream",
     "text": [
      "   No-show  No-show2\n",
      "0       No     False\n",
      "1       No     False\n",
      "2       No     False\n",
      "3       No     False\n",
      "4       No     False\n",
      "5       No     False\n",
      "6      Yes      True\n",
      "7      Yes      True\n",
      "8       No     False\n",
      "9       No     False\n",
      "10      No     False\n",
      "11     Yes      True\n",
      "12      No     False\n",
      "13      No     False\n",
      "14      No     False\n",
      "<class 'pandas.core.frame.DataFrame'>\n",
      "RangeIndex: 110527 entries, 0 to 110526\n",
      "Data columns (total 15 columns):\n",
      "PatientId         110527 non-null float64\n",
      "AppointmentID     110527 non-null int64\n",
      "Gender            110527 non-null object\n",
      "ScheduledDay      110527 non-null datetime64[ns]\n",
      "AppointmentDay    110527 non-null datetime64[ns]\n",
      "Age               110527 non-null int64\n",
      "Neighbourhood     110527 non-null object\n",
      "Scholarship       110527 non-null bool\n",
      "Hipertension      110527 non-null bool\n",
      "Diabetes          110527 non-null bool\n",
      "Alcoholism        110527 non-null bool\n",
      "Handcap           110527 non-null bool\n",
      "SMS_received      110527 non-null bool\n",
      "No-show           110527 non-null object\n",
      "No-show2          110527 non-null bool\n",
      "dtypes: bool(7), datetime64[ns](2), float64(1), int64(2), object(3)\n",
      "memory usage: 7.5+ MB\n",
      "None\n"
     ]
    }
   ],
   "source": [
    "data['No-show2'] = data['No-show'].apply(lambda x: True if x == 'Yes' else False)\n",
    "print(data.loc[:,'No-show':'No-show2'].head(15))\n",
    "print(data.info())"
   ]
  },
  {
   "cell_type": "code",
   "execution_count": 21,
   "metadata": {},
   "outputs": [
    {
     "name": "stdout",
     "output_type": "stream",
     "text": [
      "<class 'pandas.core.frame.DataFrame'>\n",
      "RangeIndex: 110527 entries, 0 to 110526\n",
      "Data columns (total 14 columns):\n",
      "PatientId         110527 non-null float64\n",
      "AppointmentID     110527 non-null int64\n",
      "Gender            110527 non-null object\n",
      "ScheduledDay      110527 non-null datetime64[ns]\n",
      "AppointmentDay    110527 non-null datetime64[ns]\n",
      "Age               110527 non-null int64\n",
      "Neighbourhood     110527 non-null object\n",
      "Scholarship       110527 non-null bool\n",
      "Hipertension      110527 non-null bool\n",
      "Diabetes          110527 non-null bool\n",
      "Alcoholism        110527 non-null bool\n",
      "Handcap           110527 non-null bool\n",
      "SMS_received      110527 non-null bool\n",
      "No-show2          110527 non-null bool\n",
      "dtypes: bool(7), datetime64[ns](2), float64(1), int64(2), object(2)\n",
      "memory usage: 6.6+ MB\n"
     ]
    }
   ],
   "source": [
    "data.drop('No-show', axis=1, inplace=True)\n",
    "data.info()"
   ]
  },
  {
   "cell_type": "markdown",
   "metadata": {},
   "source": [
    "<a id=\".dt.date\"></a>\n",
    "### .dt.date\n",
    "Melhor do que olhar uma data, é olhar quantos dias se passaram entre dois eventos. Por isso, vamos criar uma variável DeltaScheduledAppointment com tipo **timedelta**"
   ]
  },
  {
   "cell_type": "code",
   "execution_count": 22,
   "metadata": {},
   "outputs": [],
   "source": [
    "data['DeltaScheduledAppointment'] = data['AppointmentDay'].dt.date - data['ScheduledDay'].dt.date"
   ]
  },
  {
   "cell_type": "code",
   "execution_count": 23,
   "metadata": {},
   "outputs": [
    {
     "name": "stdout",
     "output_type": "stream",
     "text": [
      "<class 'pandas.core.frame.DataFrame'>\n",
      "RangeIndex: 110527 entries, 0 to 110526\n",
      "Data columns (total 15 columns):\n",
      "PatientId                    110527 non-null float64\n",
      "AppointmentID                110527 non-null int64\n",
      "Gender                       110527 non-null object\n",
      "ScheduledDay                 110527 non-null datetime64[ns]\n",
      "AppointmentDay               110527 non-null datetime64[ns]\n",
      "Age                          110527 non-null int64\n",
      "Neighbourhood                110527 non-null object\n",
      "Scholarship                  110527 non-null bool\n",
      "Hipertension                 110527 non-null bool\n",
      "Diabetes                     110527 non-null bool\n",
      "Alcoholism                   110527 non-null bool\n",
      "Handcap                      110527 non-null bool\n",
      "SMS_received                 110527 non-null bool\n",
      "No-show2                     110527 non-null bool\n",
      "DeltaScheduledAppointment    110527 non-null timedelta64[ns]\n",
      "dtypes: bool(7), datetime64[ns](2), float64(1), int64(2), object(2), timedelta64[ns](1)\n",
      "memory usage: 7.5+ MB\n"
     ]
    }
   ],
   "source": [
    "data.info()"
   ]
  },
  {
   "cell_type": "code",
   "execution_count": 24,
   "metadata": {},
   "outputs": [
    {
     "data": {
      "text/html": [
       "<div>\n",
       "<style scoped>\n",
       "    .dataframe tbody tr th:only-of-type {\n",
       "        vertical-align: middle;\n",
       "    }\n",
       "\n",
       "    .dataframe tbody tr th {\n",
       "        vertical-align: top;\n",
       "    }\n",
       "\n",
       "    .dataframe thead th {\n",
       "        text-align: right;\n",
       "    }\n",
       "</style>\n",
       "<table border=\"1\" class=\"dataframe\">\n",
       "  <thead>\n",
       "    <tr style=\"text-align: right;\">\n",
       "      <th></th>\n",
       "      <th>ScheduledDay</th>\n",
       "      <th>AppointmentDay</th>\n",
       "      <th>DeltaScheduledAppointment</th>\n",
       "    </tr>\n",
       "  </thead>\n",
       "  <tbody>\n",
       "    <tr>\n",
       "      <th>0</th>\n",
       "      <td>2016-04-29 18:38:08</td>\n",
       "      <td>2016-04-29</td>\n",
       "      <td>0 days</td>\n",
       "    </tr>\n",
       "    <tr>\n",
       "      <th>1</th>\n",
       "      <td>2016-04-29 16:08:27</td>\n",
       "      <td>2016-04-29</td>\n",
       "      <td>0 days</td>\n",
       "    </tr>\n",
       "    <tr>\n",
       "      <th>2</th>\n",
       "      <td>2016-04-29 16:19:04</td>\n",
       "      <td>2016-04-29</td>\n",
       "      <td>0 days</td>\n",
       "    </tr>\n",
       "    <tr>\n",
       "      <th>3</th>\n",
       "      <td>2016-04-29 17:29:31</td>\n",
       "      <td>2016-04-29</td>\n",
       "      <td>0 days</td>\n",
       "    </tr>\n",
       "    <tr>\n",
       "      <th>4</th>\n",
       "      <td>2016-04-29 16:07:23</td>\n",
       "      <td>2016-04-29</td>\n",
       "      <td>0 days</td>\n",
       "    </tr>\n",
       "    <tr>\n",
       "      <th>5</th>\n",
       "      <td>2016-04-27 08:36:51</td>\n",
       "      <td>2016-04-29</td>\n",
       "      <td>2 days</td>\n",
       "    </tr>\n",
       "    <tr>\n",
       "      <th>6</th>\n",
       "      <td>2016-04-27 15:05:12</td>\n",
       "      <td>2016-04-29</td>\n",
       "      <td>2 days</td>\n",
       "    </tr>\n",
       "    <tr>\n",
       "      <th>7</th>\n",
       "      <td>2016-04-27 15:39:58</td>\n",
       "      <td>2016-04-29</td>\n",
       "      <td>2 days</td>\n",
       "    </tr>\n",
       "    <tr>\n",
       "      <th>8</th>\n",
       "      <td>2016-04-29 08:02:16</td>\n",
       "      <td>2016-04-29</td>\n",
       "      <td>0 days</td>\n",
       "    </tr>\n",
       "    <tr>\n",
       "      <th>9</th>\n",
       "      <td>2016-04-27 12:48:25</td>\n",
       "      <td>2016-04-29</td>\n",
       "      <td>2 days</td>\n",
       "    </tr>\n",
       "  </tbody>\n",
       "</table>\n",
       "</div>"
      ],
      "text/plain": [
       "         ScheduledDay AppointmentDay DeltaScheduledAppointment\n",
       "0 2016-04-29 18:38:08     2016-04-29                    0 days\n",
       "1 2016-04-29 16:08:27     2016-04-29                    0 days\n",
       "2 2016-04-29 16:19:04     2016-04-29                    0 days\n",
       "3 2016-04-29 17:29:31     2016-04-29                    0 days\n",
       "4 2016-04-29 16:07:23     2016-04-29                    0 days\n",
       "5 2016-04-27 08:36:51     2016-04-29                    2 days\n",
       "6 2016-04-27 15:05:12     2016-04-29                    2 days\n",
       "7 2016-04-27 15:39:58     2016-04-29                    2 days\n",
       "8 2016-04-29 08:02:16     2016-04-29                    0 days\n",
       "9 2016-04-27 12:48:25     2016-04-29                    2 days"
      ]
     },
     "execution_count": 24,
     "metadata": {},
     "output_type": "execute_result"
    }
   ],
   "source": [
    "data.loc[:,[\"ScheduledDay\", \"AppointmentDay\", \"DeltaScheduledAppointment\"]].head(10)"
   ]
  },
  {
   "cell_type": "markdown",
   "metadata": {},
   "source": [
    "### .dt.dayofweek\n",
    "Vamos também criar uma coluna indicando o dia da semana da consulta médica"
   ]
  },
  {
   "cell_type": "code",
   "execution_count": 26,
   "metadata": {},
   "outputs": [],
   "source": [
    "data['AppointmentDayOfWeek'] = data['AppointmentDay'].dt.dayofweek\n",
    "#0 = Segunda; 6=Domingo"
   ]
  },
  {
   "cell_type": "code",
   "execution_count": 27,
   "metadata": {},
   "outputs": [
    {
     "data": {
      "text/html": [
       "<div>\n",
       "<style scoped>\n",
       "    .dataframe tbody tr th:only-of-type {\n",
       "        vertical-align: middle;\n",
       "    }\n",
       "\n",
       "    .dataframe tbody tr th {\n",
       "        vertical-align: top;\n",
       "    }\n",
       "\n",
       "    .dataframe thead th {\n",
       "        text-align: right;\n",
       "    }\n",
       "</style>\n",
       "<table border=\"1\" class=\"dataframe\">\n",
       "  <thead>\n",
       "    <tr style=\"text-align: right;\">\n",
       "      <th></th>\n",
       "      <th>AppointmentDay</th>\n",
       "      <th>AppointmentDayOfWeek</th>\n",
       "    </tr>\n",
       "  </thead>\n",
       "  <tbody>\n",
       "    <tr>\n",
       "      <th>0</th>\n",
       "      <td>2016-04-29</td>\n",
       "      <td>4</td>\n",
       "    </tr>\n",
       "    <tr>\n",
       "      <th>1</th>\n",
       "      <td>2016-04-29</td>\n",
       "      <td>4</td>\n",
       "    </tr>\n",
       "    <tr>\n",
       "      <th>2</th>\n",
       "      <td>2016-04-29</td>\n",
       "      <td>4</td>\n",
       "    </tr>\n",
       "    <tr>\n",
       "      <th>3</th>\n",
       "      <td>2016-04-29</td>\n",
       "      <td>4</td>\n",
       "    </tr>\n",
       "    <tr>\n",
       "      <th>4</th>\n",
       "      <td>2016-04-29</td>\n",
       "      <td>4</td>\n",
       "    </tr>\n",
       "  </tbody>\n",
       "</table>\n",
       "</div>"
      ],
      "text/plain": [
       "  AppointmentDay  AppointmentDayOfWeek\n",
       "0     2016-04-29                     4\n",
       "1     2016-04-29                     4\n",
       "2     2016-04-29                     4\n",
       "3     2016-04-29                     4\n",
       "4     2016-04-29                     4"
      ]
     },
     "execution_count": 27,
     "metadata": {},
     "output_type": "execute_result"
    }
   ],
   "source": [
    "data.loc[:,['AppointmentDay', 'AppointmentDayOfWeek']].head()"
   ]
  },
  {
   "cell_type": "code",
   "execution_count": 28,
   "metadata": {},
   "outputs": [
    {
     "name": "stdout",
     "output_type": "stream",
     "text": [
      "<class 'pandas.core.frame.DataFrame'>\n",
      "RangeIndex: 110527 entries, 0 to 110526\n",
      "Data columns (total 16 columns):\n",
      "PatientId                    110527 non-null float64\n",
      "AppointmentID                110527 non-null int64\n",
      "Gender                       110527 non-null object\n",
      "ScheduledDay                 110527 non-null datetime64[ns]\n",
      "AppointmentDay               110527 non-null datetime64[ns]\n",
      "Age                          110527 non-null int64\n",
      "Neighbourhood                110527 non-null object\n",
      "Scholarship                  110527 non-null bool\n",
      "Hipertension                 110527 non-null bool\n",
      "Diabetes                     110527 non-null bool\n",
      "Alcoholism                   110527 non-null bool\n",
      "Handcap                      110527 non-null bool\n",
      "SMS_received                 110527 non-null bool\n",
      "No-show2                     110527 non-null bool\n",
      "DeltaScheduledAppointment    110527 non-null timedelta64[ns]\n",
      "AppointmentDayOfWeek         110527 non-null int64\n",
      "dtypes: bool(7), datetime64[ns](2), float64(1), int64(3), object(2), timedelta64[ns](1)\n",
      "memory usage: 8.3+ MB\n"
     ]
    }
   ],
   "source": [
    "data.info()"
   ]
  },
  {
   "cell_type": "markdown",
   "metadata": {},
   "source": [
    "### Data Exploration\n",
    "#### Conhecendo e ganhando insights sobre os dados"
   ]
  },
  {
   "cell_type": "code",
   "execution_count": 29,
   "metadata": {},
   "outputs": [
    {
     "name": "stdout",
     "output_type": "stream",
     "text": [
      "Temos 62299 pacientes nos registros\n",
      "Temos 110527 solicitações de atendimentos nos registros\n"
     ]
    }
   ],
   "source": [
    "print(\"Temos \"+str(data[\"PatientId\"].nunique())+\" pacientes nos registros\")\n",
    "print(\"Temos \"+str(data[\"AppointmentID\"].nunique())+\" solicitações de atendimentos nos registros\")"
   ]
  },
  {
   "cell_type": "markdown",
   "metadata": {},
   "source": [
    "### .loc[]\n",
    "Vamos selecionar apenas os pacientes. .loc permite que façamos um recorte de um dataframe.\n",
    "<a id=\".drop_duplicates\"></a>\n",
    "### .drop_duplicates()\n",
    "Drop duplicates é como o \"remover duplicatas\" do excel ou o \"distinct\" do SQL. "
   ]
  },
  {
   "cell_type": "code",
   "execution_count": 31,
   "metadata": {},
   "outputs": [
    {
     "name": "stdout",
     "output_type": "stream",
     "text": [
      "75414\n"
     ]
    }
   ],
   "source": [
    "pacientes = (data.loc[:,[\"PatientId\",\"Gender\",\"Age\",\"Scholarship\",\"Hipertension\",\"Diabetes\",\"Alcoholism\",\"Handcap\"]]\n",
    "             .drop_duplicates())\n",
    "print(len(pacientes))"
   ]
  },
  {
   "cell_type": "markdown",
   "metadata": {},
   "source": [
    "Parece que temos pacientes que mudaram de condição (idade, por exemplo) ao longo da base de dados. Vamos manter a condição mais recente deles."
   ]
  },
  {
   "cell_type": "code",
   "execution_count": 32,
   "metadata": {},
   "outputs": [
    {
     "data": {
      "text/html": [
       "<div>\n",
       "<style scoped>\n",
       "    .dataframe tbody tr th:only-of-type {\n",
       "        vertical-align: middle;\n",
       "    }\n",
       "\n",
       "    .dataframe tbody tr th {\n",
       "        vertical-align: top;\n",
       "    }\n",
       "\n",
       "    .dataframe thead th {\n",
       "        text-align: right;\n",
       "    }\n",
       "</style>\n",
       "<table border=\"1\" class=\"dataframe\">\n",
       "  <thead>\n",
       "    <tr style=\"text-align: right;\">\n",
       "      <th></th>\n",
       "      <th>PatientId</th>\n",
       "    </tr>\n",
       "  </thead>\n",
       "  <tbody>\n",
       "    <tr>\n",
       "      <th>102795</th>\n",
       "      <td>1.216587e+12</td>\n",
       "    </tr>\n",
       "    <tr>\n",
       "      <th>102797</th>\n",
       "      <td>3.189960e+13</td>\n",
       "    </tr>\n",
       "    <tr>\n",
       "      <th>102796</th>\n",
       "      <td>9.582232e+12</td>\n",
       "    </tr>\n",
       "    <tr>\n",
       "      <th>102786</th>\n",
       "      <td>4.542871e+11</td>\n",
       "    </tr>\n",
       "    <tr>\n",
       "      <th>102791</th>\n",
       "      <td>9.416259e+14</td>\n",
       "    </tr>\n",
       "  </tbody>\n",
       "</table>\n",
       "</div>"
      ],
      "text/plain": [
       "           PatientId\n",
       "102795  1.216587e+12\n",
       "102797  3.189960e+13\n",
       "102796  9.582232e+12\n",
       "102786  4.542871e+11\n",
       "102791  9.416259e+14"
      ]
     },
     "execution_count": 32,
     "metadata": {},
     "output_type": "execute_result"
    }
   ],
   "source": [
    "#Ordenando por data do mais antigo pro mais recente e mantendo apenas a última ocorrência para um paciente\n",
    "pacientes = (data.sort_values(by=[\"ScheduledDay\"]).loc[:,[\"PatientId\"]].drop_duplicates(keep='last'))\n",
    "pacientes.head()"
   ]
  },
  {
   "cell_type": "markdown",
   "metadata": {},
   "source": [
    "### .index\n",
    ".idex retorna um objeto contendo os índices das linhas de um dataframe. Neste caso, usaremos estes índices para filtrar em data apenas a última consulta dos pacientes.\n"
   ]
  },
  {
   "cell_type": "code",
   "execution_count": 33,
   "metadata": {},
   "outputs": [
    {
     "data": {
      "text/plain": [
       "62299"
      ]
     },
     "execution_count": 33,
     "metadata": {},
     "output_type": "execute_result"
    }
   ],
   "source": [
    "#Agora procuro a linha correspondente ao último atendimento daquele paciente na base original.\n",
    "pacientes = data.loc[pacientes.index.tolist()]\n",
    "len(pacientes)"
   ]
  },
  {
   "cell_type": "code",
   "execution_count": 38,
   "metadata": {},
   "outputs": [
    {
     "data": {
      "text/html": [
       "<div>\n",
       "<style scoped>\n",
       "    .dataframe tbody tr th:only-of-type {\n",
       "        vertical-align: middle;\n",
       "    }\n",
       "\n",
       "    .dataframe tbody tr th {\n",
       "        vertical-align: top;\n",
       "    }\n",
       "\n",
       "    .dataframe thead th {\n",
       "        text-align: right;\n",
       "    }\n",
       "</style>\n",
       "<table border=\"1\" class=\"dataframe\">\n",
       "  <thead>\n",
       "    <tr style=\"text-align: right;\">\n",
       "      <th></th>\n",
       "      <th>PatientId</th>\n",
       "      <th>AppointmentID</th>\n",
       "      <th>Gender</th>\n",
       "      <th>ScheduledDay</th>\n",
       "      <th>AppointmentDay</th>\n",
       "      <th>Age</th>\n",
       "      <th>Neighbourhood</th>\n",
       "      <th>Scholarship</th>\n",
       "      <th>Hipertension</th>\n",
       "      <th>Diabetes</th>\n",
       "      <th>Alcoholism</th>\n",
       "      <th>Handcap</th>\n",
       "      <th>SMS_received</th>\n",
       "      <th>No-show2</th>\n",
       "      <th>DeltaScheduledAppointment</th>\n",
       "      <th>AppointmentDayOfWeek</th>\n",
       "    </tr>\n",
       "  </thead>\n",
       "  <tbody>\n",
       "    <tr>\n",
       "      <th>102795</th>\n",
       "      <td>1.216587e+12</td>\n",
       "      <td>5134197</td>\n",
       "      <td>F</td>\n",
       "      <td>2015-12-07 10:40:59</td>\n",
       "      <td>2016-06-03</td>\n",
       "      <td>27</td>\n",
       "      <td>SÃO CRISTÓVÃO</td>\n",
       "      <td>True</td>\n",
       "      <td>False</td>\n",
       "      <td>False</td>\n",
       "      <td>False</td>\n",
       "      <td>True</td>\n",
       "      <td>True</td>\n",
       "      <td>True</td>\n",
       "      <td>179 days</td>\n",
       "      <td>4</td>\n",
       "    </tr>\n",
       "    <tr>\n",
       "      <th>102797</th>\n",
       "      <td>3.189960e+13</td>\n",
       "      <td>5134220</td>\n",
       "      <td>F</td>\n",
       "      <td>2015-12-07 10:42:42</td>\n",
       "      <td>2016-06-03</td>\n",
       "      <td>48</td>\n",
       "      <td>MARUÍPE</td>\n",
       "      <td>False</td>\n",
       "      <td>True</td>\n",
       "      <td>True</td>\n",
       "      <td>False</td>\n",
       "      <td>True</td>\n",
       "      <td>True</td>\n",
       "      <td>False</td>\n",
       "      <td>179 days</td>\n",
       "      <td>4</td>\n",
       "    </tr>\n",
       "    <tr>\n",
       "      <th>102796</th>\n",
       "      <td>9.582232e+12</td>\n",
       "      <td>5134223</td>\n",
       "      <td>F</td>\n",
       "      <td>2015-12-07 10:43:01</td>\n",
       "      <td>2016-06-03</td>\n",
       "      <td>80</td>\n",
       "      <td>SÃO CRISTÓVÃO</td>\n",
       "      <td>False</td>\n",
       "      <td>True</td>\n",
       "      <td>True</td>\n",
       "      <td>False</td>\n",
       "      <td>True</td>\n",
       "      <td>True</td>\n",
       "      <td>False</td>\n",
       "      <td>179 days</td>\n",
       "      <td>4</td>\n",
       "    </tr>\n",
       "    <tr>\n",
       "      <th>102786</th>\n",
       "      <td>4.542871e+11</td>\n",
       "      <td>5134227</td>\n",
       "      <td>M</td>\n",
       "      <td>2015-12-07 10:43:34</td>\n",
       "      <td>2016-06-03</td>\n",
       "      <td>67</td>\n",
       "      <td>MARUÍPE</td>\n",
       "      <td>False</td>\n",
       "      <td>True</td>\n",
       "      <td>True</td>\n",
       "      <td>False</td>\n",
       "      <td>False</td>\n",
       "      <td>False</td>\n",
       "      <td>False</td>\n",
       "      <td>179 days</td>\n",
       "      <td>4</td>\n",
       "    </tr>\n",
       "    <tr>\n",
       "      <th>102791</th>\n",
       "      <td>9.416259e+14</td>\n",
       "      <td>5134228</td>\n",
       "      <td>F</td>\n",
       "      <td>2015-12-07 10:43:50</td>\n",
       "      <td>2016-06-03</td>\n",
       "      <td>77</td>\n",
       "      <td>SÃO CRISTÓVÃO</td>\n",
       "      <td>False</td>\n",
       "      <td>True</td>\n",
       "      <td>True</td>\n",
       "      <td>False</td>\n",
       "      <td>True</td>\n",
       "      <td>True</td>\n",
       "      <td>False</td>\n",
       "      <td>179 days</td>\n",
       "      <td>4</td>\n",
       "    </tr>\n",
       "  </tbody>\n",
       "</table>\n",
       "</div>"
      ],
      "text/plain": [
       "           PatientId  AppointmentID Gender        ScheduledDay AppointmentDay  \\\n",
       "102795  1.216587e+12        5134197      F 2015-12-07 10:40:59     2016-06-03   \n",
       "102797  3.189960e+13        5134220      F 2015-12-07 10:42:42     2016-06-03   \n",
       "102796  9.582232e+12        5134223      F 2015-12-07 10:43:01     2016-06-03   \n",
       "102786  4.542871e+11        5134227      M 2015-12-07 10:43:34     2016-06-03   \n",
       "102791  9.416259e+14        5134228      F 2015-12-07 10:43:50     2016-06-03   \n",
       "\n",
       "        Age  Neighbourhood  Scholarship  Hipertension  Diabetes  Alcoholism  \\\n",
       "102795   27  SÃO CRISTÓVÃO         True         False     False       False   \n",
       "102797   48        MARUÍPE        False          True      True       False   \n",
       "102796   80  SÃO CRISTÓVÃO        False          True      True       False   \n",
       "102786   67        MARUÍPE        False          True      True       False   \n",
       "102791   77  SÃO CRISTÓVÃO        False          True      True       False   \n",
       "\n",
       "        Handcap  SMS_received  No-show2 DeltaScheduledAppointment  \\\n",
       "102795     True          True      True                  179 days   \n",
       "102797     True          True     False                  179 days   \n",
       "102796     True          True     False                  179 days   \n",
       "102786    False         False     False                  179 days   \n",
       "102791     True          True     False                  179 days   \n",
       "\n",
       "        AppointmentDayOfWeek  \n",
       "102795                     4  \n",
       "102797                     4  \n",
       "102796                     4  \n",
       "102786                     4  \n",
       "102791                     4  "
      ]
     },
     "execution_count": 38,
     "metadata": {},
     "output_type": "execute_result"
    }
   ],
   "source": [
    "pacientes.head()"
   ]
  },
  {
   "cell_type": "markdown",
   "metadata": {},
   "source": [
    "Agora queremos plotar a frequência de cada variável bool contra No-show"
   ]
  },
  {
   "cell_type": "code",
   "execution_count": 35,
   "metadata": {},
   "outputs": [
    {
     "name": "stdout",
     "output_type": "stream",
     "text": [
      "       Scholarship  Hipertension  Diabetes  Alcoholism   Handcap  SMS_received\n",
      "False     0.901734      0.802754  0.928135      0.9696  0.678974      0.678974\n",
      "True      0.098266      0.197246  0.071865      0.0304  0.321026      0.321026\n",
      "     Scholarship  Hipertension  Diabetes  Alcoholism   Handcap  SMS_received\n",
      "0.0     0.884493      0.830996  0.935929    0.969667  0.561629      0.561629\n",
      "1.0     0.115507      0.169004  0.064071    0.030333  0.438371      0.438371\n"
     ]
    }
   ],
   "source": [
    "%matplotlib inline\n",
    "import matplotlib.pyplot as plt\n",
    "contagem = data.loc[:,\"Scholarship\":\"SMS_received\"].apply(pd.value_counts)/len(data)\n",
    "contagemNoShows = (data.where(data[\"No-show2\"]==True).loc[:,\"Scholarship\":\"SMS_received\"].apply(pd.value_counts)\n",
    "                   /len(data.where(data[\"No-show2\"]==True).dropna()))\n",
    "print(contagem)\n",
    "print(contagemNoShows)"
   ]
  },
  {
   "cell_type": "code",
   "execution_count": 36,
   "metadata": {},
   "outputs": [
    {
     "data": {
      "image/png": "[encoded data removed]",
      "text/plain": [
       "<matplotlib.figure.Figure at 0x7fa67b041898>"
      ]
     },
     "metadata": {},
     "output_type": "display_data"
    },
    {
     "data": {
      "image/png": "[encoded data removed]",
      "text/plain": [
       "<matplotlib.figure.Figure at 0x7fa67a3a8f28>"
      ]
     },
     "metadata": {},
     "output_type": "display_data"
    }
   ],
   "source": [
    "contagem.transpose().plot.bar()\n",
    "plt.title(\"Representatividade de cada condição na população geral\")\n",
    "plt.show()\n",
    "contagemNoShows.transpose().plot.bar()\n",
    "plt.title(\"Representatividade de cada condição em No-shows\")\n",
    "plt.show()"
   ]
  },
  {
   "cell_type": "code",
   "execution_count": 37,
   "metadata": {},
   "outputs": [
    {
     "data": {
      "text/plain": [
       "Text(0.5,1,'Histograma da idade dos pacientes')"
      ]
     },
     "execution_count": 37,
     "metadata": {},
     "output_type": "execute_result"
    },
    {
     "data": {
      "image/png": "[encoded data removed]",
      "text/plain": [
       "<matplotlib.figure.Figure at 0x7fa67b041ac8>"
      ]
     },
     "metadata": {},
     "output_type": "display_data"
    }
   ],
   "source": [
    "data[\"Age\"].plot.hist(bins=50)\n",
    "plt.title(\"Histograma da idade dos pacientes\")"
   ]
  },
  {
   "cell_type": "markdown",
   "metadata": {},
   "source": [
    "Ok, para um exemplo meramente ilustrativo já fomos bem longe demais. Bora trabalhar juntos em condições menos controladas?\n",
    "<br>\n",
    "## Case 2: Análise de dados da bolsa de valores\n",
    "<img src=\"aula3-images/stock-market-the-ride.jpeg\">\n",
    "<br>\n",
    "<br>\n",
    "Ideias que podemos desenvolver:\n",
    "* Calcular índice de úlcera por papel\n",
    "* **Descobrir quais ações estão mais correlacionadas** (concluída DataLab 16/06/2018)"
   ]
  },
  {
   "cell_type": "code",
   "execution_count": 255,
   "metadata": {},
   "outputs": [],
   "source": [
    "import pandas as pd #Importa pandas\n",
    "import numpy as np #Importa Numpy"
   ]
  },
  {
   "cell_type": "code",
   "execution_count": 256,
   "metadata": {},
   "outputs": [
    {
     "name": "stdout",
     "output_type": "stream",
     "text": [
      ",TIPREG,DATPRE,CODBDI,CODNEG,TPMERC,NOMRES,ESPECI,PRAZOT,MODREF,PREABE,PREMAX,PREMIN,PREMED,PREULT,PREOFC,PREOFV,TOTNEG,QUATOT,VOLTOT,PREEXE,INDOPC,DATVEN,FATCOT,PTOEXE,CODISI,DISMES\r\n",
      "0,1,2017-01-02,2,AALR3,10,ALLIAR,ON      NM,,R$,14.62,14.88,14.4,14.58,14.6,14.6,14.73,87,35900,52350500,0,0,9999-12-31 00:00:00,1,0,BRAALRACNOR6,100\r\n",
      "1,1,2017-01-02,10,ABCB2,10,ABC BRASIL,DIR PRE N2,,R$,2.85,2.85,2.85,2.85,2.85,2.0,0.0,1,200,57000,0,0,9999-12-31 00:00:00,1,0,BRABCBD10PR0,126\r\n"
     ]
    }
   ],
   "source": [
    "# Uma forma de dar uma olhada num arquivo, se você estiver no linux,\n",
    "# é dar um head neles\n",
    "! head -3 \"datasets/COTAHIST_A2009_to_A2018P.csv\""
   ]
  },
  {
   "cell_type": "code",
   "execution_count": 257,
   "metadata": {},
   "outputs": [],
   "source": [
    "#Como ele está delimitado por vírgula, vamos importar diretamente\n",
    "df = pd.read_csv(\"datasets/COTAHIST_A2009_to_A2018P.csv\")"
   ]
  },
  {
   "cell_type": "code",
   "execution_count": 258,
   "metadata": {},
   "outputs": [
    {
     "name": "stdout",
     "output_type": "stream",
     "text": [
      "<class 'pandas.core.frame.DataFrame'>\n",
      "RangeIndex: 3357400 entries, 0 to 3357399\n",
      "Data columns (total 27 columns):\n",
      "Unnamed: 0    int64\n",
      "TIPREG        int64\n",
      "DATPRE        object\n",
      "CODBDI        int64\n",
      "CODNEG        object\n",
      "TPMERC        int64\n",
      "NOMRES        object\n",
      "ESPECI        object\n",
      "PRAZOT        float64\n",
      "MODREF        object\n",
      "PREABE        float64\n",
      "PREMAX        float64\n",
      "PREMIN        float64\n",
      "PREMED        float64\n",
      "PREULT        float64\n",
      "PREOFC        float64\n",
      "PREOFV        float64\n",
      "TOTNEG        int64\n",
      "QUATOT        int64\n",
      "VOLTOT        int64\n",
      "PREEXE        int64\n",
      "INDOPC        int64\n",
      "DATVEN        object\n",
      "FATCOT        int64\n",
      "PTOEXE        int64\n",
      "CODISI        object\n",
      "DISMES        int64\n",
      "dtypes: float64(8), int64(12), object(7)\n",
      "memory usage: 691.6+ MB\n"
     ]
    }
   ],
   "source": [
    "#Vamos dar uma olhada na base\n",
    "df.info()"
   ]
  },
  {
   "cell_type": "markdown",
   "metadata": {},
   "source": [
    "Metadados da base: https://www.google.com/url?sa=t&rct=j&q=&esrc=s&source=web&cd=1&cad=rja&uact=8&ved=0ahUKEwicu6SKh9zbAhUGGZAKHTGtDBAQFggoMAA&url=http%3A%2F%2Fwww.bmfbovespa.com.br%2Flumis%2Fportal%2Ffile%2FfileDownload.jsp%3FfileId%3D8A828D294E9C618F014EB7924B803F8B&usg=AOvVaw1M5GqdJgS45Q2tWy2bMZ7m\n",
    "<br>\n",
    "<br>\n",
    "Principais variáveis e seus significados:\n",
    "* **DATNEG: Data do pregão**\n",
    "* **CODNEG: Nome do papel**\n",
    "* PREABE: Preço na abertura do mercado\n",
    "* PREMAX: Preço máximo no dia\n",
    "* PREMIN: Preço mínimo no dia\n",
    "* **PREMED: Preço médio no dia**\n",
    "* PREULT: Preço do último negócio do papel no dia \n",
    "* PREOFV: Preço da melhor oferta de venda do papel no dia\n",
    "* PREOFC: Preço da melhor oferta de compra do papel no dia"
   ]
  },
  {
   "cell_type": "code",
   "execution_count": 139,
   "metadata": {},
   "outputs": [
    {
     "data": {
      "text/html": [
       "<div>\n",
       "<style scoped>\n",
       "    .dataframe tbody tr th:only-of-type {\n",
       "        vertical-align: middle;\n",
       "    }\n",
       "\n",
       "    .dataframe tbody tr th {\n",
       "        vertical-align: top;\n",
       "    }\n",
       "\n",
       "    .dataframe thead th {\n",
       "        text-align: right;\n",
       "    }\n",
       "</style>\n",
       "<table border=\"1\" class=\"dataframe\">\n",
       "  <thead>\n",
       "    <tr style=\"text-align: right;\">\n",
       "      <th></th>\n",
       "      <th>PREABE</th>\n",
       "      <th>PREMAX</th>\n",
       "      <th>PREMIN</th>\n",
       "      <th>PREMED</th>\n",
       "      <th>PREULT</th>\n",
       "      <th>PREOFC</th>\n",
       "      <th>PREOFV</th>\n",
       "    </tr>\n",
       "  </thead>\n",
       "  <tbody>\n",
       "    <tr>\n",
       "      <th>0</th>\n",
       "      <td>14.62</td>\n",
       "      <td>14.88</td>\n",
       "      <td>14.40</td>\n",
       "      <td>14.58</td>\n",
       "      <td>14.60</td>\n",
       "      <td>14.60</td>\n",
       "      <td>14.73</td>\n",
       "    </tr>\n",
       "    <tr>\n",
       "      <th>1</th>\n",
       "      <td>2.85</td>\n",
       "      <td>2.85</td>\n",
       "      <td>2.85</td>\n",
       "      <td>2.85</td>\n",
       "      <td>2.85</td>\n",
       "      <td>2.00</td>\n",
       "      <td>0.00</td>\n",
       "    </tr>\n",
       "    <tr>\n",
       "      <th>2</th>\n",
       "      <td>13.40</td>\n",
       "      <td>13.52</td>\n",
       "      <td>13.08</td>\n",
       "      <td>13.30</td>\n",
       "      <td>13.31</td>\n",
       "      <td>13.31</td>\n",
       "      <td>13.34</td>\n",
       "    </tr>\n",
       "    <tr>\n",
       "      <th>3</th>\n",
       "      <td>13.45</td>\n",
       "      <td>13.48</td>\n",
       "      <td>13.15</td>\n",
       "      <td>13.29</td>\n",
       "      <td>13.26</td>\n",
       "      <td>13.26</td>\n",
       "      <td>13.48</td>\n",
       "    </tr>\n",
       "    <tr>\n",
       "      <th>4</th>\n",
       "      <td>11.83</td>\n",
       "      <td>11.83</td>\n",
       "      <td>11.01</td>\n",
       "      <td>11.62</td>\n",
       "      <td>11.36</td>\n",
       "      <td>11.38</td>\n",
       "      <td>12.05</td>\n",
       "    </tr>\n",
       "    <tr>\n",
       "      <th>5</th>\n",
       "      <td>16.34</td>\n",
       "      <td>16.66</td>\n",
       "      <td>16.26</td>\n",
       "      <td>16.42</td>\n",
       "      <td>16.31</td>\n",
       "      <td>16.31</td>\n",
       "      <td>16.36</td>\n",
       "    </tr>\n",
       "    <tr>\n",
       "      <th>6</th>\n",
       "      <td>16.41</td>\n",
       "      <td>16.66</td>\n",
       "      <td>16.27</td>\n",
       "      <td>16.45</td>\n",
       "      <td>16.60</td>\n",
       "      <td>16.33</td>\n",
       "      <td>16.60</td>\n",
       "    </tr>\n",
       "    <tr>\n",
       "      <th>7</th>\n",
       "      <td>16.55</td>\n",
       "      <td>16.56</td>\n",
       "      <td>16.49</td>\n",
       "      <td>16.53</td>\n",
       "      <td>16.50</td>\n",
       "      <td>0.00</td>\n",
       "      <td>0.00</td>\n",
       "    </tr>\n",
       "    <tr>\n",
       "      <th>8</th>\n",
       "      <td>16.56</td>\n",
       "      <td>16.57</td>\n",
       "      <td>16.56</td>\n",
       "      <td>16.56</td>\n",
       "      <td>16.57</td>\n",
       "      <td>0.00</td>\n",
       "      <td>0.00</td>\n",
       "    </tr>\n",
       "    <tr>\n",
       "      <th>9</th>\n",
       "      <td>16.91</td>\n",
       "      <td>16.94</td>\n",
       "      <td>16.91</td>\n",
       "      <td>16.92</td>\n",
       "      <td>16.94</td>\n",
       "      <td>0.00</td>\n",
       "      <td>0.00</td>\n",
       "    </tr>\n",
       "  </tbody>\n",
       "</table>\n",
       "</div>"
      ],
      "text/plain": [
       "   PREABE  PREMAX  PREMIN  PREMED  PREULT  PREOFC  PREOFV\n",
       "0   14.62   14.88   14.40   14.58   14.60   14.60   14.73\n",
       "1    2.85    2.85    2.85    2.85    2.85    2.00    0.00\n",
       "2   13.40   13.52   13.08   13.30   13.31   13.31   13.34\n",
       "3   13.45   13.48   13.15   13.29   13.26   13.26   13.48\n",
       "4   11.83   11.83   11.01   11.62   11.36   11.38   12.05\n",
       "5   16.34   16.66   16.26   16.42   16.31   16.31   16.36\n",
       "6   16.41   16.66   16.27   16.45   16.60   16.33   16.60\n",
       "7   16.55   16.56   16.49   16.53   16.50    0.00    0.00\n",
       "8   16.56   16.57   16.56   16.56   16.57    0.00    0.00\n",
       "9   16.91   16.94   16.91   16.92   16.94    0.00    0.00"
      ]
     },
     "execution_count": 139,
     "metadata": {},
     "output_type": "execute_result"
    }
   ],
   "source": [
    "#Como sempre, vamos dar uma boa olhada nas variáveis de interesse\n",
    "df.loc[:,\"PREABE\":\"PREOFV\"].head(10)\n",
    "#vamos usar a variável de preço médio PREMED"
   ]
  },
  {
   "cell_type": "code",
   "execution_count": 140,
   "metadata": {},
   "outputs": [],
   "source": [
    "#Para este desafio, vamos usar apenas a DATPRE, CODNEG, PREMED\n",
    "df_premed = df.loc[:,[\"DATPRE\", \"CODNEG\", \"PREMED\"]]"
   ]
  },
  {
   "cell_type": "code",
   "execution_count": 141,
   "metadata": {},
   "outputs": [
    {
     "data": {
      "text/html": [
       "<div>\n",
       "<style scoped>\n",
       "    .dataframe tbody tr th:only-of-type {\n",
       "        vertical-align: middle;\n",
       "    }\n",
       "\n",
       "    .dataframe tbody tr th {\n",
       "        vertical-align: top;\n",
       "    }\n",
       "\n",
       "    .dataframe thead th {\n",
       "        text-align: right;\n",
       "    }\n",
       "</style>\n",
       "<table border=\"1\" class=\"dataframe\">\n",
       "  <thead>\n",
       "    <tr style=\"text-align: right;\">\n",
       "      <th></th>\n",
       "      <th>DATPRE</th>\n",
       "      <th>CODNEG</th>\n",
       "      <th>PREMED</th>\n",
       "    </tr>\n",
       "  </thead>\n",
       "  <tbody>\n",
       "    <tr>\n",
       "      <th>0</th>\n",
       "      <td>2017-01-02</td>\n",
       "      <td>AALR3</td>\n",
       "      <td>14.58</td>\n",
       "    </tr>\n",
       "    <tr>\n",
       "      <th>1</th>\n",
       "      <td>2017-01-02</td>\n",
       "      <td>ABCB2</td>\n",
       "      <td>2.85</td>\n",
       "    </tr>\n",
       "    <tr>\n",
       "      <th>2</th>\n",
       "      <td>2017-01-02</td>\n",
       "      <td>ABCB4</td>\n",
       "      <td>13.30</td>\n",
       "    </tr>\n",
       "    <tr>\n",
       "      <th>3</th>\n",
       "      <td>2017-01-02</td>\n",
       "      <td>ABCB4F</td>\n",
       "      <td>13.29</td>\n",
       "    </tr>\n",
       "    <tr>\n",
       "      <th>4</th>\n",
       "      <td>2017-01-02</td>\n",
       "      <td>ABCP11</td>\n",
       "      <td>11.62</td>\n",
       "    </tr>\n",
       "    <tr>\n",
       "      <th>5</th>\n",
       "      <td>2017-01-02</td>\n",
       "      <td>ABEV3</td>\n",
       "      <td>16.42</td>\n",
       "    </tr>\n",
       "    <tr>\n",
       "      <th>6</th>\n",
       "      <td>2017-01-02</td>\n",
       "      <td>ABEV3F</td>\n",
       "      <td>16.45</td>\n",
       "    </tr>\n",
       "    <tr>\n",
       "      <th>7</th>\n",
       "      <td>2017-01-02</td>\n",
       "      <td>ABEV3T</td>\n",
       "      <td>16.53</td>\n",
       "    </tr>\n",
       "    <tr>\n",
       "      <th>8</th>\n",
       "      <td>2017-01-02</td>\n",
       "      <td>ABEV3T</td>\n",
       "      <td>16.56</td>\n",
       "    </tr>\n",
       "    <tr>\n",
       "      <th>9</th>\n",
       "      <td>2017-01-02</td>\n",
       "      <td>ABEV3T</td>\n",
       "      <td>16.92</td>\n",
       "    </tr>\n",
       "  </tbody>\n",
       "</table>\n",
       "</div>"
      ],
      "text/plain": [
       "       DATPRE  CODNEG  PREMED\n",
       "0  2017-01-02   AALR3   14.58\n",
       "1  2017-01-02   ABCB2    2.85\n",
       "2  2017-01-02   ABCB4   13.30\n",
       "3  2017-01-02  ABCB4F   13.29\n",
       "4  2017-01-02  ABCP11   11.62\n",
       "5  2017-01-02   ABEV3   16.42\n",
       "6  2017-01-02  ABEV3F   16.45\n",
       "7  2017-01-02  ABEV3T   16.53\n",
       "8  2017-01-02  ABEV3T   16.56\n",
       "9  2017-01-02  ABEV3T   16.92"
      ]
     },
     "execution_count": 141,
     "metadata": {},
     "output_type": "execute_result"
    }
   ],
   "source": [
    "df_premed.head(10)"
   ]
  },
  {
   "cell_type": "code",
   "execution_count": 144,
   "metadata": {},
   "outputs": [],
   "source": [
    "#Como temos papeis com diversos vencimento, pegaremos apenas os papeis principais\n",
    "#Eles possuem apenas 5 caracteres\n",
    "df1 = df_premed.loc[df_premed[\"CODNEG\"].str.len()==5]"
   ]
  },
  {
   "cell_type": "code",
   "execution_count": 145,
   "metadata": {},
   "outputs": [
    {
     "data": {
      "text/html": [
       "<div>\n",
       "<style scoped>\n",
       "    .dataframe tbody tr th:only-of-type {\n",
       "        vertical-align: middle;\n",
       "    }\n",
       "\n",
       "    .dataframe tbody tr th {\n",
       "        vertical-align: top;\n",
       "    }\n",
       "\n",
       "    .dataframe thead th {\n",
       "        text-align: right;\n",
       "    }\n",
       "</style>\n",
       "<table border=\"1\" class=\"dataframe\">\n",
       "  <thead>\n",
       "    <tr style=\"text-align: right;\">\n",
       "      <th></th>\n",
       "      <th>DATPRE</th>\n",
       "      <th>CODNEG</th>\n",
       "      <th>PREMED</th>\n",
       "    </tr>\n",
       "  </thead>\n",
       "  <tbody>\n",
       "    <tr>\n",
       "      <th>0</th>\n",
       "      <td>2017-01-02</td>\n",
       "      <td>AALR3</td>\n",
       "      <td>14.58</td>\n",
       "    </tr>\n",
       "    <tr>\n",
       "      <th>1</th>\n",
       "      <td>2017-01-02</td>\n",
       "      <td>ABCB2</td>\n",
       "      <td>2.85</td>\n",
       "    </tr>\n",
       "    <tr>\n",
       "      <th>2</th>\n",
       "      <td>2017-01-02</td>\n",
       "      <td>ABCB4</td>\n",
       "      <td>13.30</td>\n",
       "    </tr>\n",
       "    <tr>\n",
       "      <th>5</th>\n",
       "      <td>2017-01-02</td>\n",
       "      <td>ABEV3</td>\n",
       "      <td>16.42</td>\n",
       "    </tr>\n",
       "    <tr>\n",
       "      <th>32</th>\n",
       "      <td>2017-01-02</td>\n",
       "      <td>ADHM3</td>\n",
       "      <td>0.78</td>\n",
       "    </tr>\n",
       "  </tbody>\n",
       "</table>\n",
       "</div>"
      ],
      "text/plain": [
       "        DATPRE CODNEG  PREMED\n",
       "0   2017-01-02  AALR3   14.58\n",
       "1   2017-01-02  ABCB2    2.85\n",
       "2   2017-01-02  ABCB4   13.30\n",
       "5   2017-01-02  ABEV3   16.42\n",
       "32  2017-01-02  ADHM3    0.78"
      ]
     },
     "execution_count": 145,
     "metadata": {},
     "output_type": "execute_result"
    }
   ],
   "source": [
    "df1.head()"
   ]
  },
  {
   "cell_type": "code",
   "execution_count": 146,
   "metadata": {},
   "outputs": [
    {
     "name": "stdout",
     "output_type": "stream",
     "text": [
      "<class 'pandas.core.frame.DataFrame'>\n",
      "Int64Index: 681054 entries, 0 to 3357386\n",
      "Data columns (total 3 columns):\n",
      "DATPRE    681054 non-null object\n",
      "CODNEG    681054 non-null object\n",
      "PREMED    681054 non-null float64\n",
      "dtypes: float64(1), object(2)\n",
      "memory usage: 20.8+ MB\n"
     ]
    }
   ],
   "source": [
    "df1.info()"
   ]
  },
  {
   "cell_type": "code",
   "execution_count": 147,
   "metadata": {},
   "outputs": [
    {
     "name": "stderr",
     "output_type": "stream",
     "text": [
      "/home/jairofreitas/anaconda3/lib/python3.6/site-packages/ipykernel_launcher.py:2: SettingWithCopyWarning: \n",
      "A value is trying to be set on a copy of a slice from a DataFrame.\n",
      "Try using .loc[row_indexer,col_indexer] = value instead\n",
      "\n",
      "See the caveats in the documentation: http://pandas.pydata.org/pandas-docs/stable/indexing.html#indexing-view-versus-copy\n",
      "  \n"
     ]
    }
   ],
   "source": [
    "#Vamos converter a DATPRE para datetime\n",
    "df1[\"DATANEG\"] = pd.to_datetime(df1[\"DATPRE\"])"
   ]
  },
  {
   "cell_type": "code",
   "execution_count": 148,
   "metadata": {},
   "outputs": [
    {
     "data": {
      "text/html": [
       "<div>\n",
       "<style scoped>\n",
       "    .dataframe tbody tr th:only-of-type {\n",
       "        vertical-align: middle;\n",
       "    }\n",
       "\n",
       "    .dataframe tbody tr th {\n",
       "        vertical-align: top;\n",
       "    }\n",
       "\n",
       "    .dataframe thead th {\n",
       "        text-align: right;\n",
       "    }\n",
       "</style>\n",
       "<table border=\"1\" class=\"dataframe\">\n",
       "  <thead>\n",
       "    <tr style=\"text-align: right;\">\n",
       "      <th></th>\n",
       "      <th>DATPRE</th>\n",
       "      <th>CODNEG</th>\n",
       "      <th>PREMED</th>\n",
       "      <th>DATANEG</th>\n",
       "    </tr>\n",
       "  </thead>\n",
       "  <tbody>\n",
       "    <tr>\n",
       "      <th>0</th>\n",
       "      <td>2017-01-02</td>\n",
       "      <td>AALR3</td>\n",
       "      <td>14.58</td>\n",
       "      <td>2017-01-02</td>\n",
       "    </tr>\n",
       "    <tr>\n",
       "      <th>1</th>\n",
       "      <td>2017-01-02</td>\n",
       "      <td>ABCB2</td>\n",
       "      <td>2.85</td>\n",
       "      <td>2017-01-02</td>\n",
       "    </tr>\n",
       "    <tr>\n",
       "      <th>2</th>\n",
       "      <td>2017-01-02</td>\n",
       "      <td>ABCB4</td>\n",
       "      <td>13.30</td>\n",
       "      <td>2017-01-02</td>\n",
       "    </tr>\n",
       "    <tr>\n",
       "      <th>5</th>\n",
       "      <td>2017-01-02</td>\n",
       "      <td>ABEV3</td>\n",
       "      <td>16.42</td>\n",
       "      <td>2017-01-02</td>\n",
       "    </tr>\n",
       "    <tr>\n",
       "      <th>32</th>\n",
       "      <td>2017-01-02</td>\n",
       "      <td>ADHM3</td>\n",
       "      <td>0.78</td>\n",
       "      <td>2017-01-02</td>\n",
       "    </tr>\n",
       "  </tbody>\n",
       "</table>\n",
       "</div>"
      ],
      "text/plain": [
       "        DATPRE CODNEG  PREMED    DATANEG\n",
       "0   2017-01-02  AALR3   14.58 2017-01-02\n",
       "1   2017-01-02  ABCB2    2.85 2017-01-02\n",
       "2   2017-01-02  ABCB4   13.30 2017-01-02\n",
       "5   2017-01-02  ABEV3   16.42 2017-01-02\n",
       "32  2017-01-02  ADHM3    0.78 2017-01-02"
      ]
     },
     "execution_count": 148,
     "metadata": {},
     "output_type": "execute_result"
    }
   ],
   "source": [
    "df1.head()"
   ]
  },
  {
   "cell_type": "code",
   "execution_count": 149,
   "metadata": {},
   "outputs": [
    {
     "name": "stdout",
     "output_type": "stream",
     "text": [
      "<class 'pandas.core.frame.DataFrame'>\n",
      "Int64Index: 681054 entries, 0 to 3357386\n",
      "Data columns (total 4 columns):\n",
      "DATPRE     681054 non-null object\n",
      "CODNEG     681054 non-null object\n",
      "PREMED     681054 non-null float64\n",
      "DATANEG    681054 non-null datetime64[ns]\n",
      "dtypes: datetime64[ns](1), float64(1), object(2)\n",
      "memory usage: 26.0+ MB\n"
     ]
    }
   ],
   "source": [
    "df1.info()"
   ]
  },
  {
   "cell_type": "code",
   "execution_count": 150,
   "metadata": {},
   "outputs": [
    {
     "name": "stderr",
     "output_type": "stream",
     "text": [
      "/home/jairofreitas/anaconda3/lib/python3.6/site-packages/ipykernel_launcher.py:2: SettingWithCopyWarning: \n",
      "A value is trying to be set on a copy of a slice from a DataFrame\n",
      "\n",
      "See the caveats in the documentation: http://pandas.pydata.org/pandas-docs/stable/indexing.html#indexing-view-versus-copy\n",
      "  \n"
     ]
    }
   ],
   "source": [
    "#Agora que temos DATNEG, podemos apagar a DATPRE\n",
    "df1.drop(\"DATPRE\",axis=1,inplace=True)"
   ]
  },
  {
   "cell_type": "code",
   "execution_count": 151,
   "metadata": {},
   "outputs": [
    {
     "name": "stdout",
     "output_type": "stream",
     "text": [
      "<class 'pandas.core.frame.DataFrame'>\n",
      "Int64Index: 681054 entries, 0 to 3357386\n",
      "Data columns (total 3 columns):\n",
      "CODNEG     681054 non-null object\n",
      "PREMED     681054 non-null float64\n",
      "DATANEG    681054 non-null datetime64[ns]\n",
      "dtypes: datetime64[ns](1), float64(1), object(1)\n",
      "memory usage: 20.8+ MB\n"
     ]
    }
   ],
   "source": [
    "df1.info()"
   ]
  },
  {
   "cell_type": "code",
   "execution_count": 152,
   "metadata": {},
   "outputs": [],
   "source": [
    "#Vamos selecionar os papeis\n",
    "papeis  = df1[\"CODNEG\"].drop_duplicates()"
   ]
  },
  {
   "cell_type": "code",
   "execution_count": 153,
   "metadata": {},
   "outputs": [
    {
     "data": {
      "text/plain": [
       "0     AALR3\n",
       "1     ABCB2\n",
       "2     ABCB4\n",
       "5     ABEV3\n",
       "32    ADHM3\n",
       "Name: CODNEG, dtype: object"
      ]
     },
     "execution_count": 153,
     "metadata": {},
     "output_type": "execute_result"
    }
   ],
   "source": [
    "papeis.head()"
   ]
  },
  {
   "cell_type": "code",
   "execution_count": 154,
   "metadata": {},
   "outputs": [
    {
     "data": {
      "text/plain": [
       "921"
      ]
     },
     "execution_count": 154,
     "metadata": {},
     "output_type": "execute_result"
    }
   ],
   "source": [
    "len(papeis)"
   ]
  },
  {
   "cell_type": "markdown",
   "metadata": {},
   "source": [
    "### Calculando correlações com Pandas"
   ]
  },
  {
   "cell_type": "markdown",
   "metadata": {},
   "source": [
    "Com a base tratada e com uma série de papéis, podemos criar nosso motor de correlações"
   ]
  },
  {
   "cell_type": "markdown",
   "metadata": {},
   "source": [
    "<a id=\".where\"></a>\n",
    "### .where()\n",
    "Podemos facilmente realizar filtros em Pandas usando o método .where()"
   ]
  },
  {
   "cell_type": "code",
   "execution_count": 182,
   "metadata": {},
   "outputs": [
    {
     "data": {
      "text/html": [
       "<div>\n",
       "<style scoped>\n",
       "    .dataframe tbody tr th:only-of-type {\n",
       "        vertical-align: middle;\n",
       "    }\n",
       "\n",
       "    .dataframe tbody tr th {\n",
       "        vertical-align: top;\n",
       "    }\n",
       "\n",
       "    .dataframe thead th {\n",
       "        text-align: right;\n",
       "    }\n",
       "</style>\n",
       "<table border=\"1\" class=\"dataframe\">\n",
       "  <thead>\n",
       "    <tr style=\"text-align: right;\">\n",
       "      <th></th>\n",
       "      <th>CODNEG</th>\n",
       "      <th>PREMED</th>\n",
       "      <th>DATANEG</th>\n",
       "    </tr>\n",
       "  </thead>\n",
       "  <tbody>\n",
       "    <tr>\n",
       "      <th>0</th>\n",
       "      <td>NaN</td>\n",
       "      <td>NaN</td>\n",
       "      <td>NaT</td>\n",
       "    </tr>\n",
       "    <tr>\n",
       "      <th>1</th>\n",
       "      <td>NaN</td>\n",
       "      <td>NaN</td>\n",
       "      <td>NaT</td>\n",
       "    </tr>\n",
       "    <tr>\n",
       "      <th>2</th>\n",
       "      <td>NaN</td>\n",
       "      <td>NaN</td>\n",
       "      <td>NaT</td>\n",
       "    </tr>\n",
       "    <tr>\n",
       "      <th>5</th>\n",
       "      <td>NaN</td>\n",
       "      <td>NaN</td>\n",
       "      <td>NaT</td>\n",
       "    </tr>\n",
       "    <tr>\n",
       "      <th>32</th>\n",
       "      <td>NaN</td>\n",
       "      <td>NaN</td>\n",
       "      <td>NaT</td>\n",
       "    </tr>\n",
       "  </tbody>\n",
       "</table>\n",
       "</div>"
      ],
      "text/plain": [
       "   CODNEG  PREMED DATANEG\n",
       "0     NaN     NaN     NaT\n",
       "1     NaN     NaN     NaT\n",
       "2     NaN     NaN     NaT\n",
       "5     NaN     NaN     NaT\n",
       "32    NaN     NaN     NaT"
      ]
     },
     "execution_count": 182,
     "metadata": {},
     "output_type": "execute_result"
    }
   ],
   "source": [
    "#Vamos filtrar apenas as linhas do papel \"ITUB4\"\n",
    "df1.where(df1[\"CODNEG\"] == \"ITUB4\").head() #A saída será NaN"
   ]
  },
  {
   "cell_type": "markdown",
   "metadata": {},
   "source": [
    "**O que aconteceu?** <br>\n",
    "O where() cria uma máscara de filtro. Ou seja, ele mantem as linhas que desejamos e as demais ficam como NaN.<br>\n",
    "\n",
    "<a id=\".dropna\"></a>\n",
    "### .dropna()\n",
    "Para excluir as linhas nulas, podemos usar o método dropna()"
   ]
  },
  {
   "cell_type": "code",
   "execution_count": 183,
   "metadata": {},
   "outputs": [
    {
     "data": {
      "text/html": [
       "<div>\n",
       "<style scoped>\n",
       "    .dataframe tbody tr th:only-of-type {\n",
       "        vertical-align: middle;\n",
       "    }\n",
       "\n",
       "    .dataframe tbody tr th {\n",
       "        vertical-align: top;\n",
       "    }\n",
       "\n",
       "    .dataframe thead th {\n",
       "        text-align: right;\n",
       "    }\n",
       "</style>\n",
       "<table border=\"1\" class=\"dataframe\">\n",
       "  <thead>\n",
       "    <tr style=\"text-align: right;\">\n",
       "      <th></th>\n",
       "      <th>CODNEG</th>\n",
       "      <th>PREMED</th>\n",
       "      <th>DATANEG</th>\n",
       "    </tr>\n",
       "  </thead>\n",
       "  <tbody>\n",
       "    <tr>\n",
       "      <th>698</th>\n",
       "      <td>ITUB4</td>\n",
       "      <td>33.52</td>\n",
       "      <td>2017-01-02</td>\n",
       "    </tr>\n",
       "    <tr>\n",
       "      <th>2503</th>\n",
       "      <td>ITUB4</td>\n",
       "      <td>34.73</td>\n",
       "      <td>2017-01-03</td>\n",
       "    </tr>\n",
       "    <tr>\n",
       "      <th>4435</th>\n",
       "      <td>ITUB4</td>\n",
       "      <td>35.00</td>\n",
       "      <td>2017-01-04</td>\n",
       "    </tr>\n",
       "    <tr>\n",
       "      <th>6310</th>\n",
       "      <td>ITUB4</td>\n",
       "      <td>35.56</td>\n",
       "      <td>2017-01-05</td>\n",
       "    </tr>\n",
       "    <tr>\n",
       "      <th>8119</th>\n",
       "      <td>ITUB4</td>\n",
       "      <td>35.63</td>\n",
       "      <td>2017-01-06</td>\n",
       "    </tr>\n",
       "  </tbody>\n",
       "</table>\n",
       "</div>"
      ],
      "text/plain": [
       "     CODNEG  PREMED    DATANEG\n",
       "698   ITUB4   33.52 2017-01-02\n",
       "2503  ITUB4   34.73 2017-01-03\n",
       "4435  ITUB4   35.00 2017-01-04\n",
       "6310  ITUB4   35.56 2017-01-05\n",
       "8119  ITUB4   35.63 2017-01-06"
      ]
     },
     "execution_count": 183,
     "metadata": {},
     "output_type": "execute_result"
    }
   ],
   "source": [
    "df1.where(df1[\"CODNEG\"] == \"ITUB4\").dropna().head() #sucesso!"
   ]
  },
  {
   "cell_type": "markdown",
   "metadata": {},
   "source": [
    "<a id=\".tolist\"></a>\n",
    "### .tolist()\n",
    "Muitas vezes queremos transformar uma coluna em uma lista. Para fazer isso, basta usar o método tolist(). Veja como poderíamos obter uma lista do preço médio diário dos papeis ITUB4."
   ]
  },
  {
   "cell_type": "code",
   "execution_count": 187,
   "metadata": {},
   "outputs": [
    {
     "name": "stdout",
     "output_type": "stream",
     "text": [
      "<class 'list'>\n",
      "Vetor do preço médio diário de ITUB4: [33.52, 34.73, 35.0, 35.56, 35.63, 35.83, 35.86, 35.72, 36.62, 36.2, 35.91, 36.69, 36.74, 36.55, 36.69, 37.34, 37.6, 38.27, 38.21, 37.3, 37.2, 37.65, 37.47, 38.2, 38.21, 39.01, 39.37, 39.98, 40.01, 39.88, 39.94, 41.05, 41.15, 40.7, 41.06, 40.68, 40.8, 40.7, 40.03, 40.08, 39.57, 39.99, 40.0, 39.6, 39.04, 39.03, 39.34, 39.65, 39.77, 39.5, 39.33, 38.44, 38.34, 37.83, 38.06, 37.85, 38.14, 38.22, 38.38, 38.86, 38.53, 38.25, 38.3, 38.53, 38.23, 37.8, 38.1, 37.93, 37.83, 37.95, 37.39, 38.25, 38.62, 38.53, 38.07, 38.46, 38.55, 38.91, 39.2, 39.06, 39.93, 39.41, 38.47, 38.52, 38.83, 38.91, 39.1, 39.57, 40.05, 40.18, 40.12, 39.5, 34.92, 35.84, 34.69, 35.42, 35.96, 35.14, 35.8, 35.74, 35.9, 35.73, 35.36, 35.43, 35.45, 35.77, 36.61, 36.13, 35.8, 35.41, 35.96, 36.55, 36.07, 36.29, 35.83, 35.55, 35.69, 35.53, 36.28, 36.21, 36.0, 36.28, 36.78, 36.97, 36.97, 36.99, 36.56, 36.17, 36.43, 36.87, 37.08, 37.51, 37.42, 37.22, 37.16, 36.93, 36.79, 36.66, 36.91, 37.15, 37.04, 37.1, 37.03, 37.23, 38.4, 38.77, 38.9, 38.74, 39.13, 39.81, 39.35, 39.06, 39.17, 39.93, 39.94, 39.76, 39.44, 39.89, 39.61, 40.41, 40.75, 41.14, 41.04, 40.89, 40.84, 40.79, 40.43, 41.15, 41.02, 41.07, 42.03, 42.01, 42.78, 42.76, 42.9, 42.9, 43.49, 43.82, 43.57, 43.34, 43.45, 43.44, 43.18, 43.35, 43.2, 43.06, 43.35, 43.37, 44.36, 44.65, 45.44, 44.66, 44.19, 44.92, 44.99, 44.8, 44.4, 44.26, 44.42, 43.97, 44.22, 43.67, 43.78, 43.95, 44.19, 43.97, 43.13, 42.39, 41.85, 41.78, 42.07, 41.31, 41.83, 41.83, 41.44, 41.51, 41.41, 41.72, 42.39, 43.33, 43.01, 42.64, 42.53, 42.36, 42.99, 42.16, 41.33, 41.15, 41.94, 42.0, 41.62, 41.48, 42.42, 42.46, 42.42, 42.49, 41.1, 41.1, 41.46, 40.84, 41.05, 41.98, 42.41, 42.73, 42.64, 42.62, 25.52, 25.26, 25.37, 24.99, 24.9, 24.65, 24.68, 24.45, 24.15, 23.88, 23.85, 23.64, 23.0, 23.26, 23.39, 23.25, 23.69, 23.85, 24.61, 24.97, 23.79, 24.0, 24.53, 24.89, 24.74, 24.23, 24.21, 24.54, 24.92, 25.38, 24.56, 24.0, 25.09, 24.92, 24.41, 24.62, 24.75, 25.27, 26.1, 26.93, 28.75, 31.57, 30.93, 31.82, 31.45, 31.54, 32.44, 32.67, 30.75, 29.49, 32.67, 32.9, 32.95, 32.47, 31.26, 30.75, 31.85, 31.89, 32.27, 31.26, 31.22, 30.61, 30.31, 29.7, 29.87, 31.57, 32.15, 32.9, 33.93, 33.09, 32.92, 32.73, 32.94, 32.25, 31.81, 31.41, 32.08, 33.41, 33.61, 32.81, 32.12, 30.43, 30.59, 30.53, 30.28, 30.33, 31.82, 32.61, 32.69, 31.6, 31.26, 30.49, 30.81, 30.37, 30.4, 30.11, 30.19, 30.31, 29.9, 29.78, 29.16, 29.34, 29.6, 29.9, 29.62, 29.88, 30.58, 30.33, 29.33, 28.94, 28.76, 28.61, 28.76, 29.03, 29.53, 29.1, 29.18, 29.72, 29.0, 28.14, 28.73, 29.55, 30.23, 30.58, 30.93, 30.59, 30.5, 31.21, 31.83, 32.24, 32.24, 32.3, 33.39, 33.43, 33.91, 33.89, 34.23, 33.87, 34.1, 33.87, 33.72, 33.73, 33.12, 33.64, 33.6, 33.87, 34.65, 35.72, 35.14, 35.13, 35.25, 34.82, 35.42, 35.88, 36.1, 36.22, 36.26, 36.48, 36.2, 35.71, 35.68, 35.37, 35.39, 35.78, 36.38, 36.43, 35.89, 36.17, 36.76, 36.74, 36.85, 36.69, 35.49, 35.45, 35.04, 35.12, 35.63, 35.07, 35.32, 35.4, 35.29, 36.21, 36.02, 35.74, 35.92, 36.43, 36.02, 35.68, 36.13, 36.58, 37.32, 37.63, 37.97, 38.21, 37.93, 38.24, 39.03, 39.48, 36.55, 36.44, 36.33, 36.38, 36.13, 35.77, 35.9, 36.75, 37.05, 38.4, 37.57, 37.02, 36.89, 37.9, 38.24, 37.22, 35.67, 34.79, 34.5, 35.52, 35.51, 35.29, 35.67, 35.85, 35.44, 35.22, 34.78, 35.35, 35.05, 35.57, 34.11, 33.92, 33.85, 34.14, 34.09, 34.0, 34.01, 32.77, 32.72, 32.91, 32.26, 32.15, 31.49, 31.64, 31.8, 31.89, 32.44, 32.78, 32.68, 33.35, 33.67, 34.02, 33.69, 34.18, 35.84, 36.1, 35.15, 34.1, 34.23, 34.27, 34.41, 34.03, 33.75, 33.41, 33.94, 34.54, 34.12, 34.21, 34.09, 33.85, 33.24, 32.77, 33.09, 34.36, 34.99, 35.32, 35.02, 35.24, 35.15, 33.51, 34.26, 35.12, 35.89, 35.74, 35.65, 36.18, 36.42, 36.31, 36.58, 36.93, 36.27, 36.36, 36.2, 36.01, 35.11, 33.94, 33.15, 33.51, 34.11, 33.45, 33.75, 34.37, 35.47, 35.47, 36.05, 35.62, 35.58, 35.55, 34.57, 33.87, 34.68, 35.22, 36.34, 37.08, 37.26, 37.17, 37.67, 36.59, 36.88, 36.84, 36.52, 37.05, 36.91, 36.58, 36.06, 36.71, 37.56, 39.0, 38.57, 38.6, 38.26, 38.42, 39.04, 38.65, 37.61, 37.38, 37.96, 38.09, 37.89, 37.65, 37.94, 38.43, 37.83, 36.99, 36.59, 35.87, 35.5, 35.44, 34.96, 35.29, 35.05, 34.54, 34.21, 34.7, 34.17, 33.45, 33.23, 33.02, 33.79, 33.63, 33.15, 32.79, 34.28, 34.05, 34.48, 34.26, 34.48, 34.91, 34.99, 34.3, 34.66, 34.21, 34.27, 34.31, 34.87, 34.58, 33.98, 33.65, 33.73, 34.46, 35.02, 31.75, 31.38, 31.29, 31.18, 31.01, 30.82, 30.27, 29.35, 28.56, 28.84, 29.21, 29.51, 29.27, 29.82, 29.83, 29.27, 29.28, 29.07, 28.42, 28.52, 28.34, 27.78, 26.78, 26.66, 26.8, 26.94, 26.25, 26.16, 26.35, 25.72, 26.42, 26.48, 28.19, 27.88, 26.48, 26.01, 26.31, 26.86, 26.61, 26.79, 27.37, 26.43, 26.36, 27.04, 28.13, 28.83, 28.99, 28.29, 27.45, 26.84, 26.94, 26.15, 26.31, 25.89, 26.11, 26.21, 26.69, 27.31, 28.59, 28.73, 29.54, 29.49, 29.49, 27.98, 27.87, 27.3, 27.02, 27.35, 27.17, 26.75, 27.05, 27.62, 26.79, 26.5, 26.99, 26.4, 26.36, 27.66, 28.26, 28.38, 28.09, 27.66, 27.25, 28.2, 28.3, 27.88, 28.08, 28.77, 28.78, 29.01, 29.34, 28.99, 28.19, 28.32, 27.83, 27.66, 27.81, 27.36, 28.91, 28.07, 28.27, 27.55, 28.94, 28.83, 28.71, 28.19, 28.49, 27.78, 28.74, 27.45, 26.68, 26.53, 26.56, 26.55, 26.49, 26.3, 31.52, 31.39, 31.59, 31.47, 31.58, 30.97, 30.95, 30.92, 31.17, 31.27, 30.77, 30.2, 29.83, 30.23, 30.28, 30.02, 29.23, 29.72, 30.18, 29.52, 29.55, 29.78, 29.79, 31.26, 31.02, 31.84, 31.83, 31.67, 31.77, 31.59, 31.11, 31.41, 31.43, 31.35, 30.79, 31.13, 31.06, 31.23, 31.08, 30.98, 31.32, 31.25, 30.73, 31.28, 31.24, 30.37, 30.82, 30.42, 30.24, 29.43, 29.8, 30.2, 30.6, 31.02, 31.44, 32.1, 32.5, 32.92, 33.45, 33.29, 33.76, 34.02, 34.85, 34.74, 34.83, 34.92, 35.43, 34.05, 34.36, 34.89, 34.79, 34.03, 34.48, 35.15, 35.69, 35.76, 36.21, 36.62, 36.65, 36.88, 36.68, 37.45, 37.57, 37.29, 37.61, 37.25, 36.86, 37.4, 37.33, 37.41, 37.13, 37.42, 37.31, 37.06, 36.54, 36.07, 35.95, 35.62, 35.97, 36.28, 35.95, 35.04, 35.01, 35.1, 34.77, 34.7, 32.48, 33.39, 33.63, 34.41, 34.28, 34.01, 33.63, 33.67, 33.62, 33.13, 33.47, 32.62, 32.4, 32.13, 31.9, 32.07, 31.62, 31.68, 31.78, 31.77, 31.78, 32.85, 33.17, 33.93, 34.2, 33.54, 33.37, 34.93, 35.22, 35.37, 35.26, 35.62, 35.77, 35.52, 35.77, 35.77, 35.13, 34.83, 35.13, 36.25, 35.91, 35.61, 34.92, 35.57, 35.54, 35.28, 35.03, 35.73, 36.11, 37.13, 37.54, 37.71, 37.46, 38.2, 38.51, 39.64, 39.46, 40.22, 40.82, 40.86, 40.94, 40.45, 40.22, 40.13, 38.91, 38.24, 38.51, 37.39, 37.56, 39.4, 39.45, 38.68, 37.94, 37.01, 37.1, 37.05, 36.41, 37.34, 35.26, 34.01, 33.14, 33.8, 34.49, 37.35, 36.83, 36.3, 36.93, 35.68, 37.66, 38.34, 36.39, 35.79, 36.4, 35.93, 33.71, 33.9, 32.6, 33.28, 31.72, 33.41, 33.38, 35.07, 36.32, 36.17, 37.12, 37.07, 35.8, 35.88, 36.37, 36.0, 36.4, 35.86, 34.85, 35.23, 35.67, 36.94, 39.02, 39.48, 39.55, 39.47, 39.23, 38.84, 37.12, 36.59, 36.85, 36.41, 36.71, 36.08, 35.69, 35.25, 35.31, 34.28, 33.12, 32.73, 34.43, 34.49, 34.59, 34.58, 34.96, 35.0, 34.88, 34.72, 34.36, 35.21, 35.14, 34.78, 34.82, 35.14, 35.06, 34.89, 35.47, 35.19, 35.14, 35.83, 35.91, 35.86, 36.04, 35.86, 35.78, 34.95, 34.75, 34.4, 34.22, 34.15, 33.34, 34.19, 33.51, 33.3, 33.69, 33.8, 33.38, 34.58, 35.33, 34.92, 34.53, 33.91, 34.73, 35.45, 34.39, 34.46, 34.93, 35.1, 34.92, 35.53, 35.4, 35.68, 36.41, 36.69, 36.27, 36.2, 35.52, 35.47, 35.94, 35.8, 36.03, 35.8, 35.41, 35.04, 35.41, 35.14, 35.68, 35.54, 34.98, 34.62, 34.12, 33.34, 33.57, 34.49, 35.16, 35.09, 34.59, 34.08, 34.54, 33.77, 32.89, 32.93, 33.07, 33.55, 33.88, 33.86, 32.81, 32.87, 32.96, 33.55, 33.81, 33.43, 34.35, 35.0, 34.91, 34.67, 34.13, 34.23, 34.95, 34.72, 34.93, 35.37, 32.41, 33.14, 32.74, 32.64, 32.76, 33.07, 32.33, 32.1, 32.18, 32.13, 31.48, 31.14, 31.28, 31.1, 30.52, 30.11, 29.99, 29.78, 29.71, 29.28, 29.01, 28.56, 28.74, 27.72, 27.74, 28.13, 28.35, 28.53, 28.62, 27.57, 27.09, 27.39, 26.27, 26.93, 27.0, 27.44, 27.36, 27.81, 27.86, 28.34, 28.32, 28.28, 28.63, 29.39, 29.04, 28.97, 28.74, 28.94, 29.51, 29.15, 29.92, 30.08, 29.57, 28.9, 28.4, 28.93, 29.39, 30.27, 30.24, 30.23, 29.81, 29.2, 28.91, 29.07, 28.66, 28.52, 29.16, 29.2, 28.28, 28.27, 28.57, 28.83, 29.54, 29.11, 28.95, 29.3, 29.92, 30.66, 31.08, 30.87, 30.74, 31.1, 31.19, 31.41, 32.07, 32.1, 31.59, 31.6, 31.54, 31.42, 31.53, 32.18, 31.55, 31.55, 31.74, 31.65, 31.75, 31.63, 31.44, 31.84, 32.12, 32.16, 32.26, 32.32, 32.71, 33.09, 33.65, 33.56, 33.73, 33.42, 33.1, 33.1, 33.22, 34.49, 34.48, 34.37, 34.31, 34.5, 34.02, 33.46, 33.21, 32.39, 32.2, 32.43, 32.72, 33.53, 33.91, 33.25, 32.88, 32.32, 31.66, 32.3, 32.7, 32.72, 32.75, 32.72, 31.78, 31.42, 31.17, 31.45, 31.77, 31.6, 30.98, 30.79, 31.07, 31.19, 31.22, 31.35, 31.8, 31.7, 31.56, 31.63, 31.76, 31.64, 33.91, 34.6, 34.79, 34.51, 34.85, 34.99, 35.61, 35.64, 35.67, 35.47, 35.71, 35.92, 36.35, 36.8, 36.97, 36.49, 35.81, 36.33, 36.14, 35.3, 35.01, 35.32, 35.54, 35.7, 35.77, 36.0, 37.02, 36.91, 36.45, 37.16, 37.02, 36.73, 36.23, 36.5, 36.33, 36.12, 36.11, 35.7, 36.38, 36.85, 37.03, 37.63, 37.04, 36.1, 36.45, 37.68, 38.34, 37.91, 38.21, 38.35, 38.25, 38.67, 38.61, 37.92, 37.77, 36.8, 36.41, 36.76, 37.13, 36.09, 35.47, 34.99, 35.17, 34.92, 34.07, 33.15, 32.49, 31.93, 32.17, 32.5, 31.93, 31.57, 31.56, 31.36, 31.48, 32.35, 31.66, 31.68, 29.89, 29.37, 29.79, 29.79, 29.64, 29.06, 28.77, 28.82, 28.95, 28.62, 29.09, 28.93, 28.47, 28.67, 28.16, 27.2, 27.28, 28.22, 28.7, 27.96, 28.11, 28.53, 28.62, 28.38, 28.0, 28.68, 28.85, 28.4, 28.02, 28.42, 28.97, 29.06, 29.31, 29.54, 29.51, 29.75, 30.03, 30.4, 29.92, 29.26, 28.24, 27.5, 27.19, 27.51, 27.16, 28.04, 28.11, 28.94, 28.9, 29.47, 29.02, 28.53, 28.16, 28.04, 28.67, 28.98, 29.04, 29.26, 30.02, 30.02, 29.02, 30.15, 30.26, 31.1, 32.25, 32.91, 32.54, 32.26, 31.5, 32.41, 33.06, 33.44, 33.94, 33.72, 33.95, 33.98, 33.9, 33.84, 34.39, 34.74, 34.48, 34.34, 34.12, 33.89, 34.03, 33.47, 33.44, 32.84, 32.34, 32.0, 32.02, 31.54, 31.39, 32.29, 32.82, 32.94, 33.65, 34.26, 35.04, 34.75, 33.89, 33.85, 33.4, 33.76, 33.73, 32.07, 31.48, 31.58, 30.63, 30.98, 31.06, 30.65, 30.41, 30.96, 30.71, 30.13, 29.62, 29.75, 29.73, 29.92, 29.69, 29.75, 29.45, 29.4, 28.48, 29.2, 30.05, 29.68, 29.45, 29.87, 29.64, 30.58, 30.86, 31.13, 30.61, 30.14, 29.86, 29.81, 30.08, 29.9, 30.03, 30.73, 31.23, 31.65, 31.87, 31.63, 31.27, 30.95, 31.48, 31.98, 32.87, 32.6, 32.75, 32.46, 32.64, 32.68, 32.88, 32.87, 32.95, 32.7, 32.71, 32.78, 33.69, 33.8, 34.09, 33.79, 33.36, 33.32, 39.79, 39.94, 40.39, 39.82, 38.82, 38.4, 39.31, 39.91, 39.84, 39.41, 39.08, 38.68, 38.24, 37.31, 37.33, 37.41, 37.18, 36.59, 36.14, 35.86, 35.99, 36.09, 35.45, 34.57, 34.69, 35.8, 35.22, 34.93, 35.65, 36.38, 36.83, 37.61, 38.05, 38.08, 37.58, 36.76, 36.53, 36.51, 36.23, 36.81, 36.47, 36.22, 36.99, 37.14, 36.36, 35.12, 35.12, 35.66, 35.69, 35.51, 35.21, 35.88, 36.06, 36.82, 36.83, 37.04, 36.85, 37.01, 36.74, 37.19, 38.51, 39.06, 38.44, 38.52, 38.46, 38.42, 37.75, 37.43, 36.97, 37.22, 36.94, 36.84, 36.56, 37.22, 37.68, 37.75, 38.03, 37.6, 36.78, 36.75, 36.54, 35.49, 35.47, 35.75, 36.33, 36.52, 37.07, 36.83, 36.68, 36.0, 35.62, 35.14, 35.07, 34.89, 34.64, 34.49, 34.94, 34.84, 35.31, 35.86, 35.6, 35.68, 35.63, 35.28, 35.89, 35.24, 35.57, 35.26, 35.05, 34.81, 34.97, 35.15, 35.47, 35.34, 35.01, 35.08, 35.01, 35.34, 34.92, 35.07, 35.67, 36.27, 36.36, 36.44, 36.71, 36.63, 36.24, 35.86, 34.81, 33.63, 33.19, 32.96, 31.84, 31.98, 31.41, 32.08, 32.43, 32.98, 32.98, 32.21, 31.61, 31.03, 31.22, 31.13, 31.37, 29.86, 29.2, 27.97, 28.02, 26.19, 26.76, 26.41, 27.14, 27.65, 28.25, 27.69, 28.37, 27.34, 26.99, 26.59, 25.9, 26.08, 26.66, 26.96, 27.72, 27.97, 28.78, 30.6, 30.0, 28.82, 28.9, 29.74, 28.69, 27.89, 27.91, 28.03, 28.8, 29.01, 28.88, 29.25, 29.25, 27.79, 27.6, 27.8, 29.25, 29.59, 29.49, 29.09, 28.8, 27.94, 28.52, 29.39, 29.25, 30.0, 30.65, 30.85, 31.19, 31.09, 31.17, 31.73, 31.61, 32.18, 32.97, 32.19, 32.34, 33.88, 33.32, 32.82, 31.83, 32.53, 32.43, 32.69, 32.47, 31.77, 31.68, 31.89, 32.25, 31.95, 31.24, 30.62, 30.04, 29.93, 29.61, 29.48, 29.7, 30.33, 30.41, 31.76, 32.95, 33.38, 33.9, 33.71, 33.96, 33.86, 34.18, 33.72, 33.79, 33.72, 33.38, 33.12, 33.24, 33.74, 33.72, 34.45, 34.76, 34.58, 34.25, 33.74, 33.85, 39.96, 40.16, 39.96, 39.69, 39.16, 38.52, 38.37, 38.43, 38.23, 37.49, 37.69, 37.6, 36.48, 35.97, 36.1, 35.82, 35.73, 36.21, 36.51, 36.71, 37.33, 37.1, 35.91, 34.67, 34.8, 35.95, 36.37, 36.77, 36.7, 37.86, 37.65, 37.58, 36.95, 35.92, 35.82, 35.44, 35.99, 36.65, 37.03, 37.41, 37.16, 37.34, 37.4, 37.81, 38.11, 37.86, 37.66, 37.45, 37.82, 37.69, 37.03, 36.95, 37.3, 37.09, 36.72, 37.02, 37.26, 38.02, 38.39, 38.87, 39.43, 39.52, 39.25, 38.74, 39.53, 40.02, 39.73, 39.51, 39.51, 39.55, 38.55, 37.86, 38.0, 37.59, 37.68, 37.64, 36.79, 36.82, 37.55, 37.83, 37.76, 36.85, 36.7, 36.39, 35.63, 37.54, 37.48, 37.04, 36.73, 35.9, 35.69, 35.8, 33.07, 33.05, 33.56, 33.28, 31.6, 32.77, 33.69, 33.46, 34.18, 34.3, 34.62, 34.18, 33.59, 33.43, 33.88, 34.31, 34.5, 34.81, 35.01, 35.2, 35.02, 35.23, 35.47, 35.41, 35.14, 34.51, 34.27, 34.66, 33.24, 33.0, 33.28, 34.0, 33.83, 34.05, 35.49, 36.94, 37.32, 37.31, 37.12, 36.73, 36.37, 36.54, 37.1, 37.12, 37.96, 38.21, 38.48, 38.68, 39.16, 39.27, 39.27, 39.63, 38.67, 37.89, 38.01, 38.19, 38.52, 38.23, 37.37, 37.47, 37.84, 37.86, 38.08, 37.98, 37.85, 37.42, 37.49, 36.65, 36.31, 36.14, 36.56, 36.72, 37.62, 38.19, 37.94, 37.98, 37.46, 37.42, 37.33, 37.12, 38.21, 38.88, 38.94, 38.86, 38.56, 38.8, 38.45, 38.71, 39.01, 38.68, 38.54, 39.04, 39.5, 40.13, 40.58, 40.65, 41.58, 41.57, 41.39, 42.23, 42.22, 42.6, 42.13, 42.47, 42.66, 42.35, 42.53, 42.3, 42.3, 42.66, 42.31, 41.72, 41.34, 41.19, 41.93, 42.41, 42.89, 43.24, 43.4, 42.83, 42.5, 42.0, 41.65, 41.18, 41.11, 41.65, 41.6, 41.12, 40.26, 40.88, 40.51, 39.98, 39.44, 39.44, 40.13, 40.27, 39.57, 39.09, 39.48, 38.78, 38.41, 38.22, 38.42, 38.25, 38.36, 38.1, 38.26, 37.99, 38.36, 38.83, 39.41, 38.9, 38.59, 39.16, 39.53, 30.31, 29.81, 30.19, 30.29, 31.18, 31.96, 31.95, 31.84, 32.85, 32.51, 31.35, 31.81, 31.78, 31.64, 31.51, 31.36, 31.78, 30.75, 31.08, 30.36, 30.33, 30.64, 30.21, 29.91, 29.74, 30.33, 31.03, 31.45, 31.16, 31.37, 31.01, 30.98, 30.64, 30.59, 30.16, 30.02, 29.94, 29.64, 30.81, 31.25, 31.42, 32.24, 32.61, 32.9, 33.93, 34.07, 34.02, 33.79, 33.37, 33.99, 33.62, 33.93, 34.19, 34.59, 34.67, 35.7, 35.72, 34.65, 34.36, 33.98, 33.14, 32.52, 33.33, 33.82, 34.57, 34.62, 34.85, 35.22, 35.43, 35.34, 35.56, 31.79, 31.45, 31.03, 30.86, 31.44, 31.9, 32.38, 32.48, 32.88, 32.73, 33.29, 33.79, 34.24, 34.09, 33.87, 34.17, 33.78, 33.04, 33.21, 33.82, 34.85, 35.6, 35.71, 35.82, 36.38, 36.44, 35.32, 35.59, 35.86, 36.05, 36.82, 36.72, 36.24, 36.82, 35.96, 36.4, 36.51, 36.67, 36.14, 35.62, 34.05, 34.62, 33.89, 34.71, 35.92, 36.4, 36.42, 37.13, 37.48, 37.9, 37.52, 37.68, 38.34, 38.06, 38.19, 37.18, 37.89, 37.68, 38.47, 37.62, 37.49, 37.88, 39.2, 39.84, 39.79, 39.46, 39.94, 39.57, 39.63, 40.19, 40.11, 39.85, 39.95, 39.84, 38.42, 38.26, 38.63, 38.28, 37.82, 37.95, 38.45, 38.68, 43.56, 44.01, 44.99, 45.08, 45.06, 44.67, 44.43, 45.02, 45.16, 45.54, 46.01, 46.53, 46.78, 46.89, 47.82]\n"
     ]
    }
   ],
   "source": [
    "#Tipo que o método tolist() retorna:\n",
    "print(type(df1[\"PREMED\"].where(df1[\"CODNEG\"] == \"ITUB4\").dropna().tolist()))\n",
    "#Visualização dos valores diários do papel\n",
    "print(\"Vetor do preço médio diário de ITUB4: \"+str(df1[\"PREMED\"].where(df1[\"CODNEG\"] == \"ITUB4\").dropna().tolist()))"
   ]
  },
  {
   "cell_type": "markdown",
   "metadata": {},
   "source": [
    "### Construindo uma função que calcula uma matriz de correlações"
   ]
  },
  {
   "cell_type": "code",
   "execution_count": 156,
   "metadata": {},
   "outputs": [],
   "source": [
    "correlacao = {}\n",
    "#limit = número de papeis que desejamos correlacionar\n",
    "limit = 50"
   ]
  },
  {
   "cell_type": "code",
   "execution_count": 157,
   "metadata": {},
   "outputs": [],
   "source": [
    "for papel in papeis[:limit]:\n",
    "    #print(papel, end=' ')\n",
    "    correlacao[papel] = {}\n",
    "    serie1 = pd.Series(df1[\"PREMED\"].where(df1[\"CODNEG\"] == papel).dropna().tolist(),\n",
    "                   index=df1[\"DATANEG\"].where(df1[\"CODNEG\"] == papel).dropna())\n",
    "    for papel2 in papeis[:limit]:\n",
    "        #print(papel2, end=' ')\n",
    "        if papel2 in correlacao.keys() == True :\n",
    "            correlacao[papel][papel2] = correlacao[papel2][papel]\n",
    "        else:\n",
    "            serie2 = pd.Series(df1[\"PREMED\"].where(df1[\"CODNEG\"] == papel2).dropna().tolist(),\n",
    "                       index=df1[\"DATANEG\"].where(df1[\"CODNEG\"] == papel2).dropna())\n",
    "            correlacao[papel][papel2] = round(serie1.corr(serie2),2)     \n",
    "    #print()"
   ]
  },
  {
   "cell_type": "code",
   "execution_count": 158,
   "metadata": {},
   "outputs": [
    {
     "name": "stdout",
     "output_type": "stream",
     "text": [
      "AALR3: {'AALR3': 1.0, 'ABCB2': -0.83, 'ABCB4': 0.01, 'ABEV3': 0.28, 'ADHM3': -0.37, 'AFLT3': -0.13, 'AGRO3': 0.19, 'ALPA3': 0.26, 'ALPA4': 0.18, 'ALSC3': 0.18, 'AMAR3': 0.08, 'ANIM3': 0.05, 'ARZZ3': 0.13, 'ATOM3': -0.46, 'AZEV4': -0.22, 'BAUH4': 0.24, 'BAZA3': -0.24, 'BBAS3': -0.13, 'BBDC3': -0.24, 'BBDC4': -0.19, 'BBRK3': -0.31, 'BBSE3': 0.27, 'BEEF3': 0.15, 'BEES3': -0.06, 'BEES4': -0.08, 'BGIP4': 0.27, 'BMEB4': -0.14, 'BMKS3': 0.21, 'BOBR4': 0.31, 'BPAN4': -0.32, 'BPHA3': -0.16, 'BRAP3': -0.14, 'BRAP4': -0.2, 'BRFS3': 0.14, 'BRIN3': -0.04, 'BRIV4': 0.29, 'BRKM3': -0.01, 'BRKM5': 0.04, 'BRKM6': -0.24, 'BRML3': -0.29, 'BRPR3': 0.18, 'BRSR6': -0.1, 'BSEV3': -0.24, 'BTOW3': 0.18, 'BTTL3': 0.43, 'BVMF3': 0.19, 'CARD3': 0.1, 'CCPR3': -0.1, 'CCRO3': 0.23, 'CCXC3': -0.2}\n",
      "ABCB2: {'AALR3': -0.83, 'ABCB2': 1.0, 'ABCB4': 0.85, 'ABEV3': 0.46, 'ADHM3': -0.03, 'AFLT3': 0.76, 'AGRO3': 0.61, 'ALPA3': 0.53, 'ALPA4': 0.52, 'ALSC3': 0.27, 'AMAR3': -0.1, 'ANIM3': 0.12, 'ARZZ3': 0.59, 'ATOM3': 0.67, 'AZEV4': -0.3, 'BAUH4': 0.19, 'BAZA3': 0.65, 'BBAS3': 0.69, 'BBDC3': 0.48, 'BBDC4': 0.5, 'BBRK3': -0.22, 'BBSE3': 0.23, 'BEEF3': 0.15, 'BEES3': 0.13, 'BEES4': 0.2, 'BGIP4': -0.02, 'BMEB4': -0.15, 'BMKS3': 0.4, 'BOBR4': -0.01, 'BPAN4': -0.3, 'BPHA3': 0.14, 'BRAP3': 0.34, 'BRAP4': 0.42, 'BRFS3': -0.32, 'BRIN3': 0.29, 'BRIV4': -0.02, 'BRKM3': 0.66, 'BRKM5': 0.59, 'BRKM6': 0.11, 'BRML3': -0.08, 'BRPR3': -0.12, 'BRSR6': 0.48, 'BSEV3': -0.22, 'BTOW3': -0.06, 'BTTL3': 0.3, 'BVMF3': 0.81, 'CARD3': 0.67, 'CCPR3': -0.36, 'CCRO3': 0.39, 'CCXC3': -0.04}\n",
      "ABCB4: {'AALR3': 0.01, 'ABCB2': 0.85, 'ABCB4': 1.0, 'ABEV3': 0.2, 'ADHM3': 0.6, 'AFLT3': 0.4, 'AGRO3': 0.57, 'ALPA3': -0.23, 'ALPA4': -0.34, 'ALSC3': 0.31, 'AMAR3': -0.03, 'ANIM3': 0.22, 'ARZZ3': 0.69, 'ATOM3': 0.89, 'AZEV4': -0.37, 'BAUH4': 0.58, 'BAZA3': 0.52, 'BBAS3': 0.76, 'BBDC3': 0.62, 'BBDC4': 0.59, 'BBRK3': 0.04, 'BBSE3': 0.11, 'BEEF3': 0.49, 'BEES3': -0.29, 'BEES4': -0.3, 'BGIP4': 0.25, 'BMEB4': -0.16, 'BMKS3': 0.2, 'BOBR4': -0.01, 'BPAN4': 0.3, 'BPHA3': 0.02, 'BRAP3': 0.08, 'BRAP4': 0.13, 'BRFS3': -0.19, 'BRIN3': 0.06, 'BRIV4': 0.01, 'BRKM3': 0.65, 'BRKM5': 0.64, 'BRKM6': 0.53, 'BRML3': 0.09, 'BRPR3': -0.09, 'BRSR6': 0.6, 'BSEV3': -0.24, 'BTOW3': -0.15, 'BTTL3': 0.4, 'BVMF3': 0.74, 'CARD3': 0.56, 'CCPR3': 0.2, 'CCRO3': -0.06, 'CCXC3': -0.27}\n",
      "ABEV3: {'AALR3': 0.28, 'ABCB2': 0.46, 'ABCB4': 0.2, 'ABEV3': 1.0, 'ADHM3': -0.24, 'AFLT3': 0.65, 'AGRO3': 0.71, 'ALPA3': 0.46, 'ALPA4': 0.32, 'ALSC3': -0.2, 'AMAR3': -0.55, 'ANIM3': -0.33, 'ARZZ3': 0.48, 'ATOM3': 0.06, 'AZEV4': -0.55, 'BAUH4': -0.04, 'BAZA3': 0.33, 'BBAS3': 0.12, 'BBDC3': -0.26, 'BBDC4': -0.14, 'BBRK3': -0.62, 'BBSE3': 0.06, 'BEEF3': -0.08, 'BEES3': 0.72, 'BEES4': 0.66, 'BGIP4': -0.21, 'BMEB4': -0.34, 'BMKS3': 0.06, 'BOBR4': 0.24, 'BPAN4': -0.48, 'BPHA3': 0.05, 'BRAP3': -0.02, 'BRAP4': -0.04, 'BRFS3': -0.12, 'BRIN3': 0.05, 'BRIV4': 0.18, 'BRKM3': 0.55, 'BRKM5': 0.51, 'BRKM6': 0.07, 'BRML3': -0.57, 'BRPR3': -0.38, 'BRSR6': -0.01, 'BSEV3': -0.43, 'BTOW3': -0.39, 'BTTL3': 0.39, 'BVMF3': 0.63, 'CARD3': 0.53, 'CCPR3': -0.71, 'CCRO3': -0.11, 'CCXC3': 0.24}\n",
      "ADHM3: {'AALR3': -0.37, 'ABCB2': -0.03, 'ABCB4': 0.6, 'ABEV3': -0.24, 'ADHM3': 1.0, 'AFLT3': 0.33, 'AGRO3': 0.0, 'ALPA3': -0.28, 'ALPA4': -0.22, 'ALSC3': -0.22, 'AMAR3': -0.06, 'ANIM3': -0.35, 'ARZZ3': -0.25, 'ATOM3': 0.53, 'AZEV4': 0.67, 'BAUH4': -0.34, 'BAZA3': 0.44, 'BBAS3': 0.24, 'BBDC3': 0.19, 'BBDC4': 0.08, 'BBRK3': 0.36, 'BBSE3': 0.03, 'BEEF3': -0.12, 'BEES3': 0.35, 'BEES4': 0.55, 'BGIP4': -0.21, 'BMEB4': 0.27, 'BMKS3': -0.05, 'BOBR4': -0.3, 'BPAN4': 0.74, 'BPHA3': 0.66, 'BRAP3': 0.12, 'BRAP4': 0.09, 'BRFS3': -0.26, 'BRIN3': 0.3, 'BRIV4': -0.06, 'BRKM3': -0.28, 'BRKM5': -0.35, 'BRKM6': -0.13, 'BRML3': 0.56, 'BRPR3': -0.09, 'BRSR6': 0.55, 'BSEV3': 0.14, 'BTOW3': -0.21, 'BTTL3': 0.14, 'BVMF3': -0.16, 'CARD3': 0.25, 'CCPR3': 0.21, 'CCRO3': 0.3, 'CCXC3': 0.33}\n",
      "AFLT3: {'AALR3': -0.13, 'ABCB2': 0.76, 'ABCB4': 0.4, 'ABEV3': 0.65, 'ADHM3': 0.33, 'AFLT3': 1.0, 'AGRO3': 0.31, 'ALPA3': 0.71, 'ALPA4': 0.68, 'ALSC3': 0.16, 'AMAR3': 0.19, 'ANIM3': 0.2, 'ARZZ3': 0.6, 'ATOM3': 0.3, 'AZEV4': 0.04, 'BAUH4': 0.13, 'BAZA3': 0.08, 'BBAS3': 0.4, 'BBDC3': -0.14, 'BBDC4': 0.2, 'BBRK3': 0.19, 'BBSE3': -0.24, 'BEEF3': -0.13, 'BEES3': 0.44, 'BEES4': 0.41, 'BGIP4': 0.45, 'BMEB4': 0.28, 'BMKS3': 0.38, 'BOBR4': 0.42, 'BPAN4': -0.05, 'BPHA3': 0.22, 'BRAP3': 0.54, 'BRAP4': 0.59, 'BRFS3': -0.62, 'BRIN3': 0.2, 'BRIV4': -0.01, 'BRKM3': 0.47, 'BRKM5': 0.38, 'BRKM6': 0.05, 'BRML3': 0.12, 'BRPR3': 0.3, 'BRSR6': 0.56, 'BSEV3': -0.49, 'BTOW3': -0.17, 'BTTL3': 0.02, 'BVMF3': 0.39, 'CARD3': 0.59, 'CCPR3': 0.08, 'CCRO3': 0.17, 'CCXC3': 0.14}\n",
      "AGRO3: {'AALR3': 0.19, 'ABCB2': 0.61, 'ABCB4': 0.57, 'ABEV3': 0.71, 'ADHM3': 0.0, 'AFLT3': 0.31, 'AGRO3': 1.0, 'ALPA3': -0.15, 'ALPA4': -0.22, 'ALSC3': -0.15, 'AMAR3': -0.5, 'ANIM3': -0.44, 'ARZZ3': 0.28, 'ATOM3': 0.35, 'AZEV4': -0.48, 'BAUH4': 0.4, 'BAZA3': 0.5, 'BBAS3': 0.32, 'BBDC3': 0.21, 'BBDC4': -0.03, 'BBRK3': -0.32, 'BBSE3': 0.01, 'BEEF3': 0.47, 'BEES3': -0.24, 'BEES4': -0.25, 'BGIP4': -0.22, 'BMEB4': -0.42, 'BMKS3': -0.07, 'BOBR4': -0.24, 'BPAN4': -0.35, 'BPHA3': -0.18, 'BRAP3': -0.24, 'BRAP4': -0.22, 'BRFS3': 0.1, 'BRIN3': 0.07, 'BRIV4': 0.18, 'BRKM3': 0.69, 'BRKM5': 0.73, 'BRKM6': 0.46, 'BRML3': -0.39, 'BRPR3': -0.48, 'BRSR6': 0.04, 'BSEV3': -0.35, 'BTOW3': -0.23, 'BTTL3': 0.6, 'BVMF3': 0.76, 'CARD3': 0.44, 'CCPR3': -0.2, 'CCRO3': -0.11, 'CCXC3': -0.0}\n",
      "ALPA3: {'AALR3': 0.26, 'ABCB2': 0.53, 'ABCB4': -0.23, 'ABEV3': 0.46, 'ADHM3': -0.28, 'AFLT3': 0.71, 'AGRO3': -0.15, 'ALPA3': 1.0, 'ALPA4': 0.99, 'ALSC3': -0.06, 'AMAR3': 0.3, 'ANIM3': 0.19, 'ARZZ3': 0.73, 'ATOM3': 0.47, 'AZEV4': 0.08, 'BAUH4': -0.31, 'BAZA3': -0.08, 'BBAS3': 0.09, 'BBDC3': -0.15, 'BBDC4': 0.1, 'BBRK3': 0.13, 'BBSE3': -0.29, 'BEEF3': -0.37, 'BEES3': 0.38, 'BEES4': 0.43, 'BGIP4': -0.12, 'BMEB4': 0.19, 'BMKS3': 0.11, 'BOBR4': 0.2, 'BPAN4': 0.07, 'BPHA3': 0.44, 'BRAP3': 0.25, 'BRAP4': 0.26, 'BRFS3': -0.06, 'BRIN3': -0.03, 'BRIV4': 0.31, 'BRKM3': -0.11, 'BRKM5': -0.2, 'BRKM6': -0.2, 'BRML3': 0.13, 'BRPR3': 0.5, 'BRSR6': -0.1, 'BSEV3': -0.16, 'BTOW3': 0.51, 'BTTL3': -0.13, 'BVMF3': -0.07, 'CARD3': 0.18, 'CCPR3': -0.19, 'CCRO3': 0.24, 'CCXC3': 0.13}\n",
      "ALPA4: {'AALR3': 0.18, 'ABCB2': 0.52, 'ABCB4': -0.34, 'ABEV3': 0.32, 'ADHM3': -0.22, 'AFLT3': 0.68, 'AGRO3': -0.22, 'ALPA3': 0.99, 'ALPA4': 1.0, 'ALSC3': 0.01, 'AMAR3': 0.33, 'ANIM3': 0.28, 'ARZZ3': 0.78, 'ATOM3': 0.64, 'AZEV4': 0.07, 'BAUH4': -0.38, 'BAZA3': -0.11, 'BBAS3': 0.03, 'BBDC3': -0.19, 'BBDC4': 0.08, 'BBRK3': 0.07, 'BBSE3': -0.38, 'BEEF3': -0.46, 'BEES3': 0.45, 'BEES4': 0.51, 'BGIP4': -0.21, 'BMEB4': 0.2, 'BMKS3': 0.12, 'BOBR4': 0.17, 'BPAN4': 0.11, 'BPHA3': 0.41, 'BRAP3': 0.25, 'BRAP4': 0.26, 'BRFS3': -0.02, 'BRIN3': -0.08, 'BRIV4': 0.36, 'BRKM3': -0.19, 'BRKM5': -0.3, 'BRKM6': -0.24, 'BRML3': 0.1, 'BRPR3': 0.54, 'BRSR6': -0.21, 'BSEV3': 0.07, 'BTOW3': 0.59, 'BTTL3': -0.16, 'BVMF3': -0.13, 'CARD3': 0.16, 'CCPR3': -0.28, 'CCRO3': 0.25, 'CCXC3': 0.02}\n",
      "ALSC3: {'AALR3': 0.18, 'ABCB2': 0.27, 'ABCB4': 0.31, 'ABEV3': -0.2, 'ADHM3': -0.22, 'AFLT3': 0.16, 'AGRO3': -0.15, 'ALPA3': -0.06, 'ALPA4': 0.01, 'ALSC3': 1.0, 'AMAR3': 0.47, 'ANIM3': 0.71, 'ARZZ3': 0.67, 'ATOM3': 0.68, 'AZEV4': 0.09, 'BAUH4': 0.35, 'BAZA3': -0.0, 'BBAS3': 0.09, 'BBDC3': 0.71, 'BBDC4': 0.52, 'BBRK3': 0.08, 'BBSE3': -0.23, 'BEEF3': 0.43, 'BEES3': -0.53, 'BEES4': -0.56, 'BGIP4': 0.64, 'BMEB4': 0.03, 'BMKS3': -0.17, 'BOBR4': -0.09, 'BPAN4': 0.55, 'BPHA3': 0.37, 'BRAP3': -0.07, 'BRAP4': -0.03, 'BRFS3': 0.17, 'BRIN3': -0.27, 'BRIV4': -0.41, 'BRKM3': -0.02, 'BRKM5': -0.05, 'BRKM6': 0.23, 'BRML3': 0.46, 'BRPR3': 0.59, 'BRSR6': 0.32, 'BSEV3': 0.5, 'BTOW3': -0.27, 'BTTL3': -0.06, 'BVMF3': 0.12, 'CARD3': -0.26, 'CCPR3': 0.73, 'CCRO3': -0.4, 'CCXC3': 0.03}\n",
      "AMAR3: {'AALR3': 0.08, 'ABCB2': -0.1, 'ABCB4': -0.03, 'ABEV3': -0.55, 'ADHM3': -0.06, 'AFLT3': 0.19, 'AGRO3': -0.5, 'ALPA3': 0.3, 'ALPA4': 0.33, 'ALSC3': 0.47, 'AMAR3': 1.0, 'ANIM3': 0.68, 'ARZZ3': 0.15, 'ATOM3': 0.2, 'AZEV4': 0.78, 'BAUH4': -0.4, 'BAZA3': -0.52, 'BBAS3': 0.16, 'BBDC3': 0.06, 'BBDC4': 0.44, 'BBRK3': 0.92, 'BBSE3': -0.41, 'BEEF3': -0.4, 'BEES3': 0.18, 'BEES4': 0.12, 'BGIP4': 0.76, 'BMEB4': 0.9, 'BMKS3': 0.47, 'BOBR4': 0.83, 'BPAN4': 0.62, 'BPHA3': 0.67, 'BRAP3': 0.74, 'BRAP4': 0.73, 'BRFS3': -0.49, 'BRIN3': 0.36, 'BRIV4': -0.34, 'BRKM3': -0.5, 'BRKM5': -0.57, 'BRKM6': -0.37, 'BRML3': 0.82, 'BRPR3': 0.89, 'BRSR6': 0.69, 'BSEV3': 0.72, 'BTOW3': 0.09, 'BTTL3': -0.68, 'BVMF3': -0.46, 'CARD3': -0.19, 'CCPR3': 0.77, 'CCRO3': 0.5, 'CCXC3': 0.28}\n",
      "ANIM3: {'AALR3': 0.05, 'ABCB2': 0.12, 'ABCB4': 0.22, 'ABEV3': -0.33, 'ADHM3': -0.35, 'AFLT3': 0.2, 'AGRO3': -0.44, 'ALPA3': 0.19, 'ALPA4': 0.28, 'ALSC3': 0.71, 'AMAR3': 0.68, 'ANIM3': 1.0, 'ARZZ3': 0.36, 'ATOM3': 0.48, 'AZEV4': 0.59, 'BAUH4': 0.66, 'BAZA3': -0.2, 'BBAS3': 0.44, 'BBDC3': 0.7, 'BBDC4': 0.73, 'BBRK3': 0.4, 'BBSE3': 0.35, 'BEEF3': 0.01, 'BEES3': -0.45, 'BEES4': -0.41, 'BGIP4': 0.68, 'BMEB4': 0.29, 'BMKS3': 0.45, 'BOBR4': 0.49, 'BPAN4': 0.64, 'BPHA3': -0.24, 'BRAP3': 0.52, 'BRAP4': 0.52, 'BRFS3': 0.13, 'BRIN3': -0.44, 'BRIV4': 0.17, 'BRKM3': -0.08, 'BRKM5': -0.13, 'BRKM6': 0.36, 'BRML3': 0.65, 'BRPR3': 0.51, 'BRSR6': 0.5, 'BSEV3': 0.01, 'BTOW3': 0.8, 'BTTL3': -0.59, 'BVMF3': -0.16, 'CARD3': -0.09, 'CCPR3': 0.43, 'CCRO3': 0.5, 'CCXC3': -0.67}\n",
      "ARZZ3: {'AALR3': 0.13, 'ABCB2': 0.59, 'ABCB4': 0.69, 'ABEV3': 0.48, 'ADHM3': -0.25, 'AFLT3': 0.6, 'AGRO3': 0.28, 'ALPA3': 0.73, 'ALPA4': 0.78, 'ALSC3': 0.67, 'AMAR3': 0.15, 'ANIM3': 0.36, 'ARZZ3': 1.0, 'ATOM3': 0.55, 'AZEV4': -0.26, 'BAUH4': 0.49, 'BAZA3': 0.35, 'BBAS3': 0.55, 'BBDC3': 0.52, 'BBDC4': 0.52, 'BBRK3': -0.04, 'BBSE3': -0.19, 'BEEF3': 0.35, 'BEES3': -0.16, 'BEES4': -0.12, 'BGIP4': 0.41, 'BMEB4': -0.03, 'BMKS3': 0.07, 'BOBR4': 0.1, 'BPAN4': 0.18, 'BPHA3': 0.17, 'BRAP3': 0.16, 'BRAP4': 0.25, 'BRFS3': -0.16, 'BRIN3': -0.2, 'BRIV4': -0.02, 'BRKM3': 0.55, 'BRKM5': 0.47, 'BRKM6': 0.65, 'BRML3': 0.26, 'BRPR3': 0.23, 'BRSR6': 0.39, 'BSEV3': -0.14, 'BTOW3': -0.06, 'BTTL3': 0.16, 'BVMF3': 0.64, 'CARD3': 0.55, 'CCPR3': 0.18, 'CCRO3': -0.23, 'CCXC3': -0.04}\n",
      "ATOM3: {'AALR3': -0.46, 'ABCB2': 0.67, 'ABCB4': 0.89, 'ABEV3': 0.06, 'ADHM3': 0.53, 'AFLT3': 0.3, 'AGRO3': 0.35, 'ALPA3': 0.47, 'ALPA4': 0.64, 'ALSC3': 0.68, 'AMAR3': 0.2, 'ANIM3': 0.48, 'ARZZ3': 0.55, 'ATOM3': 1.0, 'AZEV4': -0.11, 'BAUH4': 0.67, 'BAZA3': 0.91, 'BBAS3': 0.87, 'BBDC3': 0.66, 'BBDC4': 0.77, 'BBRK3': -0.19, 'BBSE3': 0.33, 'BEEF3': -0.07, 'BEES3': 0.87, 'BEES4': 0.86, 'BGIP4': 0.63, 'BMEB4': 0.08, 'BMKS3': 0.64, 'BOBR4': 0.41, 'BPAN4': 0.44, 'BPHA3': 0.21, 'BRAP3': 0.82, 'BRAP4': 0.82, 'BRFS3': -0.63, 'BRIN3': -0.03, 'BRIV4': -0.49, 'BRKM3': 0.68, 'BRKM5': 0.63, 'BRKM6': 0.78, 'BRML3': 0.12, 'BRPR3': 0.15, 'BRSR6': 0.88, 'BSEV3': -0.29, 'BTOW3': 0.16, 'BTTL3': -0.31, 'BVMF3': 0.68, 'CARD3': 0.8, 'CCPR3': 0.09, 'CCRO3': 0.71, 'CCXC3': -0.88}\n",
      "AZEV4: {'AALR3': -0.22, 'ABCB2': -0.3, 'ABCB4': -0.37, 'ABEV3': -0.55, 'ADHM3': 0.67, 'AFLT3': 0.04, 'AGRO3': -0.48, 'ALPA3': 0.08, 'ALPA4': 0.07, 'ALSC3': 0.09, 'AMAR3': 0.78, 'ANIM3': 0.59, 'ARZZ3': -0.26, 'ATOM3': -0.11, 'AZEV4': 1.0, 'BAUH4': -0.47, 'BAZA3': -0.52, 'BBAS3': -0.06, 'BBDC3': -0.21, 'BBDC4': 0.16, 'BBRK3': 0.85, 'BBSE3': 0.05, 'BEEF3': -0.64, 'BEES3': 0.41, 'BEES4': 0.34, 'BGIP4': 0.61, 'BMEB4': 0.79, 'BMKS3': 0.35, 'BOBR4': 0.76, 'BPAN4': 0.5, 'BPHA3': 0.63, 'BRAP3': 0.76, 'BRAP4': 0.69, 'BRFS3': -0.48, 'BRIN3': 0.64, 'BRIV4': -0.27, 'BRKM3': -0.49, 'BRKM5': -0.5, 'BRKM6': -0.2, 'BRML3': 0.61, 'BRPR3': 0.66, 'BRSR6': 0.51, 'BSEV3': 0.54, 'BTOW3': 0.15, 'BTTL3': -0.57, 'BVMF3': -0.6, 'CARD3': -0.35, 'CCPR3': 0.46, 'CCRO3': 0.71, 'CCXC3': 0.27}\n",
      "BAUH4: {'AALR3': 0.24, 'ABCB2': 0.19, 'ABCB4': 0.58, 'ABEV3': -0.04, 'ADHM3': -0.34, 'AFLT3': 0.13, 'AGRO3': 0.4, 'ALPA3': -0.31, 'ALPA4': -0.38, 'ALSC3': 0.35, 'AMAR3': -0.4, 'ANIM3': 0.66, 'ARZZ3': 0.49, 'ATOM3': 0.67, 'AZEV4': -0.47, 'BAUH4': 1.0, 'BAZA3': 0.43, 'BBAS3': 0.32, 'BBDC3': 0.71, 'BBDC4': 0.28, 'BBRK3': -0.45, 'BBSE3': -0.09, 'BEEF3': 0.66, 'BEES3': -0.65, 'BEES4': -0.62, 'BGIP4': 0.18, 'BMEB4': -0.59, 'BMKS3': -0.38, 'BOBR4': -0.45, 'BPAN4': 0.46, 'BPHA3': -0.43, 'BRAP3': -0.52, 'BRAP4': -0.43, 'BRFS3': 0.43, 'BRIN3': -0.37, 'BRIV4': 0.03, 'BRKM3': 0.54, 'BRKM5': 0.6, 'BRKM6': 0.76, 'BRML3': -0.26, 'BRPR3': -0.34, 'BRSR6': 0.12, 'BSEV3': -0.14, 'BTOW3': -0.22, 'BTTL3': 0.38, 'BVMF3': 0.51, 'CARD3': 0.09, 'CCPR3': 0.05, 'CCRO3': -0.57, 'CCXC3': -0.62}\n",
      "BAZA3: {'AALR3': -0.24, 'ABCB2': 0.65, 'ABCB4': 0.52, 'ABEV3': 0.33, 'ADHM3': 0.44, 'AFLT3': 0.08, 'AGRO3': 0.5, 'ALPA3': -0.08, 'ALPA4': -0.11, 'ALSC3': -0.0, 'AMAR3': -0.52, 'ANIM3': -0.2, 'ARZZ3': 0.35, 'ATOM3': 0.91, 'AZEV4': -0.52, 'BAUH4': 0.43, 'BAZA3': 1.0, 'BBAS3': 0.37, 'BBDC3': 0.19, 'BBDC4': 0.08, 'BBRK3': -0.47, 'BBSE3': 0.12, 'BEEF3': 0.29, 'BEES3': -0.07, 'BEES4': -0.07, 'BGIP4': -0.22, 'BMEB4': -0.55, 'BMKS3': -0.16, 'BOBR4': -0.43, 'BPAN4': -0.12, 'BPHA3': -0.1, 'BRAP3': -0.22, 'BRAP4': -0.19, 'BRFS3': 0.03, 'BRIN3': -0.14, 'BRIV4': -0.09, 'BRKM3': 0.82, 'BRKM5': 0.76, 'BRKM6': 0.72, 'BRML3': -0.41, 'BRPR3': -0.45, 'BRSR6': 0.05, 'BSEV3': -0.45, 'BTOW3': -0.21, 'BTTL3': 0.74, 'BVMF3': 0.75, 'CARD3': 0.52, 'CCPR3': -0.32, 'CCRO3': -0.22, 'CCXC3': -0.2}\n",
      "BBAS3: {'AALR3': -0.13, 'ABCB2': 0.69, 'ABCB4': 0.76, 'ABEV3': 0.12, 'ADHM3': 0.24, 'AFLT3': 0.4, 'AGRO3': 0.32, 'ALPA3': 0.09, 'ALPA4': 0.03, 'ALSC3': 0.09, 'AMAR3': 0.16, 'ANIM3': 0.44, 'ARZZ3': 0.55, 'ATOM3': 0.87, 'AZEV4': -0.06, 'BAUH4': 0.32, 'BAZA3': 0.37, 'BBAS3': 1.0, 'BBDC3': 0.44, 'BBDC4': 0.75, 'BBRK3': 0.29, 'BBSE3': 0.27, 'BEEF3': 0.06, 'BEES3': 0.13, 'BEES4': 0.12, 'BGIP4': 0.21, 'BMEB4': 0.14, 'BMKS3': 0.45, 'BOBR4': 0.31, 'BPAN4': 0.45, 'BPHA3': 0.05, 'BRAP3': 0.48, 'BRAP4': 0.53, 'BRFS3': -0.36, 'BRIN3': 0.3, 'BRIV4': 0.26, 'BRKM3': 0.49, 'BRKM5': 0.42, 'BRKM6': 0.26, 'BRML3': 0.23, 'BRPR3': 0.01, 'BRSR6': 0.67, 'BSEV3': -0.33, 'BTOW3': 0.33, 'BTTL3': 0.07, 'BVMF3': 0.51, 'CARD3': 0.67, 'CCPR3': -0.05, 'CCRO3': 0.38, 'CCXC3': -0.43}\n",
      "BBDC3: {'AALR3': -0.24, 'ABCB2': 0.48, 'ABCB4': 0.62, 'ABEV3': -0.26, 'ADHM3': 0.19, 'AFLT3': -0.14, 'AGRO3': 0.21, 'ALPA3': -0.15, 'ALPA4': -0.19, 'ALSC3': 0.71, 'AMAR3': 0.06, 'ANIM3': 0.7, 'ARZZ3': 0.52, 'ATOM3': 0.66, 'AZEV4': -0.21, 'BAUH4': 0.71, 'BAZA3': 0.19, 'BBAS3': 0.44, 'BBDC3': 1.0, 'BBDC4': 0.71, 'BBRK3': -0.08, 'BBSE3': 0.15, 'BEEF3': 0.6, 'BEES3': -0.65, 'BEES4': -0.63, 'BGIP4': 0.33, 'BMEB4': -0.27, 'BMKS3': -0.17, 'BOBR4': -0.22, 'BPAN4': 0.64, 'BPHA3': -0.15, 'BRAP3': -0.25, 'BRAP4': -0.19, 'BRFS3': 0.45, 'BRIN3': -0.26, 'BRIV4': 0.07, 'BRKM3': 0.23, 'BRKM5': 0.27, 'BRKM6': 0.37, 'BRML3': 0.22, 'BRPR3': 0.06, 'BRSR6': 0.3, 'BSEV3': 0.21, 'BTOW3': -0.01, 'BTTL3': 0.09, 'BVMF3': 0.38, 'CARD3': -0.04, 'CCPR3': 0.39, 'CCRO3': -0.34, 'CCXC3': -0.42}\n",
      "BBDC4: {'AALR3': -0.19, 'ABCB2': 0.5, 'ABCB4': 0.59, 'ABEV3': -0.14, 'ADHM3': 0.08, 'AFLT3': 0.2, 'AGRO3': -0.03, 'ALPA3': 0.1, 'ALPA4': 0.08, 'ALSC3': 0.52, 'AMAR3': 0.44, 'ANIM3': 0.73, 'ARZZ3': 0.52, 'ATOM3': 0.77, 'AZEV4': 0.16, 'BAUH4': 0.28, 'BAZA3': 0.08, 'BBAS3': 0.75, 'BBDC3': 0.71, 'BBDC4': 1.0, 'BBRK3': 0.35, 'BBSE3': 0.34, 'BEEF3': 0.11, 'BEES3': -0.07, 'BEES4': -0.07, 'BGIP4': 0.41, 'BMEB4': 0.24, 'BMKS3': 0.29, 'BOBR4': 0.31, 'BPAN4': 0.6, 'BPHA3': 0.14, 'BRAP3': 0.39, 'BRAP4': 0.42, 'BRFS3': -0.13, 'BRIN3': 0.1, 'BRIV4': 0.14, 'BRKM3': 0.13, 'BRKM5': 0.06, 'BRKM6': 0.08, 'BRML3': 0.52, 'BRPR3': 0.33, 'BRSR6': 0.65, 'BSEV3': -0.03, 'BTOW3': 0.33, 'BTTL3': -0.22, 'BVMF3': 0.25, 'CARD3': 0.29, 'CCPR3': 0.33, 'CCRO3': 0.18, 'CCXC3': -0.31}\n",
      "BBRK3: {'AALR3': -0.31, 'ABCB2': -0.22, 'ABCB4': 0.04, 'ABEV3': -0.62, 'ADHM3': 0.36, 'AFLT3': 0.19, 'AGRO3': -0.32, 'ALPA3': 0.13, 'ALPA4': 0.07, 'ALSC3': 0.08, 'AMAR3': 0.92, 'ANIM3': 0.4, 'ARZZ3': -0.04, 'ATOM3': -0.19, 'AZEV4': 0.85, 'BAUH4': -0.45, 'BAZA3': -0.47, 'BBAS3': 0.29, 'BBDC3': -0.08, 'BBDC4': 0.35, 'BBRK3': 1.0, 'BBSE3': -0.57, 'BEEF3': -0.36, 'BEES3': 0.31, 'BEES4': 0.26, 'BGIP4': 0.61, 'BMEB4': 0.92, 'BMKS3': 0.57, 'BOBR4': 0.9, 'BPAN4': 0.57, 'BPHA3': 0.72, 'BRAP3': 0.84, 'BRAP4': 0.82, 'BRFS3': -0.63, 'BRIN3': 0.52, 'BRIV4': -0.13, 'BRKM3': -0.4, 'BRKM5': -0.42, 'BRKM6': -0.35, 'BRML3': 0.71, 'BRPR3': 0.78, 'BRSR6': 0.67, 'BSEV3': 0.75, 'BTOW3': 0.19, 'BTTL3': -0.58, 'BVMF3': -0.4, 'CARD3': 0.0, 'CCPR3': 0.56, 'CCRO3': 0.64, 'CCXC3': 0.32}\n",
      "BBSE3: {'AALR3': 0.27, 'ABCB2': 0.23, 'ABCB4': 0.11, 'ABEV3': 0.06, 'ADHM3': 0.03, 'AFLT3': -0.24, 'AGRO3': 0.01, 'ALPA3': -0.29, 'ALPA4': -0.38, 'ALSC3': -0.23, 'AMAR3': -0.41, 'ANIM3': 0.35, 'ARZZ3': -0.19, 'ATOM3': 0.33, 'AZEV4': 0.05, 'BAUH4': -0.09, 'BAZA3': 0.12, 'BBAS3': 0.27, 'BBDC3': 0.15, 'BBDC4': 0.34, 'BBRK3': -0.57, 'BBSE3': 1.0, 'BEEF3': -0.02, 'BEES3': 0.3, 'BEES4': 0.27, 'BGIP4': -0.59, 'BMEB4': -0.75, 'BMKS3': -0.32, 'BOBR4': -0.66, 'BPAN4': 0.32, 'BPHA3': -0.56, 'BRAP3': -0.29, 'BRAP4': -0.3, 'BRFS3': 0.38, 'BRIN3': -0.55, 'BRIV4': 0.34, 'BRKM3': 0.02, 'BRKM5': -0.03, 'BRKM6': -0.19, 'BRML3': -0.22, 'BRPR3': -0.55, 'BRSR6': -0.13, 'BSEV3': -0.58, 'BTOW3': 0.54, 'BTTL3': 0.14, 'BVMF3': 0.11, 'CARD3': 0.1, 'CCPR3': -0.65, 'CCRO3': -0.03, 'CCXC3': -0.36}\n",
      "BEEF3: {'AALR3': 0.15, 'ABCB2': 0.15, 'ABCB4': 0.49, 'ABEV3': -0.08, 'ADHM3': -0.12, 'AFLT3': -0.13, 'AGRO3': 0.47, 'ALPA3': -0.37, 'ALPA4': -0.46, 'ALSC3': 0.43, 'AMAR3': -0.4, 'ANIM3': 0.01, 'ARZZ3': 0.35, 'ATOM3': -0.07, 'AZEV4': -0.64, 'BAUH4': 0.66, 'BAZA3': 0.29, 'BBAS3': 0.06, 'BBDC3': 0.6, 'BBDC4': 0.11, 'BBRK3': -0.36, 'BBSE3': -0.02, 'BEEF3': 1.0, 'BEES3': -0.81, 'BEES4': -0.81, 'BGIP4': 0.08, 'BMEB4': -0.53, 'BMKS3': -0.43, 'BOBR4': -0.42, 'BPAN4': 0.25, 'BPHA3': -0.38, 'BRAP3': -0.58, 'BRAP4': -0.54, 'BRFS3': 0.6, 'BRIN3': -0.47, 'BRIV4': -0.08, 'BRKM3': 0.39, 'BRKM5': 0.51, 'BRKM6': 0.47, 'BRML3': -0.06, 'BRPR3': -0.22, 'BRSR6': -0.04, 'BSEV3': -0.28, 'BTOW3': -0.37, 'BTTL3': 0.37, 'BVMF3': 0.47, 'CARD3': -0.08, 'CCPR3': 0.36, 'CCRO3': -0.61, 'CCXC3': 0.1}\n",
      "BEES3: {'AALR3': -0.06, 'ABCB2': 0.13, 'ABCB4': -0.29, 'ABEV3': 0.72, 'ADHM3': 0.35, 'AFLT3': 0.44, 'AGRO3': -0.24, 'ALPA3': 0.38, 'ALPA4': 0.45, 'ALSC3': -0.53, 'AMAR3': 0.18, 'ANIM3': -0.45, 'ARZZ3': -0.16, 'ATOM3': 0.87, 'AZEV4': 0.41, 'BAUH4': -0.65, 'BAZA3': -0.07, 'BBAS3': 0.13, 'BBDC3': -0.65, 'BBDC4': -0.07, 'BBRK3': 0.31, 'BBSE3': 0.3, 'BEEF3': -0.81, 'BEES3': 1.0, 'BEES4': 0.99, 'BGIP4': -0.12, 'BMEB4': 0.45, 'BMKS3': 0.42, 'BOBR4': 0.44, 'BPAN4': -0.38, 'BPHA3': 0.3, 'BRAP3': 0.66, 'BRAP4': 0.62, 'BRFS3': -0.68, 'BRIN3': 0.41, 'BRIV4': 0.12, 'BRKM3': -0.09, 'BRKM5': -0.23, 'BRKM6': -0.31, 'BRML3': 0.03, 'BRPR3': 0.1, 'BRSR6': 0.14, 'BSEV3': -0.63, 'BTOW3': 0.31, 'BTTL3': -0.17, 'BVMF3': -0.19, 'CARD3': 0.37, 'CCPR3': -0.4, 'CCRO3': 0.56, 'CCXC3': 0.27}\n",
      "BEES4: {'AALR3': -0.08, 'ABCB2': 0.2, 'ABCB4': -0.3, 'ABEV3': 0.66, 'ADHM3': 0.55, 'AFLT3': 0.41, 'AGRO3': -0.25, 'ALPA3': 0.43, 'ALPA4': 0.51, 'ALSC3': -0.56, 'AMAR3': 0.12, 'ANIM3': -0.41, 'ARZZ3': -0.12, 'ATOM3': 0.86, 'AZEV4': 0.34, 'BAUH4': -0.62, 'BAZA3': -0.07, 'BBAS3': 0.12, 'BBDC3': -0.63, 'BBDC4': -0.07, 'BBRK3': 0.26, 'BBSE3': 0.27, 'BEEF3': -0.81, 'BEES3': 0.99, 'BEES4': 1.0, 'BGIP4': -0.18, 'BMEB4': 0.42, 'BMKS3': 0.44, 'BOBR4': 0.4, 'BPAN4': -0.3, 'BPHA3': 0.27, 'BRAP3': 0.63, 'BRAP4': 0.61, 'BRFS3': -0.67, 'BRIN3': 0.39, 'BRIV4': 0.21, 'BRKM3': -0.09, 'BRKM5': -0.22, 'BRKM6': -0.34, 'BRML3': 0.01, 'BRPR3': 0.02, 'BRSR6': 0.05, 'BSEV3': -0.61, 'BTOW3': 0.39, 'BTTL3': -0.17, 'BVMF3': -0.17, 'CARD3': 0.38, 'CCPR3': -0.46, 'CCRO3': 0.59, 'CCXC3': 0.17}\n",
      "BGIP4: {'AALR3': 0.27, 'ABCB2': -0.02, 'ABCB4': 0.25, 'ABEV3': -0.21, 'ADHM3': -0.21, 'AFLT3': 0.45, 'AGRO3': -0.22, 'ALPA3': -0.12, 'ALPA4': -0.21, 'ALSC3': 0.64, 'AMAR3': 0.76, 'ANIM3': 0.68, 'ARZZ3': 0.41, 'ATOM3': 0.63, 'AZEV4': 0.61, 'BAUH4': 0.18, 'BAZA3': -0.22, 'BBAS3': 0.21, 'BBDC3': 0.33, 'BBDC4': 0.41, 'BBRK3': 0.61, 'BBSE3': -0.59, 'BEEF3': 0.08, 'BEES3': -0.12, 'BEES4': -0.18, 'BGIP4': 1.0, 'BMEB4': 0.55, 'BMKS3': 0.1, 'BOBR4': 0.53, 'BPAN4': 0.59, 'BPHA3': 0.61, 'BRAP3': 0.46, 'BRAP4': 0.47, 'BRFS3': -0.37, 'BRIN3': 0.04, 'BRIV4': -0.55, 'BRKM3': -0.07, 'BRKM5': -0.08, 'BRKM6': 0.1, 'BRML3': 0.62, 'BRPR3': 0.89, 'BRSR6': 0.74, 'BSEV3': 0.42, 'BTOW3': -0.33, 'BTTL3': -0.36, 'BVMF3': -0.17, 'CARD3': -0.15, 'CCPR3': 0.86, 'CCRO3': 0.02, 'CCXC3': 0.16}\n",
      "BMEB4: {'AALR3': -0.14, 'ABCB2': -0.15, 'ABCB4': -0.16, 'ABEV3': -0.34, 'ADHM3': 0.27, 'AFLT3': 0.28, 'AGRO3': -0.42, 'ALPA3': 0.19, 'ALPA4': 0.2, 'ALSC3': 0.03, 'AMAR3': 0.9, 'ANIM3': 0.29, 'ARZZ3': -0.03, 'ATOM3': 0.08, 'AZEV4': 0.79, 'BAUH4': -0.59, 'BAZA3': -0.55, 'BBAS3': 0.14, 'BBDC3': -0.27, 'BBDC4': 0.24, 'BBRK3': 0.92, 'BBSE3': -0.75, 'BEEF3': -0.53, 'BEES3': 0.45, 'BEES4': 0.42, 'BGIP4': 0.55, 'BMEB4': 1.0, 'BMKS3': 0.52, 'BOBR4': 0.91, 'BPAN4': 0.48, 'BPHA3': 0.76, 'BRAP3': 0.86, 'BRAP4': 0.84, 'BRFS3': -0.69, 'BRIN3': 0.41, 'BRIV4': -0.09, 'BRKM3': -0.48, 'BRKM5': -0.52, 'BRKM6': -0.49, 'BRML3': 0.72, 'BRPR3': 0.78, 'BRSR6': 0.54, 'BSEV3': 0.75, 'BTOW3': 0.23, 'BTTL3': -0.64, 'BVMF3': -0.48, 'CARD3': -0.01, 'CCPR3': 0.48, 'CCRO3': 0.63, 'CCXC3': 0.41}\n",
      "BMKS3: {'AALR3': 0.21, 'ABCB2': 0.4, 'ABCB4': 0.2, 'ABEV3': 0.06, 'ADHM3': -0.05, 'AFLT3': 0.38, 'AGRO3': -0.07, 'ALPA3': 0.11, 'ALPA4': 0.12, 'ALSC3': -0.17, 'AMAR3': 0.47, 'ANIM3': 0.45, 'ARZZ3': 0.07, 'ATOM3': 0.64, 'AZEV4': 0.35, 'BAUH4': -0.38, 'BAZA3': -0.16, 'BBAS3': 0.45, 'BBDC3': -0.17, 'BBDC4': 0.29, 'BBRK3': 0.57, 'BBSE3': -0.32, 'BEEF3': -0.43, 'BEES3': 0.42, 'BEES4': 0.44, 'BGIP4': 0.1, 'BMEB4': 0.52, 'BMKS3': 1.0, 'BOBR4': 0.62, 'BPAN4': 0.31, 'BPHA3': 0.46, 'BRAP3': 0.65, 'BRAP4': 0.68, 'BRFS3': -0.55, 'BRIN3': 0.75, 'BRIV4': 0.21, 'BRKM3': -0.07, 'BRKM5': -0.11, 'BRKM6': -0.18, 'BRML3': 0.21, 'BRPR3': 0.23, 'BRSR6': 0.46, 'BSEV3': 0.24, 'BTOW3': 0.48, 'BTTL3': -0.22, 'BVMF3': -0.08, 'CARD3': 0.32, 'CCPR3': -0.09, 'CCRO3': 0.62, 'CCXC3': -0.11}\n",
      "BOBR4: {'AALR3': 0.31, 'ABCB2': -0.01, 'ABCB4': -0.01, 'ABEV3': 0.24, 'ADHM3': -0.3, 'AFLT3': 0.42, 'AGRO3': -0.24, 'ALPA3': 0.2, 'ALPA4': 0.17, 'ALSC3': -0.09, 'AMAR3': 0.83, 'ANIM3': 0.49, 'ARZZ3': 0.1, 'ATOM3': 0.41, 'AZEV4': 0.76, 'BAUH4': -0.45, 'BAZA3': -0.43, 'BBAS3': 0.31, 'BBDC3': -0.22, 'BBDC4': 0.31, 'BBRK3': 0.9, 'BBSE3': -0.66, 'BEEF3': -0.42, 'BEES3': 0.44, 'BEES4': 0.4, 'BGIP4': 0.53, 'BMEB4': 0.91, 'BMKS3': 0.62, 'BOBR4': 1.0, 'BPAN4': 0.15, 'BPHA3': 0.73, 'BRAP3': 0.92, 'BRAP4': 0.92, 'BRFS3': -0.73, 'BRIN3': 0.57, 'BRIV4': 0.06, 'BRKM3': -0.26, 'BRKM5': -0.3, 'BRKM6': -0.25, 'BRML3': 0.62, 'BRPR3': 0.68, 'BRSR6': 0.61, 'BSEV3': 0.38, 'BTOW3': 0.31, 'BTTL3': -0.57, 'BVMF3': -0.31, 'CARD3': 0.18, 'CCPR3': 0.38, 'CCRO3': 0.74, 'CCXC3': 0.29}\n",
      "BPAN4: {'AALR3': -0.32, 'ABCB2': -0.3, 'ABCB4': 0.3, 'ABEV3': -0.48, 'ADHM3': 0.74, 'AFLT3': -0.05, 'AGRO3': -0.35, 'ALPA3': 0.07, 'ALPA4': 0.11, 'ALSC3': 0.55, 'AMAR3': 0.62, 'ANIM3': 0.64, 'ARZZ3': 0.18, 'ATOM3': 0.44, 'AZEV4': 0.5, 'BAUH4': 0.46, 'BAZA3': -0.12, 'BBAS3': 0.45, 'BBDC3': 0.64, 'BBDC4': 0.6, 'BBRK3': 0.57, 'BBSE3': 0.32, 'BEEF3': 0.25, 'BEES3': -0.38, 'BEES4': -0.3, 'BGIP4': 0.59, 'BMEB4': 0.48, 'BMKS3': 0.31, 'BOBR4': 0.15, 'BPAN4': 1.0, 'BPHA3': -0.04, 'BRAP3': 0.41, 'BRAP4': 0.41, 'BRFS3': -0.02, 'BRIN3': -0.14, 'BRIV4': 0.4, 'BRKM3': -0.06, 'BRKM5': -0.08, 'BRKM6': 0.1, 'BRML3': 0.78, 'BRPR3': 0.6, 'BRSR6': 0.49, 'BSEV3': 0.07, 'BTOW3': 0.71, 'BTTL3': -0.38, 'BVMF3': -0.09, 'CARD3': 0.05, 'CCPR3': 0.72, 'CCRO3': 0.48, 'CCXC3': -0.38}\n",
      "BPHA3: {'AALR3': -0.16, 'ABCB2': 0.14, 'ABCB4': 0.02, 'ABEV3': 0.05, 'ADHM3': 0.66, 'AFLT3': 0.22, 'AGRO3': -0.18, 'ALPA3': 0.44, 'ALPA4': 0.41, 'ALSC3': 0.37, 'AMAR3': 0.67, 'ANIM3': -0.24, 'ARZZ3': 0.17, 'ATOM3': 0.21, 'AZEV4': 0.63, 'BAUH4': -0.43, 'BAZA3': -0.1, 'BBAS3': 0.05, 'BBDC3': -0.15, 'BBDC4': 0.14, 'BBRK3': 0.72, 'BBSE3': -0.56, 'BEEF3': -0.38, 'BEES3': 0.3, 'BEES4': 0.27, 'BGIP4': 0.61, 'BMEB4': 0.76, 'BMKS3': 0.46, 'BOBR4': 0.73, 'BPAN4': -0.04, 'BPHA3': 1.0, 'BRAP3': 0.71, 'BRAP4': 0.67, 'BRFS3': -0.67, 'BRIN3': 0.19, 'BRIV4': -0.61, 'BRKM3': -0.13, 'BRKM5': -0.2, 'BRKM6': -0.02, 'BRML3': 0.59, 'BRPR3': 0.65, 'BRSR6': 0.61, 'BSEV3': 0.68, 'BTOW3': -0.48, 'BTTL3': -0.19, 'BVMF3': -0.12, 'CARD3': 0.03, 'CCPR3': 0.6, 'CCRO3': 0.52, 'CCXC3': 0.51}\n",
      "BRAP3: {'AALR3': -0.14, 'ABCB2': 0.34, 'ABCB4': 0.08, 'ABEV3': -0.02, 'ADHM3': 0.12, 'AFLT3': 0.54, 'AGRO3': -0.24, 'ALPA3': 0.25, 'ALPA4': 0.25, 'ALSC3': -0.07, 'AMAR3': 0.74, 'ANIM3': 0.52, 'ARZZ3': 0.16, 'ATOM3': 0.82, 'AZEV4': 0.76, 'BAUH4': -0.52, 'BAZA3': -0.22, 'BBAS3': 0.48, 'BBDC3': -0.25, 'BBDC4': 0.39, 'BBRK3': 0.84, 'BBSE3': -0.29, 'BEEF3': -0.58, 'BEES3': 0.66, 'BEES4': 0.63, 'BGIP4': 0.46, 'BMEB4': 0.86, 'BMKS3': 0.65, 'BOBR4': 0.92, 'BPAN4': 0.41, 'BPHA3': 0.71, 'BRAP3': 1.0, 'BRAP4': 0.99, 'BRFS3': -0.82, 'BRIN3': 0.59, 'BRIV4': -0.03, 'BRKM3': -0.12, 'BRKM5': -0.23, 'BRKM6': -0.2, 'BRML3': 0.54, 'BRPR3': 0.6, 'BRSR6': 0.68, 'BSEV3': 0.06, 'BTOW3': 0.32, 'BTTL3': -0.44, 'BVMF3': -0.2, 'CARD3': 0.38, 'CCPR3': 0.19, 'CCRO3': 0.78, 'CCXC3': 0.21}\n",
      "BRAP4: {'AALR3': -0.2, 'ABCB2': 0.42, 'ABCB4': 0.13, 'ABEV3': -0.04, 'ADHM3': 0.09, 'AFLT3': 0.59, 'AGRO3': -0.22, 'ALPA3': 0.26, 'ALPA4': 0.26, 'ALSC3': -0.03, 'AMAR3': 0.73, 'ANIM3': 0.52, 'ARZZ3': 0.25, 'ATOM3': 0.82, 'AZEV4': 0.69, 'BAUH4': -0.43, 'BAZA3': -0.19, 'BBAS3': 0.53, 'BBDC3': -0.19, 'BBDC4': 0.42, 'BBRK3': 0.82, 'BBSE3': -0.3, 'BEEF3': -0.54, 'BEES3': 0.62, 'BEES4': 0.61, 'BGIP4': 0.47, 'BMEB4': 0.84, 'BMKS3': 0.68, 'BOBR4': 0.92, 'BPAN4': 0.41, 'BPHA3': 0.67, 'BRAP3': 0.99, 'BRAP4': 1.0, 'BRFS3': -0.8, 'BRIN3': 0.58, 'BRIV4': -0.01, 'BRKM3': -0.08, 'BRKM5': -0.19, 'BRKM6': -0.16, 'BRML3': 0.54, 'BRPR3': 0.59, 'BRSR6': 0.68, 'BSEV3': 0.08, 'BTOW3': 0.35, 'BTTL3': -0.44, 'BVMF3': -0.15, 'CARD3': 0.41, 'CCPR3': 0.18, 'CCRO3': 0.76, 'CCXC3': 0.1}\n",
      "BRFS3: {'AALR3': 0.14, 'ABCB2': -0.32, 'ABCB4': -0.19, 'ABEV3': -0.12, 'ADHM3': -0.26, 'AFLT3': -0.62, 'AGRO3': 0.1, 'ALPA3': -0.06, 'ALPA4': -0.02, 'ALSC3': 0.17, 'AMAR3': -0.49, 'ANIM3': 0.13, 'ARZZ3': -0.16, 'ATOM3': -0.63, 'AZEV4': -0.48, 'BAUH4': 0.43, 'BAZA3': 0.03, 'BBAS3': -0.36, 'BBDC3': 0.45, 'BBDC4': -0.13, 'BBRK3': -0.63, 'BBSE3': 0.38, 'BEEF3': 0.6, 'BEES3': -0.68, 'BEES4': -0.67, 'BGIP4': -0.37, 'BMEB4': -0.69, 'BMKS3': -0.55, 'BOBR4': -0.73, 'BPAN4': -0.02, 'BPHA3': -0.67, 'BRAP3': -0.82, 'BRAP4': -0.8, 'BRFS3': 1.0, 'BRIN3': -0.48, 'BRIV4': 0.23, 'BRKM3': -0.12, 'BRKM5': -0.01, 'BRKM6': 0.04, 'BRML3': -0.37, 'BRPR3': -0.39, 'BRSR6': -0.61, 'BSEV3': 0.13, 'BTOW3': -0.03, 'BTTL3': 0.14, 'BVMF3': -0.01, 'CARD3': -0.49, 'CCPR3': -0.08, 'CCRO3': -0.64, 'CCXC3': -0.37}\n",
      "BRIN3: {'AALR3': -0.04, 'ABCB2': 0.29, 'ABCB4': 0.06, 'ABEV3': 0.05, 'ADHM3': 0.3, 'AFLT3': 0.2, 'AGRO3': 0.07, 'ALPA3': -0.03, 'ALPA4': -0.08, 'ALSC3': -0.27, 'AMAR3': 0.36, 'ANIM3': -0.44, 'ARZZ3': -0.2, 'ATOM3': -0.03, 'AZEV4': 0.64, 'BAUH4': -0.37, 'BAZA3': -0.14, 'BBAS3': 0.3, 'BBDC3': -0.26, 'BBDC4': 0.1, 'BBRK3': 0.52, 'BBSE3': -0.55, 'BEEF3': -0.47, 'BEES3': 0.41, 'BEES4': 0.39, 'BGIP4': 0.04, 'BMEB4': 0.41, 'BMKS3': 0.75, 'BOBR4': 0.57, 'BPAN4': -0.14, 'BPHA3': 0.19, 'BRAP3': 0.59, 'BRAP4': 0.58, 'BRFS3': -0.48, 'BRIN3': 1.0, 'BRIV4': 0.21, 'BRKM3': 0.01, 'BRKM5': 0.01, 'BRKM6': -0.08, 'BRML3': -0.03, 'BRPR3': 0.15, 'BRSR6': 0.36, 'BSEV3': 0.42, 'BTOW3': 0.39, 'BTTL3': -0.16, 'BVMF3': -0.12, 'CARD3': 0.14, 'CCPR3': -0.12, 'CCRO3': 0.76, 'CCXC3': 0.42}\n",
      "BRIV4: {'AALR3': 0.29, 'ABCB2': -0.02, 'ABCB4': 0.01, 'ABEV3': 0.18, 'ADHM3': -0.06, 'AFLT3': -0.01, 'AGRO3': 0.18, 'ALPA3': 0.31, 'ALPA4': 0.36, 'ALSC3': -0.41, 'AMAR3': -0.34, 'ANIM3': 0.17, 'ARZZ3': -0.02, 'ATOM3': -0.49, 'AZEV4': -0.27, 'BAUH4': 0.03, 'BAZA3': -0.09, 'BBAS3': 0.26, 'BBDC3': 0.07, 'BBDC4': 0.14, 'BBRK3': -0.13, 'BBSE3': 0.34, 'BEEF3': -0.08, 'BEES3': 0.12, 'BEES4': 0.21, 'BGIP4': -0.55, 'BMEB4': -0.09, 'BMKS3': 0.21, 'BOBR4': 0.06, 'BPAN4': 0.4, 'BPHA3': -0.61, 'BRAP3': -0.03, 'BRAP4': -0.01, 'BRFS3': 0.23, 'BRIN3': 0.21, 'BRIV4': 1.0, 'BRKM3': 0.07, 'BRKM5': 0.07, 'BRKM6': -0.19, 'BRML3': -0.2, 'BRPR3': -0.57, 'BRSR6': -0.28, 'BSEV3': -0.3, 'BTOW3': 0.65, 'BTTL3': -0.04, 'BVMF3': 0.13, 'CARD3': 0.28, 'CCPR3': -0.58, 'CCRO3': 0.3, 'CCXC3': -0.31}\n",
      "BRKM3: {'AALR3': -0.01, 'ABCB2': 0.66, 'ABCB4': 0.65, 'ABEV3': 0.55, 'ADHM3': -0.28, 'AFLT3': 0.47, 'AGRO3': 0.69, 'ALPA3': -0.11, 'ALPA4': -0.19, 'ALSC3': -0.02, 'AMAR3': -0.5, 'ANIM3': -0.08, 'ARZZ3': 0.55, 'ATOM3': 0.68, 'AZEV4': -0.49, 'BAUH4': 0.54, 'BAZA3': 0.82, 'BBAS3': 0.49, 'BBDC3': 0.23, 'BBDC4': 0.13, 'BBRK3': -0.4, 'BBSE3': 0.02, 'BEEF3': 0.39, 'BEES3': -0.09, 'BEES4': -0.09, 'BGIP4': -0.07, 'BMEB4': -0.48, 'BMKS3': -0.07, 'BOBR4': -0.26, 'BPAN4': -0.06, 'BPHA3': -0.13, 'BRAP3': -0.12, 'BRAP4': -0.08, 'BRFS3': -0.12, 'BRIN3': 0.01, 'BRIV4': 0.07, 'BRKM3': 1.0, 'BRKM5': 0.97, 'BRKM6': 0.93, 'BRML3': -0.42, 'BRPR3': -0.42, 'BRSR6': 0.18, 'BSEV3': -0.56, 'BTOW3': -0.25, 'BTTL3': 0.62, 'BVMF3': 0.86, 'CARD3': 0.63, 'CCPR3': -0.29, 'CCRO3': -0.15, 'CCXC3': -0.16}\n",
      "BRKM5: {'AALR3': 0.04, 'ABCB2': 0.59, 'ABCB4': 0.64, 'ABEV3': 0.51, 'ADHM3': -0.35, 'AFLT3': 0.38, 'AGRO3': 0.73, 'ALPA3': -0.2, 'ALPA4': -0.3, 'ALSC3': -0.05, 'AMAR3': -0.57, 'ANIM3': -0.13, 'ARZZ3': 0.47, 'ATOM3': 0.63, 'AZEV4': -0.5, 'BAUH4': 0.6, 'BAZA3': 0.76, 'BBAS3': 0.42, 'BBDC3': 0.27, 'BBDC4': 0.06, 'BBRK3': -0.42, 'BBSE3': -0.03, 'BEEF3': 0.51, 'BEES3': -0.23, 'BEES4': -0.22, 'BGIP4': -0.08, 'BMEB4': -0.52, 'BMKS3': -0.11, 'BOBR4': -0.3, 'BPAN4': -0.08, 'BPHA3': -0.2, 'BRAP3': -0.23, 'BRAP4': -0.19, 'BRFS3': -0.01, 'BRIN3': 0.01, 'BRIV4': 0.07, 'BRKM3': 0.97, 'BRKM5': 1.0, 'BRKM6': 0.88, 'BRML3': -0.46, 'BRPR3': -0.49, 'BRSR6': 0.14, 'BSEV3': -0.57, 'BTOW3': -0.32, 'BTTL3': 0.65, 'BVMF3': 0.83, 'CARD3': 0.53, 'CCPR3': -0.23, 'CCRO3': -0.21, 'CCXC3': -0.17}\n",
      "BRKM6: {'AALR3': -0.24, 'ABCB2': 0.11, 'ABCB4': 0.53, 'ABEV3': 0.07, 'ADHM3': -0.13, 'AFLT3': 0.05, 'AGRO3': 0.46, 'ALPA3': -0.2, 'ALPA4': -0.24, 'ALSC3': 0.23, 'AMAR3': -0.37, 'ANIM3': 0.36, 'ARZZ3': 0.65, 'ATOM3': 0.78, 'AZEV4': -0.2, 'BAUH4': 0.76, 'BAZA3': 0.72, 'BBAS3': 0.26, 'BBDC3': 0.37, 'BBDC4': 0.08, 'BBRK3': -0.35, 'BBSE3': -0.19, 'BEEF3': 0.47, 'BEES3': -0.31, 'BEES4': -0.34, 'BGIP4': 0.1, 'BMEB4': -0.49, 'BMKS3': -0.18, 'BOBR4': -0.25, 'BPAN4': 0.1, 'BPHA3': -0.02, 'BRAP3': -0.2, 'BRAP4': -0.16, 'BRFS3': 0.04, 'BRIN3': -0.08, 'BRIV4': -0.19, 'BRKM3': 0.93, 'BRKM5': 0.88, 'BRKM6': 1.0, 'BRML3': -0.39, 'BRPR3': -0.31, 'BRSR6': 0.2, 'BSEV3': -0.49, 'BTOW3': -0.32, 'BTTL3': 0.58, 'BVMF3': 0.66, 'CARD3': 0.29, 'CCPR3': -0.17, 'CCRO3': -0.2, 'CCXC3': -0.29}\n",
      "BRML3: {'AALR3': -0.29, 'ABCB2': -0.08, 'ABCB4': 0.09, 'ABEV3': -0.57, 'ADHM3': 0.56, 'AFLT3': 0.12, 'AGRO3': -0.39, 'ALPA3': 0.13, 'ALPA4': 0.1, 'ALSC3': 0.46, 'AMAR3': 0.82, 'ANIM3': 0.65, 'ARZZ3': 0.26, 'ATOM3': 0.12, 'AZEV4': 0.61, 'BAUH4': -0.26, 'BAZA3': -0.41, 'BBAS3': 0.23, 'BBDC3': 0.22, 'BBDC4': 0.52, 'BBRK3': 0.71, 'BBSE3': -0.22, 'BEEF3': -0.06, 'BEES3': 0.03, 'BEES4': 0.01, 'BGIP4': 0.62, 'BMEB4': 0.72, 'BMKS3': 0.21, 'BOBR4': 0.62, 'BPAN4': 0.78, 'BPHA3': 0.59, 'BRAP3': 0.54, 'BRAP4': 0.54, 'BRFS3': -0.37, 'BRIN3': -0.03, 'BRIV4': -0.2, 'BRKM3': -0.42, 'BRKM5': -0.46, 'BRKM6': -0.39, 'BRML3': 1.0, 'BRPR3': 0.8, 'BRSR6': 0.54, 'BSEV3': 0.59, 'BTOW3': 0.15, 'BTTL3': -0.54, 'BVMF3': -0.26, 'CARD3': -0.04, 'CCPR3': 0.7, 'CCRO3': 0.23, 'CCXC3': 0.27}\n",
      "BRPR3: {'AALR3': 0.18, 'ABCB2': -0.12, 'ABCB4': -0.09, 'ABEV3': -0.38, 'ADHM3': -0.09, 'AFLT3': 0.3, 'AGRO3': -0.48, 'ALPA3': 0.5, 'ALPA4': 0.54, 'ALSC3': 0.59, 'AMAR3': 0.89, 'ANIM3': 0.51, 'ARZZ3': 0.23, 'ATOM3': 0.15, 'AZEV4': 0.66, 'BAUH4': -0.34, 'BAZA3': -0.45, 'BBAS3': 0.01, 'BBDC3': 0.06, 'BBDC4': 0.33, 'BBRK3': 0.78, 'BBSE3': -0.55, 'BEEF3': -0.22, 'BEES3': 0.1, 'BEES4': 0.02, 'BGIP4': 0.89, 'BMEB4': 0.78, 'BMKS3': 0.23, 'BOBR4': 0.68, 'BPAN4': 0.6, 'BPHA3': 0.65, 'BRAP3': 0.6, 'BRAP4': 0.59, 'BRFS3': -0.39, 'BRIN3': 0.15, 'BRIV4': -0.57, 'BRKM3': -0.42, 'BRKM5': -0.49, 'BRKM6': -0.31, 'BRML3': 0.8, 'BRPR3': 1.0, 'BRSR6': 0.62, 'BSEV3': 0.6, 'BTOW3': -0.17, 'BTTL3': -0.57, 'BVMF3': -0.41, 'CARD3': -0.27, 'CCPR3': 0.91, 'CCRO3': 0.18, 'CCXC3': 0.36}\n",
      "BRSR6: {'AALR3': -0.1, 'ABCB2': 0.48, 'ABCB4': 0.6, 'ABEV3': -0.01, 'ADHM3': 0.55, 'AFLT3': 0.56, 'AGRO3': 0.04, 'ALPA3': -0.1, 'ALPA4': -0.21, 'ALSC3': 0.32, 'AMAR3': 0.69, 'ANIM3': 0.5, 'ARZZ3': 0.39, 'ATOM3': 0.88, 'AZEV4': 0.51, 'BAUH4': 0.12, 'BAZA3': 0.05, 'BBAS3': 0.67, 'BBDC3': 0.3, 'BBDC4': 0.65, 'BBRK3': 0.67, 'BBSE3': -0.13, 'BEEF3': -0.04, 'BEES3': 0.14, 'BEES4': 0.05, 'BGIP4': 0.74, 'BMEB4': 0.54, 'BMKS3': 0.46, 'BOBR4': 0.61, 'BPAN4': 0.49, 'BPHA3': 0.61, 'BRAP3': 0.68, 'BRAP4': 0.68, 'BRFS3': -0.61, 'BRIN3': 0.36, 'BRIV4': -0.28, 'BRKM3': 0.18, 'BRKM5': 0.14, 'BRKM6': 0.2, 'BRML3': 0.54, 'BRPR3': 0.62, 'BRSR6': 1.0, 'BSEV3': 0.16, 'BTOW3': -0.15, 'BTTL3': -0.17, 'BVMF3': 0.15, 'CARD3': 0.32, 'CCPR3': 0.55, 'CCRO3': 0.34, 'CCXC3': -0.04}\n",
      "BSEV3: {'AALR3': -0.24, 'ABCB2': -0.22, 'ABCB4': -0.24, 'ABEV3': -0.43, 'ADHM3': 0.14, 'AFLT3': -0.49, 'AGRO3': -0.35, 'ALPA3': -0.16, 'ALPA4': 0.07, 'ALSC3': 0.5, 'AMAR3': 0.72, 'ANIM3': 0.01, 'ARZZ3': -0.14, 'ATOM3': -0.29, 'AZEV4': 0.54, 'BAUH4': -0.14, 'BAZA3': -0.45, 'BBAS3': -0.33, 'BBDC3': 0.21, 'BBDC4': -0.03, 'BBRK3': 0.75, 'BBSE3': -0.58, 'BEEF3': -0.28, 'BEES3': -0.63, 'BEES4': -0.61, 'BGIP4': 0.42, 'BMEB4': 0.75, 'BMKS3': 0.24, 'BOBR4': 0.38, 'BPAN4': 0.07, 'BPHA3': 0.68, 'BRAP3': 0.06, 'BRAP4': 0.08, 'BRFS3': 0.13, 'BRIN3': 0.42, 'BRIV4': -0.3, 'BRKM3': -0.56, 'BRKM5': -0.57, 'BRKM6': -0.49, 'BRML3': 0.59, 'BRPR3': 0.6, 'BRSR6': 0.16, 'BSEV3': 1.0, 'BTOW3': -0.16, 'BTTL3': -0.36, 'BVMF3': -0.42, 'CARD3': -0.53, 'CCPR3': 0.74, 'CCRO3': 0.41, 'CCXC3': 0.25}\n",
      "BTOW3: {'AALR3': 0.18, 'ABCB2': -0.06, 'ABCB4': -0.15, 'ABEV3': -0.39, 'ADHM3': -0.21, 'AFLT3': -0.17, 'AGRO3': -0.23, 'ALPA3': 0.51, 'ALPA4': 0.59, 'ALSC3': -0.27, 'AMAR3': 0.09, 'ANIM3': 0.8, 'ARZZ3': -0.06, 'ATOM3': 0.16, 'AZEV4': 0.15, 'BAUH4': -0.22, 'BAZA3': -0.21, 'BBAS3': 0.33, 'BBDC3': -0.01, 'BBDC4': 0.33, 'BBRK3': 0.19, 'BBSE3': 0.54, 'BEEF3': -0.37, 'BEES3': 0.31, 'BEES4': 0.39, 'BGIP4': -0.33, 'BMEB4': 0.23, 'BMKS3': 0.48, 'BOBR4': 0.31, 'BPAN4': 0.71, 'BPHA3': -0.48, 'BRAP3': 0.32, 'BRAP4': 0.35, 'BRFS3': -0.03, 'BRIN3': 0.39, 'BRIV4': 0.65, 'BRKM3': -0.25, 'BRKM5': -0.32, 'BRKM6': -0.32, 'BRML3': 0.15, 'BRPR3': -0.17, 'BRSR6': -0.15, 'BSEV3': -0.16, 'BTOW3': 1.0, 'BTTL3': -0.3, 'BVMF3': -0.17, 'CARD3': 0.2, 'CCPR3': -0.43, 'CCRO3': 0.5, 'CCXC3': -0.59}\n",
      "BTTL3: {'AALR3': 0.43, 'ABCB2': 0.3, 'ABCB4': 0.4, 'ABEV3': 0.39, 'ADHM3': 0.14, 'AFLT3': 0.02, 'AGRO3': 0.6, 'ALPA3': -0.13, 'ALPA4': -0.16, 'ALSC3': -0.06, 'AMAR3': -0.68, 'ANIM3': -0.59, 'ARZZ3': 0.16, 'ATOM3': -0.31, 'AZEV4': -0.57, 'BAUH4': 0.38, 'BAZA3': 0.74, 'BBAS3': 0.07, 'BBDC3': 0.09, 'BBDC4': -0.22, 'BBRK3': -0.58, 'BBSE3': 0.14, 'BEEF3': 0.37, 'BEES3': -0.17, 'BEES4': -0.17, 'BGIP4': -0.36, 'BMEB4': -0.64, 'BMKS3': -0.22, 'BOBR4': -0.57, 'BPAN4': -0.38, 'BPHA3': -0.19, 'BRAP3': -0.44, 'BRAP4': -0.44, 'BRFS3': 0.14, 'BRIN3': -0.16, 'BRIV4': -0.04, 'BRKM3': 0.62, 'BRKM5': 0.65, 'BRKM6': 0.58, 'BRML3': -0.54, 'BRPR3': -0.57, 'BRSR6': -0.17, 'BSEV3': -0.36, 'BTOW3': -0.3, 'BTTL3': 1.0, 'BVMF3': 0.69, 'CARD3': 0.32, 'CCPR3': -0.33, 'CCRO3': -0.29, 'CCXC3': -0.06}\n",
      "BVMF3: {'AALR3': 0.19, 'ABCB2': 0.81, 'ABCB4': 0.74, 'ABEV3': 0.63, 'ADHM3': -0.16, 'AFLT3': 0.39, 'AGRO3': 0.76, 'ALPA3': -0.07, 'ALPA4': -0.13, 'ALSC3': 0.12, 'AMAR3': -0.46, 'ANIM3': -0.16, 'ARZZ3': 0.64, 'ATOM3': 0.68, 'AZEV4': -0.6, 'BAUH4': 0.51, 'BAZA3': 0.75, 'BBAS3': 0.51, 'BBDC3': 0.38, 'BBDC4': 0.25, 'BBRK3': -0.4, 'BBSE3': 0.11, 'BEEF3': 0.47, 'BEES3': -0.19, 'BEES4': -0.17, 'BGIP4': -0.17, 'BMEB4': -0.48, 'BMKS3': -0.08, 'BOBR4': -0.31, 'BPAN4': -0.09, 'BPHA3': -0.12, 'BRAP3': -0.2, 'BRAP4': -0.15, 'BRFS3': -0.01, 'BRIN3': -0.12, 'BRIV4': 0.13, 'BRKM3': 0.86, 'BRKM5': 0.83, 'BRKM6': 0.66, 'BRML3': -0.26, 'BRPR3': -0.41, 'BRSR6': 0.15, 'BSEV3': -0.42, 'BTOW3': -0.17, 'BTTL3': 0.69, 'BVMF3': 1.0, 'CARD3': 0.65, 'CCPR3': -0.22, 'CCRO3': -0.22, 'CCXC3': -0.08}\n",
      "CARD3: {'AALR3': 0.1, 'ABCB2': 0.67, 'ABCB4': 0.56, 'ABEV3': 0.53, 'ADHM3': 0.25, 'AFLT3': 0.59, 'AGRO3': 0.44, 'ALPA3': 0.18, 'ALPA4': 0.16, 'ALSC3': -0.26, 'AMAR3': -0.19, 'ANIM3': -0.09, 'ARZZ3': 0.55, 'ATOM3': 0.8, 'AZEV4': -0.35, 'BAUH4': 0.09, 'BAZA3': 0.52, 'BBAS3': 0.67, 'BBDC3': -0.04, 'BBDC4': 0.29, 'BBRK3': 0.0, 'BBSE3': 0.1, 'BEEF3': -0.08, 'BEES3': 0.37, 'BEES4': 0.38, 'BGIP4': -0.15, 'BMEB4': -0.01, 'BMKS3': 0.32, 'BOBR4': 0.18, 'BPAN4': 0.05, 'BPHA3': 0.03, 'BRAP3': 0.38, 'BRAP4': 0.41, 'BRFS3': -0.49, 'BRIN3': 0.14, 'BRIV4': 0.28, 'BRKM3': 0.63, 'BRKM5': 0.53, 'BRKM6': 0.29, 'BRML3': -0.04, 'BRPR3': -0.27, 'BRSR6': 0.32, 'BSEV3': -0.53, 'BTOW3': 0.2, 'BTTL3': 0.32, 'BVMF3': 0.65, 'CARD3': 1.0, 'CCPR3': -0.42, 'CCRO3': 0.33, 'CCXC3': -0.13}\n",
      "CCPR3: {'AALR3': -0.1, 'ABCB2': -0.36, 'ABCB4': 0.2, 'ABEV3': -0.71, 'ADHM3': 0.21, 'AFLT3': 0.08, 'AGRO3': -0.2, 'ALPA3': -0.19, 'ALPA4': -0.28, 'ALSC3': 0.73, 'AMAR3': 0.77, 'ANIM3': 0.43, 'ARZZ3': 0.18, 'ATOM3': 0.09, 'AZEV4': 0.46, 'BAUH4': 0.05, 'BAZA3': -0.32, 'BBAS3': -0.05, 'BBDC3': 0.39, 'BBDC4': 0.33, 'BBRK3': 0.56, 'BBSE3': -0.65, 'BEEF3': 0.36, 'BEES3': -0.4, 'BEES4': -0.46, 'BGIP4': 0.86, 'BMEB4': 0.48, 'BMKS3': -0.09, 'BOBR4': 0.38, 'BPAN4': 0.72, 'BPHA3': 0.6, 'BRAP3': 0.19, 'BRAP4': 0.18, 'BRFS3': -0.08, 'BRIN3': -0.12, 'BRIV4': -0.58, 'BRKM3': -0.29, 'BRKM5': -0.23, 'BRKM6': -0.17, 'BRML3': 0.7, 'BRPR3': 0.91, 'BRSR6': 0.55, 'BSEV3': 0.74, 'BTOW3': -0.43, 'BTTL3': -0.33, 'BVMF3': -0.22, 'CARD3': -0.42, 'CCPR3': 1.0, 'CCRO3': -0.2, 'CCXC3': 0.44}\n",
      "CCRO3: {'AALR3': 0.23, 'ABCB2': 0.39, 'ABCB4': -0.06, 'ABEV3': -0.11, 'ADHM3': 0.3, 'AFLT3': 0.17, 'AGRO3': -0.11, 'ALPA3': 0.24, 'ALPA4': 0.25, 'ALSC3': -0.4, 'AMAR3': 0.5, 'ANIM3': 0.5, 'ARZZ3': -0.23, 'ATOM3': 0.71, 'AZEV4': 0.71, 'BAUH4': -0.57, 'BAZA3': -0.22, 'BBAS3': 0.38, 'BBDC3': -0.34, 'BBDC4': 0.18, 'BBRK3': 0.64, 'BBSE3': -0.03, 'BEEF3': -0.61, 'BEES3': 0.56, 'BEES4': 0.59, 'BGIP4': 0.02, 'BMEB4': 0.63, 'BMKS3': 0.62, 'BOBR4': 0.74, 'BPAN4': 0.48, 'BPHA3': 0.52, 'BRAP3': 0.78, 'BRAP4': 0.76, 'BRFS3': -0.64, 'BRIN3': 0.76, 'BRIV4': 0.3, 'BRKM3': -0.15, 'BRKM5': -0.21, 'BRKM6': -0.2, 'BRML3': 0.23, 'BRPR3': 0.18, 'BRSR6': 0.34, 'BSEV3': 0.41, 'BTOW3': 0.5, 'BTTL3': -0.29, 'BVMF3': -0.22, 'CARD3': 0.33, 'CCPR3': -0.2, 'CCRO3': 1.0, 'CCXC3': -0.08}\n",
      "CCXC3: {'AALR3': -0.2, 'ABCB2': -0.04, 'ABCB4': -0.27, 'ABEV3': 0.24, 'ADHM3': 0.33, 'AFLT3': 0.14, 'AGRO3': -0.0, 'ALPA3': 0.13, 'ALPA4': 0.02, 'ALSC3': 0.03, 'AMAR3': 0.28, 'ANIM3': -0.67, 'ARZZ3': -0.04, 'ATOM3': -0.88, 'AZEV4': 0.27, 'BAUH4': -0.62, 'BAZA3': -0.2, 'BBAS3': -0.43, 'BBDC3': -0.42, 'BBDC4': -0.31, 'BBRK3': 0.32, 'BBSE3': -0.36, 'BEEF3': 0.1, 'BEES3': 0.27, 'BEES4': 0.17, 'BGIP4': 0.16, 'BMEB4': 0.41, 'BMKS3': -0.11, 'BOBR4': 0.29, 'BPAN4': -0.38, 'BPHA3': 0.51, 'BRAP3': 0.21, 'BRAP4': 0.1, 'BRFS3': -0.37, 'BRIN3': 0.42, 'BRIV4': -0.31, 'BRKM3': -0.16, 'BRKM5': -0.17, 'BRKM6': -0.29, 'BRML3': 0.27, 'BRPR3': 0.36, 'BRSR6': -0.04, 'BSEV3': 0.25, 'BTOW3': -0.59, 'BTTL3': -0.06, 'BVMF3': -0.08, 'CARD3': -0.13, 'CCPR3': 0.44, 'CCRO3': -0.08, 'CCXC3': 1.0}\n"
     ]
    }
   ],
   "source": [
    "#Uma função para imprimir cada linha de um dicionário em uma linha da saída padrão\n",
    "def imprime_dict(dicionario):\n",
    "    #Para cada chave do dicionário\n",
    "    for elem in dicionario:\n",
    "        #Imprima os elementos desta chave\n",
    "        print(elem + \": \" + str(dicionario[elem]))\n",
    "imprime_dict(correlacao)"
   ]
  },
  {
   "cell_type": "code",
   "execution_count": 159,
   "metadata": {},
   "outputs": [
    {
     "data": {
      "text/plain": [
       "dict_keys(['AALR3', 'ABCB2', 'ABCB4', 'ABEV3', 'ADHM3', 'AFLT3', 'AGRO3', 'ALPA3', 'ALPA4', 'ALSC3', 'AMAR3', 'ANIM3', 'ARZZ3', 'ATOM3', 'AZEV4', 'BAUH4', 'BAZA3', 'BBAS3', 'BBDC3', 'BBDC4', 'BBRK3', 'BBSE3', 'BEEF3', 'BEES3', 'BEES4', 'BGIP4', 'BMEB4', 'BMKS3', 'BOBR4', 'BPAN4', 'BPHA3', 'BRAP3', 'BRAP4', 'BRFS3', 'BRIN3', 'BRIV4', 'BRKM3', 'BRKM5', 'BRKM6', 'BRML3', 'BRPR3', 'BRSR6', 'BSEV3', 'BTOW3', 'BTTL3', 'BVMF3', 'CARD3', 'CCPR3', 'CCRO3', 'CCXC3'])"
      ]
     },
     "execution_count": 159,
     "metadata": {},
     "output_type": "execute_result"
    }
   ],
   "source": [
    "correlacao.keys()"
   ]
  },
  {
   "cell_type": "code",
   "execution_count": 167,
   "metadata": {},
   "outputs": [
    {
     "data": {
      "text/plain": [
       "{'AALR3': -0.19,\n",
       " 'ABCB2': 0.5,\n",
       " 'ABCB4': 0.59,\n",
       " 'ABEV3': -0.14,\n",
       " 'ADHM3': 0.08,\n",
       " 'AFLT3': 0.2,\n",
       " 'AGRO3': -0.03,\n",
       " 'ALPA3': 0.1,\n",
       " 'ALPA4': 0.08,\n",
       " 'ALSC3': 0.52,\n",
       " 'AMAR3': 0.44,\n",
       " 'ANIM3': 0.73,\n",
       " 'ARZZ3': 0.52,\n",
       " 'ATOM3': 0.77,\n",
       " 'AZEV4': 0.16,\n",
       " 'BAUH4': 0.28,\n",
       " 'BAZA3': 0.08,\n",
       " 'BBAS3': 0.75,\n",
       " 'BBDC3': 0.71,\n",
       " 'BBDC4': 1.0,\n",
       " 'BBRK3': 0.35,\n",
       " 'BBSE3': 0.34,\n",
       " 'BEEF3': 0.11,\n",
       " 'BEES3': -0.07,\n",
       " 'BEES4': -0.07,\n",
       " 'BGIP4': 0.41,\n",
       " 'BMEB4': 0.24,\n",
       " 'BMKS3': 0.29,\n",
       " 'BOBR4': 0.31,\n",
       " 'BPAN4': 0.6,\n",
       " 'BPHA3': 0.14,\n",
       " 'BRAP3': 0.39,\n",
       " 'BRAP4': 0.42,\n",
       " 'BRFS3': -0.13,\n",
       " 'BRIN3': 0.1,\n",
       " 'BRIV4': 0.14,\n",
       " 'BRKM3': 0.13,\n",
       " 'BRKM5': 0.06,\n",
       " 'BRKM6': 0.08,\n",
       " 'BRML3': 0.52,\n",
       " 'BRPR3': 0.33,\n",
       " 'BRSR6': 0.65,\n",
       " 'BSEV3': -0.03,\n",
       " 'BTOW3': 0.33,\n",
       " 'BTTL3': -0.22,\n",
       " 'BVMF3': 0.25,\n",
       " 'CARD3': 0.29,\n",
       " 'CCPR3': 0.33,\n",
       " 'CCRO3': 0.18,\n",
       " 'CCXC3': -0.31}"
      ]
     },
     "execution_count": 167,
     "metadata": {},
     "output_type": "execute_result"
    }
   ],
   "source": [
    "correlacao[\"BBDC4\"]"
   ]
  },
  {
   "cell_type": "markdown",
   "metadata": {},
   "source": [
    "### Plotando os papéis com pandas.plot\n",
    "Agora podemos plotar nossos papeis"
   ]
  },
  {
   "cell_type": "code",
   "execution_count": 178,
   "metadata": {},
   "outputs": [],
   "source": [
    "def plot_papeis(p1,*papeis):\n",
    "    %matplotlib inline\n",
    "    s=[]\n",
    "    s.append(pd.Series(df1[\"PREMED\"].where(df1[\"CODNEG\"] == p1).dropna().tolist(),\n",
    "                        index=df1[\"DATANEG\"].where(df1[\"CODNEG\"] == p1).dropna(),\n",
    "                        name=p1))\n",
    "    #caso haja mais papeis, cria um vetor de papéis\n",
    "    if len(papeis)>0:\n",
    "        for p in papeis:\n",
    "            s.append(pd.Series(df1[\"PREMED\"].where(df1[\"CODNEG\"] == p).dropna().tolist(),\n",
    "                        index=df1[\"DATANEG\"].where(df1[\"CODNEG\"] == p).dropna(),\n",
    "                        name=p))\n",
    "    #cria um dataframe com cada papel na coluna (axis=1) e as datas (índices) nas linhas\n",
    "    dfplot = pd.concat(s, axis=1)\n",
    "    #plota como linha\n",
    "    dfplot.plot.line(figsize=(18, 9))"
   ]
  },
  {
   "cell_type": "code",
   "execution_count": 179,
   "metadata": {},
   "outputs": [
    {
     "data": {
      "image/png": "[encoded data removed]",
      "text/plain": [
       "<matplotlib.figure.Figure at 0x7f2c83e5cda0>"
      ]
     },
     "metadata": {},
     "output_type": "display_data"
    }
   ],
   "source": [
    "plot_papeis(\"BBAS3\",\"BBDC4\",\"BTOW3\")\n",
    "#BBAS3: BANCO DO BRASIL ON\n",
    "#BBDC4: BRADESCO PN\n",
    "#BTOW3: B2W DIGITAL ON"
   ]
  },
  {
   "cell_type": "markdown",
   "metadata": {},
   "source": [
    "### Bônus: Plotando um Candlestick"
   ]
  },
  {
   "cell_type": "code",
   "execution_count": 196,
   "metadata": {},
   "outputs": [],
   "source": [
    "import matplotlib.pyplot as plt\n",
    "from matplotlib.finance import candlestick_ohlc\n",
    "import matplotlib.dates as mdates"
   ]
  },
  {
   "cell_type": "code",
   "execution_count": 260,
   "metadata": {},
   "outputs": [],
   "source": [
    "#DataPrep\n",
    "df2candle = df.copy()\n",
    "#Converção de string para datetime\n",
    "df2candle[\"DATANEG\"] = pd.to_datetime(df2candle[\"DATPRE\"])\n",
    "df2candle.drop(\"DATPRE\",axis=1,inplace=True)\n",
    "#Filtrando ano de 2017\n",
    "df2candle = df2candle.loc[df2candle[\"DATANEG\"].dt.year == 2018, :]\n",
    "#Recortando apenas colunas de interesse e papel ITUB4\n",
    "df2candle = df2candle.loc[df2candle[\"CODNEG\"] == \"ITUB4\",[\"DATANEG\",\"PREABE\",\"PREMAX\",\"PREMIN\",\"PREULT\"]]\n",
    "#Convertendo data para padrão de datas do matplotlib\n",
    "df2candle[\"DATANEG\"] = df2candle[\"DATANEG\"].map(mdates.date2num)"
   ]
  },
  {
   "cell_type": "code",
   "execution_count": 262,
   "metadata": {},
   "outputs": [
    {
     "data": {
      "image/png": "[encoded data removed]",
      "text/plain": [
       "<matplotlib.figure.Figure at 0x7f2c32f07eb8>"
      ]
     },
     "metadata": {},
     "output_type": "display_data"
    }
   ],
   "source": [
    "#Plot\n",
    "#Cria canvas pra plotagem\n",
    "f1, ax = plt.subplots(figsize = (18,9))\n",
    "#Cria gráfico candlestick\n",
    "candlestick_ohlc(ax, df2candle.values, width=.6, colorup='green', colordown='red')\n",
    "#Formata as datas do matplotlib com formato YYYY-MM\n",
    "ax.xaxis.set_major_formatter(mdates.DateFormatter('%d-%m-%Y'))\n",
    "#Adiciona título\n",
    "plt.title(\"ITUB4 - 2018\")\n",
    "#Imprime o gráfico\n",
    "plt.show()"
   ]
  }
 ],
 "metadata": {
  "kernelspec": {
   "display_name": "Python 3",
   "language": "python",
   "name": "python3"
  },
  "language_info": {
   "codemirror_mode": {
    "name": "ipython",
    "version": 3
   },
   "file_extension": ".py",
   "mimetype": "text/x-python",
   "name": "python",
   "nbconvert_exporter": "python",
   "pygments_lexer": "ipython3",
   "version": "3.6.4"
  }
 },
 "nbformat": 4,
 "nbformat_minor": 2
}
